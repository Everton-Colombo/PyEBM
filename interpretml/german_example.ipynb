{
 "cells": [
  {
   "cell_type": "code",
   "execution_count": 2,
   "metadata": {},
   "outputs": [],
   "source": [
    "from interpretml_utils import *\n",
    "import pandas as pd\n",
    "import numpy as np\n",
    "import matplotlib.pyplot as plt\n",
    "from sklearn.model_selection import train_test_split"
   ]
  },
  {
   "cell_type": "markdown",
   "metadata": {},
   "source": [
    "# Loading dataset\n",
    "### (German)"
   ]
  },
  {
   "cell_type": "code",
   "execution_count": 3,
   "metadata": {},
   "outputs": [],
   "source": [
    "# Load German Credit Dataset\n",
    "url = \"https://archive.ics.uci.edu/ml/machine-learning-databases/statlog/german/german.data\"\n",
    "columns = [\n",
    "    'checking_status', 'duration', 'credit_history', 'purpose', 'credit_amount',\n",
    "    'savings_account', 'employment', 'installment_rate', 'personal_status_sex',\n",
    "    'other_debtors', 'present_residence', 'property', 'age', 'other_installment_plans',\n",
    "    'housing', 'existing_credits', 'job', 'num_maintenance', 'telephone', 'foreign_worker', 'target'\n",
    "]\n",
    "\n",
    "df = pd.read_csv(url, sep=' ', names=columns, header=None)\n",
    "\n",
    "# Preprocessing\n",
    "# Create binary sex feature (Male=1, Female=0)\n",
    "df['sex'] = df['personal_status_sex'].apply(lambda x: 'male' if x in ['A91', 'A93', 'A94'] else 'female')\n",
    "\n",
    "# Convert target to binary (Good credit=1, Bad credit=0)\n",
    "df['target'] = df['target'].replace({1: 1, 2: 0})\n",
    "\n",
    "features = df.columns.tolist()\n",
    "features.remove('target')\n",
    "\n",
    "X = df[features]\n",
    "y = df['target']\n",
    "\n",
    "# Split data\n",
    "X_train, X_test, y_train, y_test = train_test_split(X, y, test_size=0.2, random_state=42)"
   ]
  },
  {
   "cell_type": "markdown",
   "metadata": {},
   "source": [
    "# Training baseline models"
   ]
  },
  {
   "cell_type": "code",
   "execution_count": 10,
   "metadata": {},
   "outputs": [
    {
     "name": "stdout",
     "output_type": "stream",
     "text": [
      "done\n"
     ]
    }
   ],
   "source": [
    "male_model = ExplainableBoostingClassifier(feature_names=X.columns.tolist())\n",
    "male_model.fit(X_train[X_train['sex'] == 'male'], y_train[X_train['sex'] == 'male'])\n",
    "\n",
    "female_model = ExplainableBoostingClassifier(feature_names=X.columns.tolist())\n",
    "female_model.fit(X_train[X_train['sex'] == 'female'], y_train[X_train['sex'] == 'female'])\n",
    "\n",
    "normal_model = ExplainableBoostingClassifier(feature_names=X.columns.tolist())\n",
    "normal_model.fit(X_train, y_train)\n",
    "\n",
    "print(\"done\")"
   ]
  },
  {
   "cell_type": "code",
   "execution_count": 5,
   "metadata": {},
   "outputs": [],
   "source": [
    "ff_model = CombinedEBM([male_model, female_model], [0.5, 0.5])\n",
    "ff_model_obj = ff_model.get_model_object()\n",
    "\n",
    "merged_model = merge_ebms([male_model, female_model])"
   ]
  },
  {
   "cell_type": "markdown",
   "metadata": {},
   "source": [
    "# Displaying with custom EBMVisualizer"
   ]
  },
  {
   "cell_type": "code",
   "execution_count": 6,
   "metadata": {},
   "outputs": [
    {
     "data": {
      "application/vnd.jupyter.widget-view+json": {
       "model_id": "34c020328ec24f4385884bb38f09ce74",
       "version_major": 2,
       "version_minor": 0
      },
      "text/plain": [
       "HBox(children=(VBox(children=(Dropdown(description='Feature:', options=(('checking_status', 0), ('duration', 1…"
      ]
     },
     "metadata": {},
     "output_type": "display_data"
    }
   ],
   "source": [
    "visualizer = InterpretmlEBMVisualizer([male_model, female_model, normal_model, ff_model_obj, merged_model], [\"Male Model\", \"Female Model\", \"Normal Model\", \"50-50 Model\", \"Merged Model\"])\n",
    "visualizer.show()"
   ]
  },
  {
   "cell_type": "markdown",
   "metadata": {},
   "source": [
    "# Group Performance Plots"
   ]
  },
  {
   "cell_type": "code",
   "execution_count": 12,
   "metadata": {},
   "outputs": [
    {
     "name": "stdout",
     "output_type": "stream",
     "text": [
      "done\n"
     ]
    }
   ],
   "source": [
    "male_model = ExplainableBoostingClassifier(feature_names=X.columns.tolist())\n",
    "male_model.fit(X_train[X_train['sex'] == 'male'], y_train[X_train['sex'] == 'male'])\n",
    "\n",
    "female_model = ExplainableBoostingClassifier(feature_names=X.columns.tolist())\n",
    "female_model.fit(X_train[X_train['sex'] == 'female'], y_train[X_train['sex'] == 'female'])\n",
    "\n",
    "normal_model = ExplainableBoostingClassifier(feature_names=X.columns.tolist())\n",
    "normal_model.fit(X_train, y_train)\n",
    "\n",
    "print(\"done\")"
   ]
  },
  {
   "cell_type": "code",
   "execution_count": 13,
   "metadata": {},
   "outputs": [],
   "source": [
    "foi = 'sex'\n",
    "_x = X_train\n",
    "_y = y_train\n",
    "\n",
    "male_mask = _x[foi] == 'male'\n",
    "female_mask = _x[foi] == 'female'"
   ]
  },
  {
   "cell_type": "code",
   "execution_count": 14,
   "metadata": {},
   "outputs": [
    {
     "name": "stderr",
     "output_type": "stream",
     "text": [
      "Evaluating combinations: 100%|██████████| 100/100 [00:00<00:00, 107.44it/s]\n"
     ]
    },
    {
     "data": {
      "application/vnd.jupyter.widget-view+json": {
       "model_id": "8818ec7b6b7841cb87752a97ae1fe068",
       "version_major": 2,
       "version_minor": 0
      },
      "text/plain": [
       "HBox(children=(VBox(children=(HTML(value='<b>Model Details:</b>'), Output()), layout=Layout(margin='0 20px', w…"
      ]
     },
     "metadata": {},
     "output_type": "display_data"
    }
   ],
   "source": [
    "%matplotlib widget\n",
    "plt.ioff()\n",
    "analyzer = GroupPerformanceAnalyzer(\n",
    "    male_model, female_model, normal_model,\n",
    "    _x, _y,\n",
    "    male_mask=male_mask, female_mask=female_mask,\n",
    "    feature_of_interest='sex',\n",
    "    combine_strategy='post',\n",
    "    metric='log_likelihood',\n",
    ")\n",
    "analyzer.generate_plot(n_combinations=100)"
   ]
  }
 ],
 "metadata": {
  "kernelspec": {
   "display_name": "Python 3",
   "language": "python",
   "name": "python3"
  },
  "language_info": {
   "codemirror_mode": {
    "name": "ipython",
    "version": 3
   },
   "file_extension": ".py",
   "mimetype": "text/x-python",
   "name": "python",
   "nbconvert_exporter": "python",
   "pygments_lexer": "ipython3",
   "version": "3.10.12"
  }
 },
 "nbformat": 4,
 "nbformat_minor": 2
}

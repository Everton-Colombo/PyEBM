{
 "cells": [
  {
   "cell_type": "code",
   "execution_count": null,
   "metadata": {},
   "outputs": [],
   "source": [
    "from interpretml_tools import *\n",
    "\n",
    "from interpret.glassbox import ExplainableBoostingClassifier, ExplainableBoostingRegressor, merge_ebms\n",
    "\n",
    "import pandas as pd\n",
    "import numpy as np  \n",
    "import matplotlib.pyplot as plt\n",
    "from sklearn.model_selection import train_test_split"
   ]
  },
  {
   "cell_type": "markdown",
   "metadata": {},
   "source": [
    "# Loading dataset\n",
    "### (German)"
   ]
  },
  {
   "cell_type": "code",
   "execution_count": 2,
   "metadata": {},
   "outputs": [],
   "source": [
    "# Load German Credit Dataset\n",
    "url = \"https://archive.ics.uci.edu/ml/machine-learning-databases/statlog/german/german.data\"\n",
    "columns = [\n",
    "    'checking_status', 'duration', 'credit_history', 'purpose', 'credit_amount',\n",
    "    'savings_account', 'employment', 'installment_rate', 'personal_status_sex',\n",
    "    'other_debtors', 'present_residence', 'property', 'age', 'other_installment_plans',\n",
    "    'housing', 'existing_credits', 'job', 'num_maintenance', 'telephone', 'foreign_worker', 'target'\n",
    "]\n",
    "\n",
    "df = pd.read_csv(url, sep=' ', names=columns, header=None)\n",
    "\n",
    "# Preprocessing\n",
    "# Create binary sex feature (Male=1, Female=0)\n",
    "df['sex'] = df['personal_status_sex'].apply(lambda x: 'male' if x in ['A91', 'A93', 'A94'] else 'female')\n",
    "\n",
    "# Convert target to binary (Good credit=1, Bad credit=0)\n",
    "df['target'] = df['target'].replace({1: 1, 2: 0})\n",
    "\n",
    "features = df.columns.tolist()\n",
    "features.remove('target')\n",
    "\n",
    "X = df[features]\n",
    "y = df['target']\n",
    "\n",
    "# Split data\n",
    "X_train, X_test, y_train, y_test = train_test_split(X, y, test_size=0.2, random_state=42)"
   ]
  },
  {
   "cell_type": "markdown",
   "metadata": {},
   "source": [
    "# Training baseline models"
   ]
  },
  {
   "cell_type": "code",
   "execution_count": 4,
   "metadata": {},
   "outputs": [
    {
     "name": "stdout",
     "output_type": "stream",
     "text": [
      "done\n"
     ]
    }
   ],
   "source": [
    "male_model = ExplainableBoostingClassifier(feature_names=X.columns.tolist())\n",
    "male_model.fit(X_train[X_train['sex'] == 'male'], y_train[X_train['sex'] == 'male'])\n",
    "\n",
    "female_model = ExplainableBoostingClassifier(feature_names=X.columns.tolist())\n",
    "female_model.fit(X_train[X_train['sex'] == 'female'], y_train[X_train['sex'] == 'female'])\n",
    "\n",
    "normal_model = ExplainableBoostingClassifier(feature_names=X.columns.tolist())\n",
    "normal_model.fit(X_train, y_train)\n",
    "\n",
    "print(\"done\")"
   ]
  },
  {
   "cell_type": "code",
   "execution_count": 5,
   "metadata": {},
   "outputs": [],
   "source": [
    "ff_model = CombinedEBM([male_model, female_model], [0.5, 0.5]).get_model_object()"
   ]
  },
  {
   "cell_type": "code",
   "execution_count": 6,
   "metadata": {},
   "outputs": [],
   "source": [
    "combined = merge_ebms([male_model, female_model])"
   ]
  },
  {
   "cell_type": "markdown",
   "metadata": {},
   "source": [
    "# Displaying with custom EBMVisualizer"
   ]
  },
  {
   "cell_type": "code",
   "execution_count": 7,
   "metadata": {},
   "outputs": [
    {
     "data": {
      "application/vnd.jupyter.widget-view+json": {
       "model_id": "f64a2a712fd94807b29bf4c421acc03d",
       "version_major": 2,
       "version_minor": 0
      },
      "text/plain": [
       "HBox(children=(VBox(children=(Dropdown(description='Feature:', options=(('checking_status', 0), ('duration', 1…"
      ]
     },
     "metadata": {},
     "output_type": "display_data"
    }
   ],
   "source": [
    "%matplotlib widget\n",
    "plt.ioff()\n",
    "visualizer = InterpretmlEBMVisualizer([male_model, female_model, normal_model, ff_model, combined], [\"Male Model\", \"Female Model\", \"Normal Model\", \"50-50 Model\", \"Combined\"])\n",
    "visualizer.show()"
   ]
  },
  {
   "cell_type": "markdown",
   "metadata": {},
   "source": [
    "# Group Performance Plots"
   ]
  },
  {
   "cell_type": "code",
   "execution_count": 3,
   "metadata": {},
   "outputs": [
    {
     "name": "stdout",
     "output_type": "stream",
     "text": [
      "done\n"
     ]
    }
   ],
   "source": [
    "male_model = ExplainableBoostingClassifier(feature_names=X.columns.tolist())\n",
    "male_model.fit(X_train[X_train['sex'] == 'male'], y_train[X_train['sex'] == 'male'])\n",
    "\n",
    "female_model = ExplainableBoostingClassifier(feature_names=X.columns.tolist())\n",
    "female_model.fit(X_train[X_train['sex'] == 'female'], y_train[X_train['sex'] == 'female'])\n",
    "\n",
    "female_model_eps = ExplainableBoostingClassifier(feature_names=X.columns.tolist())\n",
    "eps = 1e-10\n",
    "female_model_eps.fit(X_train, y_train, sample_weight=X_train['sex'].map(lambda x: eps if x == 'male' else 1 - eps))\n",
    "\n",
    "male_model_eps = ExplainableBoostingClassifier(feature_names=X.columns.tolist())\n",
    "male_model_eps.fit(X_train, y_train, sample_weight=X_train['sex'].map(lambda x: 1 - eps if x == 'male' else eps))\n",
    "\n",
    "normal_model = ExplainableBoostingClassifier(feature_names=X.columns.tolist())\n",
    "normal_model.fit(X_train, y_train)\n",
    "\n",
    "print(\"done\")"
   ]
  },
  {
   "cell_type": "code",
   "execution_count": 4,
   "metadata": {},
   "outputs": [],
   "source": [
    "foi = 'sex'\n",
    "_x = X_train\n",
    "_y = y_train\n",
    "\n",
    "male_mask = _x[foi] == 'male'\n",
    "female_mask = _x[foi] == 'female'"
   ]
  },
  {
   "cell_type": "code",
   "execution_count": 5,
   "metadata": {},
   "outputs": [
    {
     "name": "stderr",
     "output_type": "stream",
     "text": [
      "Evaluating combinations:   0%|          | 0/100 [00:00<?, ?it/s]"
     ]
    },
    {
     "name": "stderr",
     "output_type": "stream",
     "text": [
      "Evaluating combinations: 100%|██████████| 100/100 [00:01<00:00, 54.61it/s]\n"
     ]
    },
    {
     "ename": "AttributeError",
     "evalue": "'GroupPerformanceAnalyzer' object has no attribute 'scatter_plots'",
     "output_type": "error",
     "traceback": [
      "\u001b[0;31m---------------------------------------------------------------------------\u001b[0m",
      "\u001b[0;31mAttributeError\u001b[0m                            Traceback (most recent call last)",
      "Cell \u001b[0;32mIn[5], line 11\u001b[0m\n\u001b[1;32m      2\u001b[0m plt\u001b[38;5;241m.\u001b[39mioff()  \u001b[38;5;66;03m# Avoids duplicate plots\u001b[39;00m\n\u001b[1;32m      3\u001b[0m analyzer \u001b[38;5;241m=\u001b[39m GroupPerformanceAnalyzer(\n\u001b[1;32m      4\u001b[0m     male_model, female_model, normal_model,\n\u001b[1;32m      5\u001b[0m     _x, _y,\n\u001b[0;32m   (...)\u001b[0m\n\u001b[1;32m      9\u001b[0m     metric\u001b[38;5;241m=\u001b[39m\u001b[38;5;124m'\u001b[39m\u001b[38;5;124mlog_likelihood\u001b[39m\u001b[38;5;124m'\u001b[39m,\n\u001b[1;32m     10\u001b[0m )\n\u001b[0;32m---> 11\u001b[0m \u001b[43manalyzer\u001b[49m\u001b[38;5;241;43m.\u001b[39;49m\u001b[43mgenerate_plot\u001b[49m\u001b[43m(\u001b[49m\u001b[43mn_combinations\u001b[49m\u001b[38;5;241;43m=\u001b[39;49m\u001b[38;5;241;43m100\u001b[39;49m\u001b[43m)\u001b[49m\n",
      "File \u001b[0;32m~/Development/git_clones/PyEBM/interpretml/interpretml_utils.py:505\u001b[0m, in \u001b[0;36mGroupPerformanceAnalyzer.generate_plot\u001b[0;34m(self, n_combinations)\u001b[0m\n\u001b[1;32m    503\u001b[0m \u001b[38;5;28mself\u001b[39m\u001b[38;5;241m.\u001b[39m_setup_base_models()\n\u001b[1;32m    504\u001b[0m \u001b[38;5;28mself\u001b[39m\u001b[38;5;241m.\u001b[39m_configure_plot()\n\u001b[0;32m--> 505\u001b[0m \u001b[38;5;28;43mself\u001b[39;49m\u001b[38;5;241;43m.\u001b[39;49m\u001b[43m_setup_interactivity\u001b[49m\u001b[43m(\u001b[49m\u001b[43m)\u001b[49m\n\u001b[1;32m    507\u001b[0m display(\u001b[38;5;28mself\u001b[39m\u001b[38;5;241m.\u001b[39m_create_display())\n",
      "File \u001b[0;32m~/Development/git_clones/PyEBM/interpretml/interpretml_utils.py:526\u001b[0m, in \u001b[0;36mGroupPerformanceAnalyzer._setup_interactivity\u001b[0;34m(self)\u001b[0m\n\u001b[1;32m    524\u001b[0m \u001b[38;5;250m\u001b[39m\u001b[38;5;124;03m\"\"\"Add interactive tooltips with model details\"\"\"\u001b[39;00m\n\u001b[1;32m    525\u001b[0m \u001b[38;5;66;03m# Get all scatter plots (combinations and individual models)\u001b[39;00m\n\u001b[0;32m--> 526\u001b[0m all_scatter_plots \u001b[38;5;241m=\u001b[39m \u001b[38;5;28mlist\u001b[39m(\u001b[38;5;28;43mself\u001b[39;49m\u001b[38;5;241;43m.\u001b[39;49m\u001b[43mscatter_plots\u001b[49m\u001b[38;5;241m.\u001b[39mvalues())\n\u001b[1;32m    528\u001b[0m \u001b[38;5;66;03m# Create cursor for all scatter plots\u001b[39;00m\n\u001b[1;32m    529\u001b[0m cursor \u001b[38;5;241m=\u001b[39m mplcursors\u001b[38;5;241m.\u001b[39mcursor(all_scatter_plots)\n",
      "\u001b[0;31mAttributeError\u001b[0m: 'GroupPerformanceAnalyzer' object has no attribute 'scatter_plots'"
     ]
    }
   ],
   "source": [
    "%matplotlib widget\n",
    "plt.ioff()  # Avoids duplicate plots\n",
    "analyzer = GroupPerformanceAnalyzer(\n",
    "    male_model, female_model, normal_model,\n",
    "    _x, _y,\n",
    "    male_mask=male_mask, female_mask=female_mask,\n",
    "    feature_of_interest='sex',\n",
    "    combine_strategy='post',\n",
    "    metric='log_likelihood',\n",
    ")\n",
    "analyzer.generate_plot(n_combinations=100)"
   ]
  },
  {
   "cell_type": "code",
   "execution_count": 6,
   "metadata": {},
   "outputs": [
    {
     "name": "stderr",
     "output_type": "stream",
     "text": [
      "Evaluating All Models: 100%|██████████| 100/100 [00:02<00:00, 35.28it/s]\n",
      "Evaluating Without Male Model: 100%|██████████| 33/33 [00:00<00:00, 36.24it/s]\n",
      "Evaluating Without Female Model: 100%|██████████| 33/33 [00:00<00:00, 36.32it/s]\n",
      "Evaluating Without Normal Model: 100%|██████████| 33/33 [00:00<00:00, 35.67it/s]\n"
     ]
    },
    {
     "data": {
      "application/vnd.jupyter.widget-view+json": {
       "model_id": "cabac4561c594c369d8034c8063eab89",
       "version_major": 2,
       "version_minor": 0
      },
      "text/plain": [
       "HBox(children=(VBox(children=(HTML(value='<b>Model Details:</b>'), Output(), HTML(value='<b>Show/Hide Groups:<…"
      ]
     },
     "metadata": {},
     "output_type": "display_data"
    }
   ],
   "source": [
    "%matplotlib widget\n",
    "plt.ioff()\n",
    "analyzer = GenericGroupPerformanceAnalyzer(\n",
    "    models_to_combine=[\n",
    "        (\"Male Model\", male_model),\n",
    "        (\"Female Model\", female_model),\n",
    "        (\"Normal Model\", normal_model),\n",
    "    ],\n",
    "    baseline_models=[\n",
    "    ],\n",
    "    X_test=_x, y_test=_y,\n",
    "    male_mask=male_mask, female_mask=female_mask,\n",
    "    feature_of_interest='sex',\n",
    "    metric='log_likelihood'\n",
    ")\n",
    "analyzer.generate_plot(n_combinations=100)"
   ]
  },
  {
   "cell_type": "markdown",
   "metadata": {},
   "source": [
    "# Adding more trained models"
   ]
  },
  {
   "cell_type": "code",
   "execution_count": null,
   "metadata": {},
   "outputs": [],
   "source": [
    "import random\n",
    "\n",
    "def generate_pairs(N, random_state=None):\n",
    "    if random_state is not None:\n",
    "        random.seed(random_state)\n",
    "    pairs = [(random.uniform(0, 1), 0) for _ in range(N)]\n",
    "    pairs = [(x, 1 - x) for x, _ in pairs]\n",
    "    return pairs"
   ]
  },
  {
   "cell_type": "code",
   "execution_count": null,
   "metadata": {},
   "outputs": [
    {
     "data": {
      "application/vnd.jupyter.widget-view+json": {
       "model_id": "7a8b0ceabde14716af021d075994b333",
       "version_major": 2,
       "version_minor": 0
      },
      "text/plain": [
       "Training models:   0%|          | 0/100 [00:00<?, ?it/s]"
      ]
     },
     "metadata": {},
     "output_type": "display_data"
    }
   ],
   "source": [
    "from tqdm.notebook import tqdm\n",
    "import pickle\n",
    "\n",
    "additional_models = []\n",
    "\n",
    "for (mw, fw) in tqdm(generate_pairs(100, 42), desc=\"Training models\"):\n",
    "    new_model = ExplainableBoostingClassifier(feature_names=X.columns.tolist())\n",
    "    # Create sample_weights based on sex\n",
    "    sample_weights = X_train['sex'].map(lambda x: mw if x == 'male' else fw)\n",
    "\n",
    "    # Fit the model with sample weights\n",
    "    new_model.fit(X_train, y_train, sample_weight=sample_weights)\n",
    "\n",
    "\n",
    "    # Add this model to our collection with the weights used\n",
    "    additional_models.append((f\"M: {mw:.2f}, F: {fw:.2f}\", new_model))\n",
    "    \n",
    "    # Save the additional_models list to a pickle file\n",
    "    with open(\"additional_models.pkl\", \"wb\") as f:\n",
    "        pickle.dump(additional_models, f)"
   ]
  },
  {
   "cell_type": "code",
   "execution_count": 7,
   "metadata": {},
   "outputs": [
    {
     "name": "stdout",
     "output_type": "stream",
     "text": [
      "Loaded 100 models\n"
     ]
    }
   ],
   "source": [
    "import pickle\n",
    "\n",
    "with open(\"additional_models.pkl\", \"rb\") as f:\n",
    "    additional_models = pickle.load(f)\n",
    "\n",
    "print(f\"Loaded {len(additional_models)} models\")"
   ]
  },
  {
   "cell_type": "code",
   "execution_count": null,
   "metadata": {},
   "outputs": [
    {
     "name": "stderr",
     "output_type": "stream",
     "text": [
      "Evaluating All Models:   0%|          | 0/100 [00:00<?, ?it/s]"
     ]
    },
    {
     "name": "stderr",
     "output_type": "stream",
     "text": [
      "Evaluating All Models: 100%|██████████| 100/100 [00:02<00:00, 48.81it/s]\n",
      "Evaluating Without Male Model: 100%|██████████| 33/33 [00:00<00:00, 64.35it/s]\n",
      "Evaluating Without Female Model: 100%|██████████| 33/33 [00:00<00:00, 60.02it/s]\n",
      "Evaluating Without Normal Model: 100%|██████████| 33/33 [00:00<00:00, 51.36it/s]\n"
     ]
    },
    {
     "data": {
      "application/vnd.jupyter.widget-view+json": {
       "model_id": "7eb3a7b07c8249858bb234f5f57ccfd2",
       "version_major": 2,
       "version_minor": 0
      },
      "text/plain": [
       "HBox(children=(VBox(children=(HTML(value='<b>Model Details:</b>'), Output(), HTML(value='<b>Show/Hide Groups:<…"
      ]
     },
     "metadata": {},
     "output_type": "display_data"
    }
   ],
   "source": [
    "%matplotlib widget\n",
    "plt.ioff()\n",
    "analyzer = GenericGroupPerformanceAnalyzer(\n",
    "    models_to_combine=[\n",
    "        (\"Male Model\", male_model_eps),\n",
    "        (\"Female Model\", female_model_eps),\n",
    "        (\"Normal Model\", normal_model),\n",
    "    ],\n",
    "    baseline_models=additional_models,\n",
    "    X_test=_x, y_test=_y,\n",
    "    male_mask=male_mask, female_mask=female_mask,\n",
    "    feature_of_interest='sex',\n",
    "    metric='log_likelihood'\n",
    ")\n",
    "analyzer.generate_plot(n_combinations=100)"
   ]
  },
  {
   "cell_type": "code",
   "execution_count": 9,
   "metadata": {},
   "outputs": [
    {
     "name": "stderr",
     "output_type": "stream",
     "text": [
      "Evaluating All Models:   0%|          | 0/100 [00:00<?, ?it/s]"
     ]
    },
    {
     "name": "stderr",
     "output_type": "stream",
     "text": [
      "Evaluating All Models:   5%|▌         | 5/100 [00:05<01:38,  1.04s/it]\n"
     ]
    },
    {
     "ename": "KeyboardInterrupt",
     "evalue": "",
     "output_type": "error",
     "traceback": [
      "\u001b[0;31m---------------------------------------------------------------------------\u001b[0m",
      "\u001b[0;31mKeyboardInterrupt\u001b[0m                         Traceback (most recent call last)",
      "Cell \u001b[0;32mIn[9], line 16\u001b[0m\n\u001b[1;32m      2\u001b[0m plt\u001b[38;5;241m.\u001b[39mioff()\n\u001b[1;32m      3\u001b[0m analyzer \u001b[38;5;241m=\u001b[39m GenericGroupPerformanceAnalyzer(\n\u001b[1;32m      4\u001b[0m     models_to_combine\u001b[38;5;241m=\u001b[39m[\n\u001b[1;32m      5\u001b[0m         (\u001b[38;5;124m\"\u001b[39m\u001b[38;5;124mMale Model\u001b[39m\u001b[38;5;124m\"\u001b[39m, male_model),\n\u001b[0;32m   (...)\u001b[0m\n\u001b[1;32m     14\u001b[0m     metric\u001b[38;5;241m=\u001b[39m\u001b[38;5;124m'\u001b[39m\u001b[38;5;124mlog_likelihood\u001b[39m\u001b[38;5;124m'\u001b[39m\n\u001b[1;32m     15\u001b[0m )\n\u001b[0;32m---> 16\u001b[0m \u001b[43manalyzer\u001b[49m\u001b[38;5;241;43m.\u001b[39;49m\u001b[43mgenerate_plot\u001b[49m\u001b[43m(\u001b[49m\u001b[43mn_combinations\u001b[49m\u001b[38;5;241;43m=\u001b[39;49m\u001b[38;5;241;43m100\u001b[39;49m\u001b[43m)\u001b[49m\n",
      "File \u001b[0;32m~/Development/git_clones/PyEBM/interpretml/interpretml_utils.py:925\u001b[0m, in \u001b[0;36mGenericGroupPerformanceAnalyzer.generate_plot\u001b[0;34m(self, n_combinations)\u001b[0m\n\u001b[1;32m    923\u001b[0m \u001b[38;5;28;01mfor\u001b[39;00m w \u001b[38;5;129;01min\u001b[39;00m tqdm(group[\u001b[38;5;124m\"\u001b[39m\u001b[38;5;124mweights\u001b[39m\u001b[38;5;124m\"\u001b[39m], desc\u001b[38;5;241m=\u001b[39m\u001b[38;5;124mf\u001b[39m\u001b[38;5;124m\"\u001b[39m\u001b[38;5;124mEvaluating \u001b[39m\u001b[38;5;132;01m{\u001b[39;00mgroup[\u001b[38;5;124m'\u001b[39m\u001b[38;5;124mlabel\u001b[39m\u001b[38;5;124m'\u001b[39m]\u001b[38;5;132;01m}\u001b[39;00m\u001b[38;5;124m\"\u001b[39m):\n\u001b[1;32m    924\u001b[0m     combined \u001b[38;5;241m=\u001b[39m \u001b[38;5;28mself\u001b[39m\u001b[38;5;241m.\u001b[39m_combine_models(w)\n\u001b[0;32m--> 925\u001b[0m     metrics \u001b[38;5;241m=\u001b[39m \u001b[38;5;28;43mself\u001b[39;49m\u001b[38;5;241;43m.\u001b[39;49m\u001b[43m_evaluate_model\u001b[49m\u001b[43m(\u001b[49m\u001b[43mcombined\u001b[49m\u001b[43m)\u001b[49m\n\u001b[1;32m    926\u001b[0m     metrics\u001b[38;5;241m.\u001b[39mupdate({\n\u001b[1;32m    927\u001b[0m         \u001b[38;5;124m'\u001b[39m\u001b[38;5;124mweights\u001b[39m\u001b[38;5;124m'\u001b[39m: w,\n\u001b[1;32m    928\u001b[0m         \u001b[38;5;124m'\u001b[39m\u001b[38;5;124mgroup_id\u001b[39m\u001b[38;5;124m'\u001b[39m: group[\u001b[38;5;124m\"\u001b[39m\u001b[38;5;124mid\u001b[39m\u001b[38;5;124m\"\u001b[39m],\n\u001b[1;32m    929\u001b[0m         \u001b[38;5;124m'\u001b[39m\u001b[38;5;124mgroup_label\u001b[39m\u001b[38;5;124m'\u001b[39m: group[\u001b[38;5;124m\"\u001b[39m\u001b[38;5;124mlabel\u001b[39m\u001b[38;5;124m\"\u001b[39m],\n\u001b[1;32m    930\u001b[0m         \u001b[38;5;124m'\u001b[39m\u001b[38;5;124mcolor\u001b[39m\u001b[38;5;124m'\u001b[39m: group[\u001b[38;5;124m\"\u001b[39m\u001b[38;5;124mcolor\u001b[39m\u001b[38;5;124m\"\u001b[39m]\n\u001b[1;32m    931\u001b[0m     })\n\u001b[1;32m    932\u001b[0m     group_metrics\u001b[38;5;241m.\u001b[39mappend(metrics)\n",
      "File \u001b[0;32m~/Development/git_clones/PyEBM/interpretml/interpretml_utils.py:817\u001b[0m, in \u001b[0;36mGenericGroupPerformanceAnalyzer._evaluate_model\u001b[0;34m(self, model)\u001b[0m\n\u001b[1;32m    810\u001b[0m     \u001b[38;5;28;01mreturn\u001b[39;00m {\n\u001b[1;32m    811\u001b[0m         \u001b[38;5;124mf\u001b[39m\u001b[38;5;124m'\u001b[39m\u001b[38;5;124mmale_\u001b[39m\u001b[38;5;132;01m{\u001b[39;00m\u001b[38;5;28mself\u001b[39m\u001b[38;5;241m.\u001b[39mmetric\u001b[38;5;132;01m}\u001b[39;00m\u001b[38;5;124m'\u001b[39m: np\u001b[38;5;241m.\u001b[39mmean(\u001b[38;5;28mself\u001b[39m\u001b[38;5;241m.\u001b[39my_test[\u001b[38;5;28mself\u001b[39m\u001b[38;5;241m.\u001b[39mmale_mask] \u001b[38;5;241m==\u001b[39m y_pred[\u001b[38;5;28mself\u001b[39m\u001b[38;5;241m.\u001b[39mmale_mask]),\n\u001b[1;32m    812\u001b[0m         \u001b[38;5;124mf\u001b[39m\u001b[38;5;124m'\u001b[39m\u001b[38;5;124mfemale_\u001b[39m\u001b[38;5;132;01m{\u001b[39;00m\u001b[38;5;28mself\u001b[39m\u001b[38;5;241m.\u001b[39mmetric\u001b[38;5;132;01m}\u001b[39;00m\u001b[38;5;124m'\u001b[39m: np\u001b[38;5;241m.\u001b[39mmean(\u001b[38;5;28mself\u001b[39m\u001b[38;5;241m.\u001b[39my_test[\u001b[38;5;28mself\u001b[39m\u001b[38;5;241m.\u001b[39mfemale_mask] \u001b[38;5;241m==\u001b[39m y_pred[\u001b[38;5;28mself\u001b[39m\u001b[38;5;241m.\u001b[39mfemale_mask]),\n\u001b[1;32m    813\u001b[0m         \u001b[38;5;124mf\u001b[39m\u001b[38;5;124m'\u001b[39m\u001b[38;5;124moverall_\u001b[39m\u001b[38;5;132;01m{\u001b[39;00m\u001b[38;5;28mself\u001b[39m\u001b[38;5;241m.\u001b[39mmetric\u001b[38;5;132;01m}\u001b[39;00m\u001b[38;5;124m'\u001b[39m: np\u001b[38;5;241m.\u001b[39mmean(\u001b[38;5;28mself\u001b[39m\u001b[38;5;241m.\u001b[39my_test \u001b[38;5;241m==\u001b[39m y_pred)\n\u001b[1;32m    814\u001b[0m     }\n\u001b[1;32m    816\u001b[0m \u001b[38;5;28;01melif\u001b[39;00m \u001b[38;5;28mself\u001b[39m\u001b[38;5;241m.\u001b[39mmetric \u001b[38;5;241m==\u001b[39m \u001b[38;5;124m\"\u001b[39m\u001b[38;5;124mlog_likelihood\u001b[39m\u001b[38;5;124m\"\u001b[39m:\n\u001b[0;32m--> 817\u001b[0m     y_probs \u001b[38;5;241m=\u001b[39m \u001b[43mmodel\u001b[49m\u001b[38;5;241;43m.\u001b[39;49m\u001b[43mpredict_proba\u001b[49m\u001b[43m(\u001b[49m\u001b[38;5;28;43mself\u001b[39;49m\u001b[38;5;241;43m.\u001b[39;49m\u001b[43mX_test\u001b[49m\u001b[43m)\u001b[49m\n\u001b[1;32m    818\u001b[0m     eps \u001b[38;5;241m=\u001b[39m \u001b[38;5;241m1e-10\u001b[39m\n\u001b[1;32m    820\u001b[0m     \u001b[38;5;66;03m# For male samples\u001b[39;00m\n",
      "File \u001b[0;32m~/Development/git_clones/PyEBM/interpretml/interpretml_utils.py:164\u001b[0m, in \u001b[0;36mCombinedEBM.__predict_proba\u001b[0;34m(self, X)\u001b[0m\n\u001b[1;32m    163\u001b[0m \u001b[38;5;28;01mdef\u001b[39;00m \u001b[38;5;21m__predict_proba\u001b[39m(\u001b[38;5;28mself\u001b[39m, X):\n\u001b[0;32m--> 164\u001b[0m     probas \u001b[38;5;241m=\u001b[39m [ebm\u001b[38;5;241m.\u001b[39mpredict_proba(X) \u001b[38;5;241m*\u001b[39m w \n\u001b[1;32m    165\u001b[0m             \u001b[38;5;28;01mfor\u001b[39;00m ebm, w \u001b[38;5;129;01min\u001b[39;00m \u001b[38;5;28mzip\u001b[39m(\u001b[38;5;28mself\u001b[39m\u001b[38;5;241m.\u001b[39mebms, \u001b[38;5;28mself\u001b[39m\u001b[38;5;241m.\u001b[39mweights)]\n\u001b[1;32m    166\u001b[0m     \u001b[38;5;28;01mreturn\u001b[39;00m np\u001b[38;5;241m.\u001b[39msum(probas, axis\u001b[38;5;241m=\u001b[39m\u001b[38;5;241m0\u001b[39m)\n",
      "File \u001b[0;32m~/Development/git_clones/PyEBM/interpretml/interpretml_utils.py:164\u001b[0m, in \u001b[0;36m<listcomp>\u001b[0;34m(.0)\u001b[0m\n\u001b[1;32m    163\u001b[0m \u001b[38;5;28;01mdef\u001b[39;00m \u001b[38;5;21m__predict_proba\u001b[39m(\u001b[38;5;28mself\u001b[39m, X):\n\u001b[0;32m--> 164\u001b[0m     probas \u001b[38;5;241m=\u001b[39m [\u001b[43mebm\u001b[49m\u001b[38;5;241;43m.\u001b[39;49m\u001b[43mpredict_proba\u001b[49m\u001b[43m(\u001b[49m\u001b[43mX\u001b[49m\u001b[43m)\u001b[49m \u001b[38;5;241m*\u001b[39m w \n\u001b[1;32m    165\u001b[0m             \u001b[38;5;28;01mfor\u001b[39;00m ebm, w \u001b[38;5;129;01min\u001b[39;00m \u001b[38;5;28mzip\u001b[39m(\u001b[38;5;28mself\u001b[39m\u001b[38;5;241m.\u001b[39mebms, \u001b[38;5;28mself\u001b[39m\u001b[38;5;241m.\u001b[39mweights)]\n\u001b[1;32m    166\u001b[0m     \u001b[38;5;28;01mreturn\u001b[39;00m np\u001b[38;5;241m.\u001b[39msum(probas, axis\u001b[38;5;241m=\u001b[39m\u001b[38;5;241m0\u001b[39m)\n",
      "File \u001b[0;32m~/.local/lib/python3.10/site-packages/interpret/glassbox/_ebm/_ebm.py:3041\u001b[0m, in \u001b[0;36mExplainableBoostingClassifier.predict_proba\u001b[0;34m(self, X, init_score)\u001b[0m\n\u001b[1;32m   3029\u001b[0m \u001b[38;5;28;01mdef\u001b[39;00m \u001b[38;5;21mpredict_proba\u001b[39m(\u001b[38;5;28mself\u001b[39m, X, init_score\u001b[38;5;241m=\u001b[39m\u001b[38;5;28;01mNone\u001b[39;00m):\n\u001b[1;32m   3030\u001b[0m \u001b[38;5;250m    \u001b[39m\u001b[38;5;124;03m\"\"\"Probability estimates on provided samples.\u001b[39;00m\n\u001b[1;32m   3031\u001b[0m \n\u001b[1;32m   3032\u001b[0m \u001b[38;5;124;03m    Args:\u001b[39;00m\n\u001b[0;32m   (...)\u001b[0m\n\u001b[1;32m   3039\u001b[0m \n\u001b[1;32m   3040\u001b[0m \u001b[38;5;124;03m    \"\"\"\u001b[39;00m\n\u001b[0;32m-> 3041\u001b[0m     scores \u001b[38;5;241m=\u001b[39m \u001b[38;5;28;43mself\u001b[39;49m\u001b[38;5;241;43m.\u001b[39;49m\u001b[43m_predict_score\u001b[49m\u001b[43m(\u001b[49m\u001b[43mX\u001b[49m\u001b[43m,\u001b[49m\u001b[43m \u001b[49m\u001b[43minit_score\u001b[49m\u001b[43m)\u001b[49m\n\u001b[1;32m   3042\u001b[0m     \u001b[38;5;28;01mreturn\u001b[39;00m inv_link(scores, \u001b[38;5;28mself\u001b[39m\u001b[38;5;241m.\u001b[39mlink_, \u001b[38;5;28mself\u001b[39m\u001b[38;5;241m.\u001b[39mlink_param_)\n",
      "File \u001b[0;32m~/.local/lib/python3.10/site-packages/interpret/glassbox/_ebm/_ebm.py:1703\u001b[0m, in \u001b[0;36mEBMModel._predict_score\u001b[0;34m(self, X, init_score)\u001b[0m\n\u001b[1;32m   1692\u001b[0m check_is_fitted(\u001b[38;5;28mself\u001b[39m, \u001b[38;5;124m\"\u001b[39m\u001b[38;5;124mhas_fitted_\u001b[39m\u001b[38;5;124m\"\u001b[39m)\n\u001b[1;32m   1694\u001b[0m init_score, X, n_samples \u001b[38;5;241m=\u001b[39m clean_init_score_and_X(\n\u001b[1;32m   1695\u001b[0m     \u001b[38;5;28mself\u001b[39m\u001b[38;5;241m.\u001b[39mlink_,\n\u001b[1;32m   1696\u001b[0m     \u001b[38;5;28mself\u001b[39m\u001b[38;5;241m.\u001b[39mlink_param_,\n\u001b[0;32m   (...)\u001b[0m\n\u001b[1;32m   1700\u001b[0m     \u001b[38;5;28mself\u001b[39m\u001b[38;5;241m.\u001b[39mfeature_types_in_,\n\u001b[1;32m   1701\u001b[0m )\n\u001b[0;32m-> 1703\u001b[0m \u001b[38;5;28;01mreturn\u001b[39;00m \u001b[43mebm_predict_scores\u001b[49m\u001b[43m(\u001b[49m\n\u001b[1;32m   1704\u001b[0m \u001b[43m    \u001b[49m\u001b[43mX\u001b[49m\u001b[43m,\u001b[49m\n\u001b[1;32m   1705\u001b[0m \u001b[43m    \u001b[49m\u001b[43mn_samples\u001b[49m\u001b[43m,\u001b[49m\n\u001b[1;32m   1706\u001b[0m \u001b[43m    \u001b[49m\u001b[38;5;28;43mself\u001b[39;49m\u001b[38;5;241;43m.\u001b[39;49m\u001b[43mfeature_names_in_\u001b[49m\u001b[43m,\u001b[49m\n\u001b[1;32m   1707\u001b[0m \u001b[43m    \u001b[49m\u001b[38;5;28;43mself\u001b[39;49m\u001b[38;5;241;43m.\u001b[39;49m\u001b[43mfeature_types_in_\u001b[49m\u001b[43m,\u001b[49m\n\u001b[1;32m   1708\u001b[0m \u001b[43m    \u001b[49m\u001b[38;5;28;43mself\u001b[39;49m\u001b[38;5;241;43m.\u001b[39;49m\u001b[43mbins_\u001b[49m\u001b[43m,\u001b[49m\n\u001b[1;32m   1709\u001b[0m \u001b[43m    \u001b[49m\u001b[38;5;28;43mself\u001b[39;49m\u001b[38;5;241;43m.\u001b[39;49m\u001b[43mintercept_\u001b[49m\u001b[43m,\u001b[49m\n\u001b[1;32m   1710\u001b[0m \u001b[43m    \u001b[49m\u001b[38;5;28;43mself\u001b[39;49m\u001b[38;5;241;43m.\u001b[39;49m\u001b[43mterm_scores_\u001b[49m\u001b[43m,\u001b[49m\n\u001b[1;32m   1711\u001b[0m \u001b[43m    \u001b[49m\u001b[38;5;28;43mself\u001b[39;49m\u001b[38;5;241;43m.\u001b[39;49m\u001b[43mterm_features_\u001b[49m\u001b[43m,\u001b[49m\n\u001b[1;32m   1712\u001b[0m \u001b[43m    \u001b[49m\u001b[43minit_score\u001b[49m\u001b[43m,\u001b[49m\n\u001b[1;32m   1713\u001b[0m \u001b[43m\u001b[49m\u001b[43m)\u001b[49m\n",
      "File \u001b[0;32m~/.local/lib/python3.10/site-packages/interpret/glassbox/_ebm/_bin.py:148\u001b[0m, in \u001b[0;36mebm_predict_scores\u001b[0;34m(X, n_samples, feature_names_in, feature_types_in, bins, intercept, term_scores, term_features, init_score)\u001b[0m\n\u001b[1;32m    145\u001b[0m sample_scores \u001b[38;5;241m=\u001b[39m np\u001b[38;5;241m.\u001b[39mfull(shape, intercept, dtype\u001b[38;5;241m=\u001b[39mnp\u001b[38;5;241m.\u001b[39mfloat64)\n\u001b[1;32m    147\u001b[0m \u001b[38;5;28;01mif\u001b[39;00m n_samples \u001b[38;5;241m>\u001b[39m \u001b[38;5;241m0\u001b[39m:\n\u001b[0;32m--> 148\u001b[0m     \u001b[38;5;28;01mfor\u001b[39;00m term_idx, bin_indexes \u001b[38;5;129;01min\u001b[39;00m eval_terms(\n\u001b[1;32m    149\u001b[0m         X, n_samples, feature_names_in, feature_types_in, bins, term_features\n\u001b[1;32m    150\u001b[0m     ):\n\u001b[1;32m    151\u001b[0m         sample_scores \u001b[38;5;241m+\u001b[39m\u001b[38;5;241m=\u001b[39m term_scores[term_idx][\u001b[38;5;28mtuple\u001b[39m(bin_indexes)]\n\u001b[1;32m    153\u001b[0m \u001b[38;5;28;01mif\u001b[39;00m init_score \u001b[38;5;129;01mis\u001b[39;00m \u001b[38;5;129;01mnot\u001b[39;00m \u001b[38;5;28;01mNone\u001b[39;00m:\n",
      "File \u001b[0;32m~/.local/lib/python3.10/site-packages/interpret/glassbox/_ebm/_bin.py:57\u001b[0m, in \u001b[0;36meval_terms\u001b[0;34m(X, n_samples, feature_names_in, feature_types_in, bins, term_features)\u001b[0m\n\u001b[1;32m     53\u001b[0m             waiting_list\u001b[38;5;241m.\u001b[39mappend(requirements)\n\u001b[1;32m     55\u001b[0m native \u001b[38;5;241m=\u001b[39m Native\u001b[38;5;241m.\u001b[39mget_native_singleton()\n\u001b[0;32m---> 57\u001b[0m \u001b[38;5;28;01mfor\u001b[39;00m (column_feature_idx, _), (_, X_col, column_categories, bad) \u001b[38;5;129;01min\u001b[39;00m \u001b[38;5;28mzip\u001b[39m(\n\u001b[1;32m     58\u001b[0m     requests,\n\u001b[1;32m     59\u001b[0m     unify_columns(X, requests, feature_names_in, feature_types_in, \u001b[38;5;28;01mNone\u001b[39;00m, \u001b[38;5;28;01mTrue\u001b[39;00m),\n\u001b[1;32m     60\u001b[0m ):\n\u001b[1;32m     61\u001b[0m     \u001b[38;5;28;01mif\u001b[39;00m n_samples \u001b[38;5;241m!=\u001b[39m \u001b[38;5;28mlen\u001b[39m(X_col):\n\u001b[1;32m     62\u001b[0m         msg \u001b[38;5;241m=\u001b[39m \u001b[38;5;124m\"\u001b[39m\u001b[38;5;124mThe columns of X are mismatched in the number of of samples\u001b[39m\u001b[38;5;124m\"\u001b[39m\n",
      "File \u001b[0;32m~/.local/lib/python3.10/site-packages/interpret/utils/_clean_x.py:1177\u001b[0m, in \u001b[0;36munify_columns\u001b[0;34m(X, requests, feature_names_in, feature_types, min_unique_continuous, go_fast)\u001b[0m\n\u001b[1;32m   1175\u001b[0m         X_col \u001b[38;5;241m=\u001b[39m X\u001b[38;5;241m.\u001b[39miloc[:, col_idx]\n\u001b[1;32m   1176\u001b[0m         feature_type \u001b[38;5;241m=\u001b[39m \u001b[38;5;28;01mNone\u001b[39;00m \u001b[38;5;28;01mif\u001b[39;00m feature_types \u001b[38;5;129;01mis\u001b[39;00m \u001b[38;5;28;01mNone\u001b[39;00m \u001b[38;5;28;01melse\u001b[39;00m feature_types[feature_idx]\n\u001b[0;32m-> 1177\u001b[0m         feature_type_in, X_col, categories, bad \u001b[38;5;241m=\u001b[39m \u001b[43m_process_pandas_column\u001b[49m\u001b[43m(\u001b[49m\n\u001b[1;32m   1178\u001b[0m \u001b[43m            \u001b[49m\u001b[43mX_col\u001b[49m\u001b[43m,\u001b[49m\u001b[43m \u001b[49m\u001b[43mcategories\u001b[49m\u001b[43m,\u001b[49m\u001b[43m \u001b[49m\u001b[43mfeature_type\u001b[49m\u001b[43m,\u001b[49m\u001b[43m \u001b[49m\u001b[43mmin_unique_continuous\u001b[49m\n\u001b[1;32m   1179\u001b[0m \u001b[43m        \u001b[49m\u001b[43m)\u001b[49m\n\u001b[1;32m   1180\u001b[0m         \u001b[38;5;28;01myield\u001b[39;00m feature_type_in, X_col, categories, bad\n\u001b[1;32m   1181\u001b[0m \u001b[38;5;28;01melif\u001b[39;00m safe_isinstance(X, \u001b[38;5;124m\"\u001b[39m\u001b[38;5;124mscipy.sparse.sparray\u001b[39m\u001b[38;5;124m\"\u001b[39m):\n",
      "File \u001b[0;32m~/.local/lib/python3.10/site-packages/interpret/utils/_clean_x.py:917\u001b[0m, in \u001b[0;36m_process_pandas_column\u001b[0;34m(X_col, categories, feature_type, min_unique_continuous)\u001b[0m\n\u001b[1;32m    915\u001b[0m             X_col \u001b[38;5;241m=\u001b[39m X_col\u001b[38;5;241m.\u001b[39mdropna()\n\u001b[1;32m    916\u001b[0m         X_col \u001b[38;5;241m=\u001b[39m X_col\u001b[38;5;241m.\u001b[39mvalues\n\u001b[0;32m--> 917\u001b[0m         \u001b[38;5;28;01mreturn\u001b[39;00m \u001b[43m_process_ndarray\u001b[49m\u001b[43m(\u001b[49m\n\u001b[1;32m    918\u001b[0m \u001b[43m            \u001b[49m\u001b[43mX_col\u001b[49m\u001b[43m,\u001b[49m\u001b[43m \u001b[49m\u001b[43mnonmissings\u001b[49m\u001b[43m,\u001b[49m\u001b[43m \u001b[49m\u001b[43mcategories\u001b[49m\u001b[43m,\u001b[49m\u001b[43m \u001b[49m\u001b[43mfeature_type\u001b[49m\u001b[43m,\u001b[49m\u001b[43m \u001b[49m\u001b[43mmin_unique_continuous\u001b[49m\n\u001b[1;32m    919\u001b[0m \u001b[43m        \u001b[49m\u001b[43m)\u001b[49m\n\u001b[1;32m    920\u001b[0m \u001b[38;5;28;01melif\u001b[39;00m \u001b[38;5;28misinstance\u001b[39m(X_col\u001b[38;5;241m.\u001b[39mdtype, pd\u001b[38;5;241m.\u001b[39mCategoricalDtype):\n\u001b[1;32m    921\u001b[0m     \u001b[38;5;66;03m# unlike other missing value types, we get back -1's for missing here, so no need to drop them\u001b[39;00m\n\u001b[1;32m    922\u001b[0m     X_col \u001b[38;5;241m=\u001b[39m X_col\u001b[38;5;241m.\u001b[39mvalues\n",
      "File \u001b[0;32m~/.local/lib/python3.10/site-packages/interpret/utils/_clean_x.py:753\u001b[0m, in \u001b[0;36m_process_ndarray\u001b[0;34m(X_col, nonmissings, categories, processing, min_unique_continuous)\u001b[0m\n\u001b[1;32m    751\u001b[0m         \u001b[38;5;28;01mreturn\u001b[39;00m \u001b[38;5;124m\"\u001b[39m\u001b[38;5;124mnominal\u001b[39m\u001b[38;5;124m\"\u001b[39m, X_col, categories, \u001b[38;5;28;01mNone\u001b[39;00m\n\u001b[1;32m    752\u001b[0m     \u001b[38;5;66;03m# called under: predict\u001b[39;00m\n\u001b[0;32m--> 753\u001b[0m     X_col, bad \u001b[38;5;241m=\u001b[39m \u001b[43m_encode_categorical_existing\u001b[49m\u001b[43m(\u001b[49m\u001b[43mX_col\u001b[49m\u001b[43m,\u001b[49m\u001b[43m \u001b[49m\u001b[43mnonmissings\u001b[49m\u001b[43m,\u001b[49m\u001b[43m \u001b[49m\u001b[43mcategories\u001b[49m\u001b[43m)\u001b[49m\n\u001b[1;32m    754\u001b[0m     \u001b[38;5;28;01mreturn\u001b[39;00m \u001b[38;5;124m\"\u001b[39m\u001b[38;5;124mnominal\u001b[39m\u001b[38;5;124m\"\u001b[39m, X_col, categories, bad\n\u001b[1;32m    755\u001b[0m \u001b[38;5;28;01mif\u001b[39;00m processing \u001b[38;5;241m==\u001b[39m \u001b[38;5;124m\"\u001b[39m\u001b[38;5;124mordinal\u001b[39m\u001b[38;5;124m\"\u001b[39m:\n",
      "File \u001b[0;32m~/.local/lib/python3.10/site-packages/interpret/utils/_clean_x.py:537\u001b[0m, in \u001b[0;36m_encode_categorical_existing\u001b[0;34m(X_col, nonmissings, categories)\u001b[0m\n\u001b[1;32m    534\u001b[0m \u001b[38;5;28;01melif\u001b[39;00m X_col\u001b[38;5;241m.\u001b[39mdtype\u001b[38;5;241m.\u001b[39mtype \u001b[38;5;129;01mis\u001b[39;00m np\u001b[38;5;241m.\u001b[39mobject_:\n\u001b[1;32m    535\u001b[0m     X_col \u001b[38;5;241m=\u001b[39m _densify_object_ndarray(X_col)\n\u001b[0;32m--> 537\u001b[0m uniques, indexes \u001b[38;5;241m=\u001b[39m \u001b[43mnp\u001b[49m\u001b[38;5;241;43m.\u001b[39;49m\u001b[43munique\u001b[49m\u001b[43m(\u001b[49m\u001b[43mX_col\u001b[49m\u001b[43m,\u001b[49m\u001b[43m \u001b[49m\u001b[43mreturn_inverse\u001b[49m\u001b[38;5;241;43m=\u001b[39;49m\u001b[38;5;28;43;01mTrue\u001b[39;49;00m\u001b[43m)\u001b[49m\n\u001b[1;32m    539\u001b[0m \u001b[38;5;28;01mif\u001b[39;00m \u001b[38;5;28missubclass\u001b[39m(X_col\u001b[38;5;241m.\u001b[39mdtype\u001b[38;5;241m.\u001b[39mtype, np\u001b[38;5;241m.\u001b[39mfloating):\n\u001b[1;32m    540\u001b[0m     uniques \u001b[38;5;241m=\u001b[39m uniques\u001b[38;5;241m.\u001b[39mastype(np\u001b[38;5;241m.\u001b[39mfloat64, copy\u001b[38;5;241m=\u001b[39m\u001b[38;5;28;01mFalse\u001b[39;00m)\n",
      "File \u001b[0;32m<__array_function__ internals>:180\u001b[0m, in \u001b[0;36munique\u001b[0;34m(*args, **kwargs)\u001b[0m\n",
      "File \u001b[0;32m~/.local/lib/python3.10/site-packages/numpy/lib/arraysetops.py:274\u001b[0m, in \u001b[0;36munique\u001b[0;34m(ar, return_index, return_inverse, return_counts, axis, equal_nan)\u001b[0m\n\u001b[1;32m    272\u001b[0m ar \u001b[38;5;241m=\u001b[39m np\u001b[38;5;241m.\u001b[39masanyarray(ar)\n\u001b[1;32m    273\u001b[0m \u001b[38;5;28;01mif\u001b[39;00m axis \u001b[38;5;129;01mis\u001b[39;00m \u001b[38;5;28;01mNone\u001b[39;00m:\n\u001b[0;32m--> 274\u001b[0m     ret \u001b[38;5;241m=\u001b[39m \u001b[43m_unique1d\u001b[49m\u001b[43m(\u001b[49m\u001b[43mar\u001b[49m\u001b[43m,\u001b[49m\u001b[43m \u001b[49m\u001b[43mreturn_index\u001b[49m\u001b[43m,\u001b[49m\u001b[43m \u001b[49m\u001b[43mreturn_inverse\u001b[49m\u001b[43m,\u001b[49m\u001b[43m \u001b[49m\u001b[43mreturn_counts\u001b[49m\u001b[43m,\u001b[49m\u001b[43m \u001b[49m\n\u001b[1;32m    275\u001b[0m \u001b[43m                    \u001b[49m\u001b[43mequal_nan\u001b[49m\u001b[38;5;241;43m=\u001b[39;49m\u001b[43mequal_nan\u001b[49m\u001b[43m)\u001b[49m\n\u001b[1;32m    276\u001b[0m     \u001b[38;5;28;01mreturn\u001b[39;00m _unpack_tuple(ret)\n\u001b[1;32m    278\u001b[0m \u001b[38;5;66;03m# axis was specified and not None\u001b[39;00m\n",
      "File \u001b[0;32m~/.local/lib/python3.10/site-packages/numpy/lib/arraysetops.py:333\u001b[0m, in \u001b[0;36m_unique1d\u001b[0;34m(ar, return_index, return_inverse, return_counts, equal_nan)\u001b[0m\n\u001b[1;32m    330\u001b[0m optional_indices \u001b[38;5;241m=\u001b[39m return_index \u001b[38;5;129;01mor\u001b[39;00m return_inverse\n\u001b[1;32m    332\u001b[0m \u001b[38;5;28;01mif\u001b[39;00m optional_indices:\n\u001b[0;32m--> 333\u001b[0m     perm \u001b[38;5;241m=\u001b[39m \u001b[43mar\u001b[49m\u001b[38;5;241;43m.\u001b[39;49m\u001b[43margsort\u001b[49m\u001b[43m(\u001b[49m\u001b[43mkind\u001b[49m\u001b[38;5;241;43m=\u001b[39;49m\u001b[38;5;124;43m'\u001b[39;49m\u001b[38;5;124;43mmergesort\u001b[39;49m\u001b[38;5;124;43m'\u001b[39;49m\u001b[43m \u001b[49m\u001b[38;5;28;43;01mif\u001b[39;49;00m\u001b[43m \u001b[49m\u001b[43mreturn_index\u001b[49m\u001b[43m \u001b[49m\u001b[38;5;28;43;01melse\u001b[39;49;00m\u001b[43m \u001b[49m\u001b[38;5;124;43m'\u001b[39;49m\u001b[38;5;124;43mquicksort\u001b[39;49m\u001b[38;5;124;43m'\u001b[39;49m\u001b[43m)\u001b[49m\n\u001b[1;32m    334\u001b[0m     aux \u001b[38;5;241m=\u001b[39m ar[perm]\n\u001b[1;32m    335\u001b[0m \u001b[38;5;28;01melse\u001b[39;00m:\n",
      "\u001b[0;31mKeyboardInterrupt\u001b[0m: "
     ]
    }
   ],
   "source": [
    "%matplotlib widget\n",
    "plt.ioff()\n",
    "analyzer = GenericGroupPerformanceAnalyzer(\n",
    "    models_to_combine=[\n",
    "        (\"Male Model\", male_model),\n",
    "        (\"Female Model\", female_model),\n",
    "        (\"Normal Model\", normal_model),\n",
    "        *additional_models\n",
    "    ],\n",
    "    baseline_models=[],\n",
    "    X_test=_x, y_test=_y,\n",
    "    male_mask=male_mask, female_mask=female_mask,\n",
    "    feature_of_interest='sex',\n",
    "    metric='log_likelihood'\n",
    ")\n",
    "analyzer.generate_plot(n_combinations=100)"
   ]
  }
 ],
 "metadata": {
  "kernelspec": {
   "display_name": "Python 3",
   "language": "python",
   "name": "python3"
  },
  "language_info": {
   "codemirror_mode": {
    "name": "ipython",
    "version": 3
   },
   "file_extension": ".py",
   "mimetype": "text/x-python",
   "name": "python",
   "nbconvert_exporter": "python",
   "pygments_lexer": "ipython3",
   "version": "3.10.12"
  }
 },
 "nbformat": 4,
 "nbformat_minor": 2
}

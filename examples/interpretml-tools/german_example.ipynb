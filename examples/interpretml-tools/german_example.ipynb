{
 "cells": [
  {
   "cell_type": "code",
   "execution_count": 1,
   "metadata": {},
   "outputs": [],
   "source": [
    "from interpretml_tools import *\n",
    "\n",
    "from interpret.glassbox import ExplainableBoostingClassifier, ExplainableBoostingRegressor, merge_ebms\n",
    "\n",
    "import pandas as pd\n",
    "import numpy as np  \n",
    "import matplotlib.pyplot as plt\n",
    "from sklearn.model_selection import train_test_split"
   ]
  },
  {
   "cell_type": "markdown",
   "metadata": {},
   "source": [
    "# Loading dataset\n",
    "### (German)"
   ]
  },
  {
   "cell_type": "code",
   "execution_count": 2,
   "metadata": {},
   "outputs": [],
   "source": [
    "# Load German Credit Dataset\n",
    "url = \"https://archive.ics.uci.edu/ml/machine-learning-databases/statlog/german/german.data\"\n",
    "columns = [\n",
    "    'checking_status', 'duration', 'credit_history', 'purpose', 'credit_amount',\n",
    "    'savings_account', 'employment', 'installment_rate', 'personal_status_sex',\n",
    "    'other_debtors', 'present_residence', 'property', 'age', 'other_installment_plans',\n",
    "    'housing', 'existing_credits', 'job', 'num_maintenance', 'telephone', 'foreign_worker', 'target'\n",
    "]\n",
    "\n",
    "df = pd.read_csv(url, sep=' ', names=columns, header=None)\n",
    "\n",
    "# Preprocessing\n",
    "# Create binary sex feature (Male=1, Female=0)\n",
    "df['sex'] = df['personal_status_sex'].apply(lambda x: 'male' if x in ['A91', 'A93', 'A94'] else 'female')\n",
    "\n",
    "# Convert target to binary (Good credit=1, Bad credit=0)\n",
    "df['target'] = df['target'].replace({1: 1, 2: 0})\n",
    "\n",
    "features = df.columns.tolist()\n",
    "features.remove('target')\n",
    "\n",
    "X = df[features]\n",
    "y = df['target']\n",
    "\n",
    "# Split data\n",
    "X_train, X_test, y_train, y_test = train_test_split(X, y, test_size=0.2, random_state=42)"
   ]
  },
  {
   "cell_type": "markdown",
   "metadata": {},
   "source": [
    "# Training baseline models"
   ]
  },
  {
   "cell_type": "code",
   "execution_count": 3,
   "metadata": {},
   "outputs": [
    {
     "name": "stdout",
     "output_type": "stream",
     "text": [
      "done\n"
     ]
    }
   ],
   "source": [
    "male_model = ExplainableBoostingClassifier(feature_names=X.columns.tolist())\n",
    "male_model.fit(X_train[X_train['sex'] == 'male'], y_train[X_train['sex'] == 'male'])\n",
    "\n",
    "female_model = ExplainableBoostingClassifier(feature_names=X.columns.tolist())\n",
    "female_model.fit(X_train[X_train['sex'] == 'female'], y_train[X_train['sex'] == 'female'])\n",
    "\n",
    "normal_model = ExplainableBoostingClassifier(feature_names=X.columns.tolist())\n",
    "normal_model.fit(X_train, y_train)\n",
    "\n",
    "print(\"done\")"
   ]
  },
  {
   "cell_type": "code",
   "execution_count": 4,
   "metadata": {},
   "outputs": [],
   "source": [
    "ff_model = CombinedEBM([male_model, female_model], [0.5, 0.5])"
   ]
  },
  {
   "cell_type": "code",
   "execution_count": 5,
   "metadata": {},
   "outputs": [],
   "source": [
    "combined = merge_ebms([male_model, female_model])"
   ]
  },
  {
   "cell_type": "markdown",
   "metadata": {},
   "source": [
    "# Displaying with custom EBMVisualizer"
   ]
  },
  {
   "cell_type": "code",
   "execution_count": 6,
   "metadata": {},
   "outputs": [
    {
     "data": {
      "application/vnd.jupyter.widget-view+json": {
       "model_id": "8cce54fd95504e4f86273408f8f0c458",
       "version_major": 2,
       "version_minor": 0
      },
      "text/plain": [
       "HBox(children=(VBox(children=(Dropdown(description='Feature:', options=(('checking_status', 0), ('duration', 1…"
      ]
     },
     "metadata": {},
     "output_type": "display_data"
    }
   ],
   "source": [
    "%matplotlib widget\n",
    "plt.ioff()\n",
    "visualizer = InterpretmlEBMVisualizer([male_model, female_model, normal_model, ff_model, combined], [\"Male Model\", \"Female Model\", \"Normal Model\", \"50-50 Model\", \"Combined\"])\n",
    "visualizer.show()"
   ]
  },
  {
   "cell_type": "markdown",
   "metadata": {},
   "source": [
    "# Group Performance Plots"
   ]
  },
  {
   "cell_type": "code",
   "execution_count": 3,
   "metadata": {},
   "outputs": [
    {
     "name": "stdout",
     "output_type": "stream",
     "text": [
      "done\n"
     ]
    }
   ],
   "source": [
    "male_model = ExplainableBoostingClassifier(feature_names=X.columns.tolist())\n",
    "male_model.fit(X_train[X_train['sex'] == 'male'], y_train[X_train['sex'] == 'male'])\n",
    "\n",
    "female_model = ExplainableBoostingClassifier(feature_names=X.columns.tolist())\n",
    "female_model.fit(X_train[X_train['sex'] == 'female'], y_train[X_train['sex'] == 'female'])\n",
    "\n",
    "female_model_eps = ExplainableBoostingClassifier(feature_names=X.columns.tolist())\n",
    "eps = 1e-10\n",
    "female_model_eps.fit(X_train, y_train, sample_weight=X_train['sex'].map(lambda x: eps if x == 'male' else 1 - eps))\n",
    "\n",
    "male_model_eps = ExplainableBoostingClassifier(feature_names=X.columns.tolist())\n",
    "male_model_eps.fit(X_train, y_train, sample_weight=X_train['sex'].map(lambda x: 1 - eps if x == 'male' else eps))\n",
    "\n",
    "normal_model = ExplainableBoostingClassifier(feature_names=X.columns.tolist())\n",
    "normal_model.fit(X_train, y_train)\n",
    "\n",
    "print(\"done\")"
   ]
  },
  {
   "cell_type": "code",
   "execution_count": 4,
   "metadata": {},
   "outputs": [],
   "source": [
    "foi = 'sex'\n",
    "_x = X_train\n",
    "_y = y_train\n",
    "\n",
    "male_mask = _x[foi] == 'male'\n",
    "female_mask = _x[foi] == 'female'"
   ]
  },
  {
   "cell_type": "code",
   "execution_count": 5,
   "metadata": {},
   "outputs": [
    {
     "name": "stderr",
     "output_type": "stream",
     "text": [
      "Processing Group 1/3:   0%|          | 0/100 [00:00<?, ?it/s]"
     ]
    },
    {
     "name": "stderr",
     "output_type": "stream",
     "text": [
      "Processing Group 1/3: 100%|██████████| 100/100 [00:01<00:00, 58.85it/s]\n",
      "Processing Group 2/3: 100%|██████████| 100/100 [00:01<00:00, 71.94it/s]\n",
      "Processing Group 3/3: 100%|██████████| 100/100 [00:00<00:00, 114.75it/s]"
     ]
    },
    {
     "name": "stdout",
     "output_type": "stream",
     "text": [
      "Plotting group: combination_group_0\n",
      "x: [-0.3717883417190313, -0.46947013404517995, -0.3678328710181683, -0.3679864440356917, -0.31666355763211096, -0.43519853658237845, -0.37884064550624963, -0.3993504158535459, -0.38450833884283575, -0.37627820414358726, -0.30024957214426073, -0.3371499961444665, -0.33394674974645605, -0.4468027258337729, -0.48348552812579043, -0.3844119820544019, -0.37365652075636213, -0.3844411274777292, -0.35851090689439535, -0.36162008406344437, -0.384202727381546, -0.4135075398790273, -0.38358688512745964, -0.4051669661485202, -0.38032337844060726, -0.3382643423204916, -0.35982893229491775, -0.3281193168763148, -0.3491609234809819, -0.3747067730138439, -0.4280488218609826, -0.36211375383082905, -0.44540756084906946, -0.42132672737369614, -0.3933341933399665, -0.3385901275430678, -0.38057447408016976, -0.2959429472427394, -0.3243291146669097, -0.32727130101077795, -0.4178925993546543, -0.31512468412912714, -0.3563704291426934, -0.40543624429982894, -0.5126929383484307, -0.3690428625741602, -0.3711727799629187, -0.35335976972854394, -0.33351736967029133, -0.3043981731307023, -0.49402578253603946, -0.4477498839631515, -0.3399972138611323, -0.40976454679211977, -0.5128379051671521, -0.4638659903659754, -0.3001349968922988, -0.40791534479923963, -0.3377840203445385, -0.4794455693429993, -0.3787927456507795, -0.3848757288485048, -0.4294626885120179, -0.39287461668789303, -0.38453597830810704, -0.3528766513941475, -0.40768712564624987, -0.37621652223551844, -0.34057919394728353, -0.3656100869371084, -0.3209757650786869, -0.45700917247285655, -0.3506100129631125, -0.3453113776715532, -0.3813103293563819, -0.35418372718370217, -0.35048817072348626, -0.45119583011689324, -0.39023017446491404, -0.40941503340719265, -0.4266196797723746, -0.32734287316198324, -0.4120830271964472, -0.34745451570750935, -0.4144686281293635, -0.33299976116058877, -0.32526742986005996, -0.4541052212035232, -0.3988287965107923, -0.3234149351857519, -0.48018436203912007, -0.47224344746051666, -0.3761627184402652, -0.3861869587365291, -0.3223028785422881, -0.3158787483574979, -0.38665508765913437, -0.36692552284064817, -0.3491587882485952, -0.3818124274134946], y: [-0.40676310036097385, -0.3468224714533192, -0.4112120000150148, -0.4105930266187621, -0.48185317436662484, -0.3602765962410962, -0.3999964158917219, -0.38417358487856085, -0.395623901088345, -0.40927905351788146, -0.5193334182383305, -0.4503116251432904, -0.4534568882202414, -0.3581967634337413, -0.34124938193895726, -0.39563032756958255, -0.40629005116344774, -0.3951445679369146, -0.42098532052298, -0.4232119300301737, -0.3992747691040913, -0.3775805274451803, -0.39635672084278734, -0.3793415485279847, -0.4034719837363605, -0.44976968127627404, -0.42657323012103093, -0.46168392527853647, -0.4394073600408798, -0.4058688600865713, -0.36438400382658226, -0.4174919418714504, -0.3549885475721442, -0.36877236319450685, -0.3889602741831176, -0.4459420134674907, -0.398739973116862, -0.5298259786868068, -0.4693334832906582, -0.4639077492619978, -0.37014590427798116, -0.4883056645668458, -0.4236016606530179, -0.3797340449551925, -0.3312448436144735, -0.4152859426277799, -0.4079550162435308, -0.4309848410326598, -0.45843472850721717, -0.5117013180012728, -0.335845161568236, -0.35824992934564004, -0.44424888435552656, -0.38073537804916346, -0.33072490836787927, -0.3475702672367107, -0.5172258416809709, -0.37980918656647045, -0.4534575684713652, -0.341357601599942, -0.40005077833013875, -0.39614750443640234, -0.3638370417606761, -0.3887017923588688, -0.3986800640611, -0.434833225035436, -0.37737586635708, -0.4046808982536219, -0.4440515980332059, -0.4183620410707981, -0.47956100909139787, -0.3518830074561609, -0.4308509908338376, -0.4393038160082268, -0.4040775093133015, -0.42819018347026383, -0.4360554488562893, -0.3527074497100228, -0.39040235795406164, -0.37768185089097994, -0.3676303937314134, -0.4631331633925858, -0.38024414333239875, -0.4342242688143992, -0.37825863978743823, -0.4548087356376117, -0.4727263098157929, -0.35097729730954963, -0.38493869917332946, -0.4690548028463557, -0.34147330257858216, -0.3447230139177723, -0.40250193773214027, -0.3937347266159669, -0.47397622200981765, -0.4876714290778671, -0.3930705150414368, -0.41708993310363895, -0.43180429782835933, -0.4024192365303851]\n",
      "Plotting group: combination_group_1\n",
      "x: [-0.2841373569213762, -0.5163791644282795, -0.49694956207671176, -0.3905697938046664, -0.29211838835511184, -0.3929804723494707, -0.456631264017807, -0.3021731760301994, -0.2955605274042803, -0.30062759881020407, -0.37555846101158513, -0.3475152462203745, -0.38431124555309587, -0.315892163423601, -0.4294353622656792, -0.4405532392120283, -0.5379659092139125, -0.35823096213914823, -0.3141706006033333, -0.36916282905420583, -0.4920407375925955, -0.4511453882658985, -0.2948558237214645, -0.42432612165489586, -0.3822609934699166, -0.31078298992827236, -0.3389417169195735, -0.4616775352826366, -0.4789286187361493, -0.46613094798575216, -0.3457149537815526, -0.3813409446343149, -0.3682104045375599, -0.5204525431046076, -0.47886501709183066, -0.3380286334109892, -0.5317642567051996, -0.31140192982401665, -0.3586839364160025, -0.32032320909405865, -0.421811470510798, -0.5352074194025553, -0.3003235494486556, -0.3265374511836936, -0.36494801413900124, -0.5009720985261991, -0.3870565446018735, -0.3410252127694869, -0.34440166389195703, -0.33376943227720773, -0.3673175929389116, -0.3087764113195844, -0.49709717221147454, -0.536322031091232, -0.3979052382346389, -0.4214661250392432, -0.5342727655670813, -0.30383486176664903, -0.29084882623546715, -0.35980624357967783, -0.4586571339661855, -0.47256704189039767, -0.5008010558454763, -0.4741608426210633, -0.37533357710778664, -0.4040398557405279, -0.35214602208539203, -0.3475954634630114, -0.372358391667002, -0.48304987883571826, -0.3758499316826259, -0.42623800211177976, -0.2844696458741627, -0.4744848492072249, -0.28836418489262516, -0.2910366072701205, -0.5024966644670755, -0.5227308078119629, -0.3622614557667733, -0.5428635965304345, -0.4165972653003479, -0.3776982422325809, -0.363936229443653, -0.39915190114473004, -0.3126847654693175, -0.3996513889545201, -0.4362884458249866, -0.3289035239052817, -0.34432726011735876, -0.37834079018678135, -0.35844013558691995, -0.37047970578540057, -0.3209309753393263, -0.30351686057205257, -0.45598352271692894, -0.48429603386011316, -0.2945508883897603, -0.35695463503992175, -0.49459796174556364, -0.42502334159128363], y: [-0.5664709684051136, -0.33037065129214316, -0.33674013593343644, -0.3973038640671946, -0.5424451466900322, -0.3952853154173122, -0.3539800415868838, -0.5174823785017774, -0.5333499635624517, -0.5210231162538029, -0.41085627544846065, -0.44173775024149703, -0.40274107586794455, -0.48961775513354333, -0.3691382843451907, -0.3625524877844463, -0.324795745848482, -0.4289462650327445, -0.4928094794687322, -0.4171984511956791, -0.33854254142682577, -0.35678543612265246, -0.5351604888770538, -0.3723616186525777, -0.4045867004646179, -0.4993239543388521, -0.45304159768918495, -0.35150346441871627, -0.34374733847688965, -0.3493979573587838, -0.44402682158821793, -0.405425651470392, -0.418174879799907, -0.3291916846323494, -0.34377399889762955, -0.45430837419688613, -0.32621984955979716, -0.4981095646640078, -0.4284348551382693, -0.4817410962042619, -0.3739961141655268, -0.3254098232996226, -0.5217309931354084, -0.47143565371123447, -0.4215854220493499, -0.335321382824157, -0.4003202699041347, -0.4501981838222184, -0.4457241051116217, -0.46039167721084545, -0.4190980045401156, -0.5033391754901679, -0.3366871493040171, -0.3251578479395524, -0.3912859244879019, -0.37422312004046215, -0.3256250388475582, -0.5137786283063265, -0.5459698963321437, -0.4271773653585932, -0.352974024508652, -0.3464835311709142, -0.3353806467263204, -0.34578472232478685, -0.4110731413848068, -0.38652612903297523, -0.43604095099795237, -0.44163674766857625, -0.41398376326773867, -0.34204925223715565, -0.41057584303835537, -0.3711403280500434, -0.5653700530901618, -0.34564375562010297, -0.5531672258048106, -0.5454423375035976, -0.3347973066797245, -0.3285567442976383, -0.4244731620360451, -0.32378827291888385, -0.37749030520688315, -0.4088143384252084, -0.422664406217519, -0.39029914765097135, -0.4956274443516933, -0.3899066212478815, -0.3650117226589868, -0.4677170390959081, -0.4458209695588286, -0.4082086887892147, -0.42870982848862577, -0.4158623492747508, -0.4806965934764432, -0.5144794471349282, -0.3543050747238738, -0.3415471324544409, -0.5359518494254724, -0.43039940355049455, -0.3375938039523409, -0.37191411949188025]\n",
      "Plotting group: combination_group_2\n",
      "x: [-0.41513317413844986, -0.5239999529660309, -0.4788345799062074, -0.3903970820680133, -0.3868612670241771, -0.5002915269970364, -0.5430055994966622, -0.37306454678970324, -0.3867750487334775, -0.4536213030285623, -0.41798171550898305, -0.42473740387135833, -0.4340761692317912, -0.43960375040647964, -0.4568612692403789, -0.386706078920571, -0.4112113011976671, -0.40165457286559014, -0.3845647129636255, -0.5275681587981885, -0.38371591534411814, -0.5369933092580907, -0.3957412949989452, -0.3893569253420238, -0.44750535943634284, -0.369648914099413, -0.48395045035228695, -0.47899868595866996, -0.4220943450629298, -0.4860771172709437, -0.4726719804760766, -0.47259338544816587, -0.4103061183879793, -0.377085988698069, -0.38104521145436127, -0.4238935811259034, -0.3745661990746064, -0.44201372315356, -0.530712400896671, -0.3683954014578766, -0.4063933911836198, -0.3871379010765125, -0.40984804316821677, -0.5378291818899724, -0.44743429022540987, -0.47188550331676377, -0.41441388847004945, -0.37566231508853726, -0.46216179936214785, -0.3798676034785923, -0.36958441715994833, -0.441938620749391, -0.43067353200528685, -0.37508074998935936, -0.438119367692044, -0.509491342619822, -0.4508673270680215, -0.37130637450476245, -0.4511879090380891, -0.4125664490999041, -0.46663832527005566, -0.492207129595111, -0.4462241533466843, -0.5374758415309276, -0.49749863987494636, -0.5298846547834714, -0.3845187979221529, -0.4588958956695647, -0.4819889530146444, -0.44614322966669623, -0.3943240418965407, -0.388474973226841, -0.42104730193927165, -0.39140818603782956, -0.4170942241838055, -0.4012671147280346, -0.4139858493444759, -0.4335241667018498, -0.41146290515816586, -0.545316670097336, -0.5432696759133391, -0.42769935910924334, -0.422624646390263, -0.49619558589032214, -0.4168405146509084, -0.44011460975109573, -0.45203580651019015, -0.38080477573244637, -0.4758153420498585, -0.4721192343002009, -0.420045833100078, -0.4085574936242949, -0.4688015960005187, -0.4182803252855622, -0.3866534526506781, -0.4246512411361966, -0.49398785074353824, -0.3748965705819774, -0.4599576017173837, -0.40992470651031626], y: [-0.37177336263328004, -0.3274803156080426, -0.34079708182937357, -0.38983867022890384, -0.39284037935649935, -0.33373417328855115, -0.32367941845400056, -0.4058651413529107, -0.39291512390563543, -0.351013625135076, -0.36996998667950437, -0.36588481826402025, -0.3606462841183506, -0.3577496926350176, -0.34957143654125633, -0.39297496981958974, -0.3743398785525194, -0.3810345156408676, -0.39485752179439665, -0.3266788230320733, -0.39561713044565605, -0.3247512088838841, -0.38552402780845163, -0.3907090403398464, -0.35385024694096995, -0.40946733230015714, -0.3389861148419497, -0.3407377034267234, -0.3674519631896647, -0.338257314753089, -0.3430902353875085, -0.3431202906021908, -0.37494652649686405, -0.4018311403135872, -0.398058867074878, -0.3663809130831295, -0.40433367411337096, -0.3565311707376377, -0.3260044281412603, -0.410832984187377, -0.37763323109087743, -0.3926010683309885, -0.375255621983387, -0.3245943638300944, -0.3538841153974297, -0.3433919235973157, -0.37223669047499175, -0.40323492183861104, -0.3472982931454629, -0.3991612899255113, -0.40953700896006195, -0.35656874899783725, -0.3625029912616161, -0.40381590891511787, -0.3585134211910697, -0.33111827661697657, -0.35227208377918534, -0.4076981570779369, -0.35212402124180975, -0.37344180958586565, -0.3454586945895564, -0.33623345619221084, -0.35446408965892073, -0.32466036908045504, -0.33457611505022317, -0.32617901676521777, -0.3948984146087245, -0.3486864283284825, -0.339670733700792, -0.35450309524349977, -0.3866433912842891, -0.39145521193053706, -0.36808369131114776, -0.38900243164579895, -0.37052651856736313, -0.3813201065937252, -0.3725139639911051, -0.36094358824362055, -0.37417222422069746, -0.32330456179492784, -0.3236354807610716, -0.3641741059874721, -0.3671343919791617, -0.33497664866729226, -0.3706864950017078, -0.3574891948843351, -0.35173441852818743, -0.3982826427967227, -0.3419050289029794, -0.34330204856877994, -0.3686938362852047, -0.37613412485578707, -0.3445951280030223, -0.36978380140000744, -0.393020666851682, -0.36593529458261725, -0.3356665589589974, -0.4040008343796422, -0.3482308172946924, -0.3752037930498135]\n",
      "Plotting group: tocombine_models\n",
      "x: [-0.2839131441757216, -0.546263436800899, -0.36710628058941974], y: [-0.5672196705484417, -0.32315750180803793, -0.41226323960355676]\n"
     ]
    },
    {
     "name": "stderr",
     "output_type": "stream",
     "text": [
      "\n"
     ]
    },
    {
     "data": {
      "application/vnd.jupyter.widget-view+json": {
       "model_id": "c951b30e3dcd454daa5f9eecf2e7f386",
       "version_major": 2,
       "version_minor": 0
      },
      "text/plain": [
       "HBox(children=(VBox(children=(HTML(value='<b>Model Details:</b>'), Output(), HTML(value='<b>Show/Hide Groups:<…"
      ]
     },
     "metadata": {},
     "output_type": "display_data"
    }
   ],
   "source": [
    "%matplotlib widget\n",
    "plt.ioff()\n",
    "analyzer = GenericGroupPerformanceAnalyzer(\n",
    "    models_to_combine=[\n",
    "        (\"Male Model\", male_model),\n",
    "        (\"Female Model\", female_model),\n",
    "        (\"Normal Model\", normal_model),\n",
    "    ],\n",
    "    baseline_models=[\n",
    "    ],\n",
    "    X_test=_x, y_test=_y,\n",
    "    male_mask=male_mask, female_mask=female_mask,\n",
    "    feature_of_interest='sex',\n",
    "    metric='log_likelihood'\n",
    ")\n",
    "analyzer.generate_plot(n_combinations=100)"
   ]
  },
  {
   "cell_type": "markdown",
   "metadata": {},
   "source": [
    "# Adding more trained models"
   ]
  },
  {
   "cell_type": "code",
   "execution_count": 6,
   "metadata": {},
   "outputs": [],
   "source": [
    "import random\n",
    "\n",
    "def generate_pairs(N, random_state=None):\n",
    "    if random_state is not None:\n",
    "        random.seed(random_state)\n",
    "    pairs = [(random.uniform(0, 1), 0) for _ in range(N)]\n",
    "    pairs = [(x, 1 - x) for x, _ in pairs]\n",
    "    return pairs"
   ]
  },
  {
   "cell_type": "code",
   "execution_count": 7,
   "metadata": {},
   "outputs": [
    {
     "data": {
      "application/vnd.jupyter.widget-view+json": {
       "model_id": "db7e8834f7d545d9bd1ab460f9507b7d",
       "version_major": 2,
       "version_minor": 0
      },
      "text/plain": [
       "Training models:   0%|          | 0/100 [00:00<?, ?it/s]"
      ]
     },
     "metadata": {},
     "output_type": "display_data"
    },
    {
     "ename": "KeyboardInterrupt",
     "evalue": "",
     "output_type": "error",
     "traceback": [
      "\u001b[0;31m---------------------------------------------------------------------------\u001b[0m",
      "\u001b[0;31mKeyboardInterrupt\u001b[0m                         Traceback (most recent call last)",
      "Cell \u001b[0;32mIn[7], line 12\u001b[0m\n\u001b[1;32m      9\u001b[0m sample_weights \u001b[38;5;241m=\u001b[39m X_train[\u001b[38;5;124m'\u001b[39m\u001b[38;5;124msex\u001b[39m\u001b[38;5;124m'\u001b[39m]\u001b[38;5;241m.\u001b[39mmap(\u001b[38;5;28;01mlambda\u001b[39;00m x: mw \u001b[38;5;28;01mif\u001b[39;00m x \u001b[38;5;241m==\u001b[39m \u001b[38;5;124m'\u001b[39m\u001b[38;5;124mmale\u001b[39m\u001b[38;5;124m'\u001b[39m \u001b[38;5;28;01melse\u001b[39;00m fw)\n\u001b[1;32m     11\u001b[0m \u001b[38;5;66;03m# Fit the model with sample weights\u001b[39;00m\n\u001b[0;32m---> 12\u001b[0m \u001b[43mnew_model\u001b[49m\u001b[38;5;241;43m.\u001b[39;49m\u001b[43mfit\u001b[49m\u001b[43m(\u001b[49m\u001b[43mX_train\u001b[49m\u001b[43m,\u001b[49m\u001b[43m \u001b[49m\u001b[43my_train\u001b[49m\u001b[43m,\u001b[49m\u001b[43m \u001b[49m\u001b[43msample_weight\u001b[49m\u001b[38;5;241;43m=\u001b[39;49m\u001b[43msample_weights\u001b[49m\u001b[43m)\u001b[49m\n\u001b[1;32m     15\u001b[0m \u001b[38;5;66;03m# Add this model to our collection with the weights used\u001b[39;00m\n\u001b[1;32m     16\u001b[0m additional_models\u001b[38;5;241m.\u001b[39mappend((\u001b[38;5;124mf\u001b[39m\u001b[38;5;124m\"\u001b[39m\u001b[38;5;124mM: \u001b[39m\u001b[38;5;132;01m{\u001b[39;00mmw\u001b[38;5;132;01m:\u001b[39;00m\u001b[38;5;124m.2f\u001b[39m\u001b[38;5;132;01m}\u001b[39;00m\u001b[38;5;124m, F: \u001b[39m\u001b[38;5;132;01m{\u001b[39;00mfw\u001b[38;5;132;01m:\u001b[39;00m\u001b[38;5;124m.2f\u001b[39m\u001b[38;5;132;01m}\u001b[39;00m\u001b[38;5;124m\"\u001b[39m, new_model))\n",
      "File \u001b[0;32m~/.local/lib/python3.10/site-packages/interpret/glassbox/_ebm/_ebm.py:1190\u001b[0m, in \u001b[0;36mEBMModel.fit\u001b[0;34m(self, X, y, sample_weight, bags, init_score)\u001b[0m\n\u001b[1;32m   1186\u001b[0m scores_bags \u001b[38;5;241m=\u001b[39m []\n\u001b[1;32m   1187\u001b[0m \u001b[38;5;28;01mfor\u001b[39;00m model, bag \u001b[38;5;129;01min\u001b[39;00m \u001b[38;5;28mzip\u001b[39m(models, internal_bags):\n\u001b[1;32m   1188\u001b[0m     \u001b[38;5;66;03m# TODO: instead of going back to the original data in X, we\u001b[39;00m\n\u001b[1;32m   1189\u001b[0m     \u001b[38;5;66;03m# could use the compressed and already binned data in dataset\u001b[39;00m\n\u001b[0;32m-> 1190\u001b[0m     scores \u001b[38;5;241m=\u001b[39m \u001b[43mebm_predict_scores\u001b[49m\u001b[43m(\u001b[49m\n\u001b[1;32m   1191\u001b[0m \u001b[43m        \u001b[49m\u001b[43mX\u001b[49m\u001b[43m,\u001b[49m\n\u001b[1;32m   1192\u001b[0m \u001b[43m        \u001b[49m\u001b[43mn_samples\u001b[49m\u001b[43m,\u001b[49m\n\u001b[1;32m   1193\u001b[0m \u001b[43m        \u001b[49m\u001b[43mfeature_names_in\u001b[49m\u001b[43m,\u001b[49m\n\u001b[1;32m   1194\u001b[0m \u001b[43m        \u001b[49m\u001b[43mfeature_types_in\u001b[49m\u001b[43m,\u001b[49m\n\u001b[1;32m   1195\u001b[0m \u001b[43m        \u001b[49m\u001b[43mbins\u001b[49m\u001b[43m,\u001b[49m\n\u001b[1;32m   1196\u001b[0m \u001b[43m        \u001b[49m\u001b[43minitial_intercept\u001b[49m\u001b[43m,\u001b[49m\n\u001b[1;32m   1197\u001b[0m \u001b[43m        \u001b[49m\u001b[43mmodel\u001b[49m\u001b[43m,\u001b[49m\n\u001b[1;32m   1198\u001b[0m \u001b[43m        \u001b[49m\u001b[43mterm_features\u001b[49m\u001b[43m,\u001b[49m\n\u001b[1;32m   1199\u001b[0m \u001b[43m        \u001b[49m\u001b[43minit_score\u001b[49m\u001b[43m,\u001b[49m\n\u001b[1;32m   1200\u001b[0m \u001b[43m    \u001b[49m\u001b[43m)\u001b[49m\n\u001b[1;32m   1201\u001b[0m     \u001b[38;5;28;01mif\u001b[39;00m bag \u001b[38;5;129;01mis\u001b[39;00m \u001b[38;5;129;01mnot\u001b[39;00m \u001b[38;5;28;01mNone\u001b[39;00m \u001b[38;5;129;01mand\u001b[39;00m np\u001b[38;5;241m.\u001b[39mcount_nonzero(bag) \u001b[38;5;241m!=\u001b[39m \u001b[38;5;28mlen\u001b[39m(bag):\n\u001b[1;32m   1202\u001b[0m         scores \u001b[38;5;241m=\u001b[39m scores[bag \u001b[38;5;241m!=\u001b[39m \u001b[38;5;241m0\u001b[39m]\n",
      "File \u001b[0;32m~/.local/lib/python3.10/site-packages/interpret/glassbox/_ebm/_bin.py:148\u001b[0m, in \u001b[0;36mebm_predict_scores\u001b[0;34m(X, n_samples, feature_names_in, feature_types_in, bins, intercept, term_scores, term_features, init_score)\u001b[0m\n\u001b[1;32m    145\u001b[0m sample_scores \u001b[38;5;241m=\u001b[39m np\u001b[38;5;241m.\u001b[39mfull(shape, intercept, dtype\u001b[38;5;241m=\u001b[39mnp\u001b[38;5;241m.\u001b[39mfloat64)\n\u001b[1;32m    147\u001b[0m \u001b[38;5;28;01mif\u001b[39;00m n_samples \u001b[38;5;241m>\u001b[39m \u001b[38;5;241m0\u001b[39m:\n\u001b[0;32m--> 148\u001b[0m     \u001b[38;5;28;01mfor\u001b[39;00m term_idx, bin_indexes \u001b[38;5;129;01min\u001b[39;00m eval_terms(\n\u001b[1;32m    149\u001b[0m         X, n_samples, feature_names_in, feature_types_in, bins, term_features\n\u001b[1;32m    150\u001b[0m     ):\n\u001b[1;32m    151\u001b[0m         sample_scores \u001b[38;5;241m+\u001b[39m\u001b[38;5;241m=\u001b[39m term_scores[term_idx][\u001b[38;5;28mtuple\u001b[39m(bin_indexes)]\n\u001b[1;32m    153\u001b[0m \u001b[38;5;28;01mif\u001b[39;00m init_score \u001b[38;5;129;01mis\u001b[39;00m \u001b[38;5;129;01mnot\u001b[39;00m \u001b[38;5;28;01mNone\u001b[39;00m:\n",
      "File \u001b[0;32m~/.local/lib/python3.10/site-packages/interpret/glassbox/_ebm/_bin.py:57\u001b[0m, in \u001b[0;36meval_terms\u001b[0;34m(X, n_samples, feature_names_in, feature_types_in, bins, term_features)\u001b[0m\n\u001b[1;32m     53\u001b[0m             waiting_list\u001b[38;5;241m.\u001b[39mappend(requirements)\n\u001b[1;32m     55\u001b[0m native \u001b[38;5;241m=\u001b[39m Native\u001b[38;5;241m.\u001b[39mget_native_singleton()\n\u001b[0;32m---> 57\u001b[0m \u001b[38;5;28;01mfor\u001b[39;00m (column_feature_idx, _), (_, X_col, column_categories, bad) \u001b[38;5;129;01min\u001b[39;00m \u001b[38;5;28mzip\u001b[39m(\n\u001b[1;32m     58\u001b[0m     requests,\n\u001b[1;32m     59\u001b[0m     unify_columns(X, requests, feature_names_in, feature_types_in, \u001b[38;5;28;01mNone\u001b[39;00m, \u001b[38;5;28;01mTrue\u001b[39;00m),\n\u001b[1;32m     60\u001b[0m ):\n\u001b[1;32m     61\u001b[0m     \u001b[38;5;28;01mif\u001b[39;00m n_samples \u001b[38;5;241m!=\u001b[39m \u001b[38;5;28mlen\u001b[39m(X_col):\n\u001b[1;32m     62\u001b[0m         msg \u001b[38;5;241m=\u001b[39m \u001b[38;5;124m\"\u001b[39m\u001b[38;5;124mThe columns of X are mismatched in the number of of samples\u001b[39m\u001b[38;5;124m\"\u001b[39m\n",
      "File \u001b[0;32m~/.local/lib/python3.10/site-packages/interpret/utils/_clean_x.py:1177\u001b[0m, in \u001b[0;36munify_columns\u001b[0;34m(X, requests, feature_names_in, feature_types, min_unique_continuous, go_fast)\u001b[0m\n\u001b[1;32m   1175\u001b[0m         X_col \u001b[38;5;241m=\u001b[39m X\u001b[38;5;241m.\u001b[39miloc[:, col_idx]\n\u001b[1;32m   1176\u001b[0m         feature_type \u001b[38;5;241m=\u001b[39m \u001b[38;5;28;01mNone\u001b[39;00m \u001b[38;5;28;01mif\u001b[39;00m feature_types \u001b[38;5;129;01mis\u001b[39;00m \u001b[38;5;28;01mNone\u001b[39;00m \u001b[38;5;28;01melse\u001b[39;00m feature_types[feature_idx]\n\u001b[0;32m-> 1177\u001b[0m         feature_type_in, X_col, categories, bad \u001b[38;5;241m=\u001b[39m \u001b[43m_process_pandas_column\u001b[49m\u001b[43m(\u001b[49m\n\u001b[1;32m   1178\u001b[0m \u001b[43m            \u001b[49m\u001b[43mX_col\u001b[49m\u001b[43m,\u001b[49m\u001b[43m \u001b[49m\u001b[43mcategories\u001b[49m\u001b[43m,\u001b[49m\u001b[43m \u001b[49m\u001b[43mfeature_type\u001b[49m\u001b[43m,\u001b[49m\u001b[43m \u001b[49m\u001b[43mmin_unique_continuous\u001b[49m\n\u001b[1;32m   1179\u001b[0m \u001b[43m        \u001b[49m\u001b[43m)\u001b[49m\n\u001b[1;32m   1180\u001b[0m         \u001b[38;5;28;01myield\u001b[39;00m feature_type_in, X_col, categories, bad\n\u001b[1;32m   1181\u001b[0m \u001b[38;5;28;01melif\u001b[39;00m safe_isinstance(X, \u001b[38;5;124m\"\u001b[39m\u001b[38;5;124mscipy.sparse.sparray\u001b[39m\u001b[38;5;124m\"\u001b[39m):\n",
      "File \u001b[0;32m~/.local/lib/python3.10/site-packages/interpret/utils/_clean_x.py:912\u001b[0m, in \u001b[0;36m_process_pandas_column\u001b[0;34m(X_col, categories, feature_type, min_unique_continuous)\u001b[0m\n\u001b[1;32m    910\u001b[0m \u001b[38;5;28;01mif\u001b[39;00m X_col\u001b[38;5;241m.\u001b[39mdtype\u001b[38;5;241m.\u001b[39mtype \u001b[38;5;129;01mis\u001b[39;00m np\u001b[38;5;241m.\u001b[39mobject_:\n\u001b[1;32m    911\u001b[0m     nonmissings \u001b[38;5;241m=\u001b[39m \u001b[38;5;28;01mNone\u001b[39;00m\n\u001b[0;32m--> 912\u001b[0m     \u001b[38;5;28;01mif\u001b[39;00m \u001b[43mX_col\u001b[49m\u001b[38;5;241;43m.\u001b[39;49m\u001b[43mhasnans\u001b[49m:\n\u001b[1;32m    913\u001b[0m         \u001b[38;5;66;03m# if hasnans is true then there is definetly a real missing value in there and not just a mask\u001b[39;00m\n\u001b[1;32m    914\u001b[0m         nonmissings \u001b[38;5;241m=\u001b[39m X_col\u001b[38;5;241m.\u001b[39mnotna()\u001b[38;5;241m.\u001b[39mvalues\n\u001b[1;32m    915\u001b[0m         X_col \u001b[38;5;241m=\u001b[39m X_col\u001b[38;5;241m.\u001b[39mdropna()\n",
      "File \u001b[0;32m~/.local/lib/python3.10/site-packages/pandas/core/base.py:889\u001b[0m, in \u001b[0;36mIndexOpsMixin.hasnans\u001b[0;34m(self)\u001b[0m\n\u001b[1;32m    866\u001b[0m \u001b[38;5;250m\u001b[39m\u001b[38;5;124;03m\"\"\"\u001b[39;00m\n\u001b[1;32m    867\u001b[0m \u001b[38;5;124;03mReturn True if there are any NaNs.\u001b[39;00m\n\u001b[1;32m    868\u001b[0m \n\u001b[0;32m   (...)\u001b[0m\n\u001b[1;32m    885\u001b[0m \u001b[38;5;124;03mTrue\u001b[39;00m\n\u001b[1;32m    886\u001b[0m \u001b[38;5;124;03m\"\"\"\u001b[39;00m\n\u001b[1;32m    887\u001b[0m \u001b[38;5;66;03m# error: Item \"bool\" of \"Union[bool, ndarray[Any, dtype[bool_]], NDFrame]\"\u001b[39;00m\n\u001b[1;32m    888\u001b[0m \u001b[38;5;66;03m# has no attribute \"any\"\u001b[39;00m\n\u001b[0;32m--> 889\u001b[0m \u001b[38;5;28;01mreturn\u001b[39;00m \u001b[38;5;28mbool\u001b[39m(\u001b[43misna\u001b[49m\u001b[43m(\u001b[49m\u001b[38;5;28;43mself\u001b[39;49m\u001b[43m)\u001b[49m\u001b[38;5;241m.\u001b[39many())\n",
      "File \u001b[0;32m~/.local/lib/python3.10/site-packages/pandas/core/dtypes/missing.py:178\u001b[0m, in \u001b[0;36misna\u001b[0;34m(obj)\u001b[0m\n\u001b[1;32m    101\u001b[0m \u001b[38;5;28;01mdef\u001b[39;00m \u001b[38;5;21misna\u001b[39m(obj: \u001b[38;5;28mobject\u001b[39m) \u001b[38;5;241m-\u001b[39m\u001b[38;5;241m>\u001b[39m \u001b[38;5;28mbool\u001b[39m \u001b[38;5;241m|\u001b[39m npt\u001b[38;5;241m.\u001b[39mNDArray[np\u001b[38;5;241m.\u001b[39mbool_] \u001b[38;5;241m|\u001b[39m NDFrame:\n\u001b[1;32m    102\u001b[0m \u001b[38;5;250m    \u001b[39m\u001b[38;5;124;03m\"\"\"\u001b[39;00m\n\u001b[1;32m    103\u001b[0m \u001b[38;5;124;03m    Detect missing values for an array-like object.\u001b[39;00m\n\u001b[1;32m    104\u001b[0m \n\u001b[0;32m   (...)\u001b[0m\n\u001b[1;32m    176\u001b[0m \u001b[38;5;124;03m    Name: 1, dtype: bool\u001b[39;00m\n\u001b[1;32m    177\u001b[0m \u001b[38;5;124;03m    \"\"\"\u001b[39;00m\n\u001b[0;32m--> 178\u001b[0m     \u001b[38;5;28;01mreturn\u001b[39;00m \u001b[43m_isna\u001b[49m\u001b[43m(\u001b[49m\u001b[43mobj\u001b[49m\u001b[43m)\u001b[49m\n",
      "File \u001b[0;32m~/.local/lib/python3.10/site-packages/pandas/core/dtypes/missing.py:216\u001b[0m, in \u001b[0;36m_isna\u001b[0;34m(obj, inf_as_na)\u001b[0m\n\u001b[1;32m    213\u001b[0m     \u001b[38;5;28;01mreturn\u001b[39;00m _isna_array(obj\u001b[38;5;241m.\u001b[39m_values, inf_as_na\u001b[38;5;241m=\u001b[39minf_as_na)\n\u001b[1;32m    215\u001b[0m \u001b[38;5;28;01melif\u001b[39;00m \u001b[38;5;28misinstance\u001b[39m(obj, ABCSeries):\n\u001b[0;32m--> 216\u001b[0m     result \u001b[38;5;241m=\u001b[39m \u001b[43m_isna_array\u001b[49m\u001b[43m(\u001b[49m\u001b[43mobj\u001b[49m\u001b[38;5;241;43m.\u001b[39;49m\u001b[43m_values\u001b[49m\u001b[43m,\u001b[49m\u001b[43m \u001b[49m\u001b[43minf_as_na\u001b[49m\u001b[38;5;241;43m=\u001b[39;49m\u001b[43minf_as_na\u001b[49m\u001b[43m)\u001b[49m\n\u001b[1;32m    217\u001b[0m     \u001b[38;5;66;03m# box\u001b[39;00m\n\u001b[1;32m    218\u001b[0m     result \u001b[38;5;241m=\u001b[39m obj\u001b[38;5;241m.\u001b[39m_constructor(result, index\u001b[38;5;241m=\u001b[39mobj\u001b[38;5;241m.\u001b[39mindex, name\u001b[38;5;241m=\u001b[39mobj\u001b[38;5;241m.\u001b[39mname, copy\u001b[38;5;241m=\u001b[39m\u001b[38;5;28;01mFalse\u001b[39;00m)\n",
      "File \u001b[0;32m~/.local/lib/python3.10/site-packages/pandas/core/dtypes/missing.py:292\u001b[0m, in \u001b[0;36m_isna_array\u001b[0;34m(values, inf_as_na)\u001b[0m\n\u001b[1;32m    290\u001b[0m     result \u001b[38;5;241m=\u001b[39m _isna_recarray_dtype(values, inf_as_na\u001b[38;5;241m=\u001b[39minf_as_na)\n\u001b[1;32m    291\u001b[0m \u001b[38;5;28;01melif\u001b[39;00m is_string_or_object_np_dtype(values\u001b[38;5;241m.\u001b[39mdtype):\n\u001b[0;32m--> 292\u001b[0m     result \u001b[38;5;241m=\u001b[39m \u001b[43m_isna_string_dtype\u001b[49m\u001b[43m(\u001b[49m\u001b[43mvalues\u001b[49m\u001b[43m,\u001b[49m\u001b[43m \u001b[49m\u001b[43minf_as_na\u001b[49m\u001b[38;5;241;43m=\u001b[39;49m\u001b[43minf_as_na\u001b[49m\u001b[43m)\u001b[49m\n\u001b[1;32m    293\u001b[0m \u001b[38;5;28;01melif\u001b[39;00m dtype\u001b[38;5;241m.\u001b[39mkind \u001b[38;5;129;01min\u001b[39;00m \u001b[38;5;124m\"\u001b[39m\u001b[38;5;124mmM\u001b[39m\u001b[38;5;124m\"\u001b[39m:\n\u001b[1;32m    294\u001b[0m     \u001b[38;5;66;03m# this is the NaT pattern\u001b[39;00m\n\u001b[1;32m    295\u001b[0m     result \u001b[38;5;241m=\u001b[39m values\u001b[38;5;241m.\u001b[39mview(\u001b[38;5;124m\"\u001b[39m\u001b[38;5;124mi8\u001b[39m\u001b[38;5;124m\"\u001b[39m) \u001b[38;5;241m==\u001b[39m iNaT\n",
      "File \u001b[0;32m~/.local/lib/python3.10/site-packages/pandas/core/dtypes/missing.py:313\u001b[0m, in \u001b[0;36m_isna_string_dtype\u001b[0;34m(values, inf_as_na)\u001b[0m\n\u001b[1;32m    311\u001b[0m \u001b[38;5;28;01melse\u001b[39;00m:\n\u001b[1;32m    312\u001b[0m     \u001b[38;5;28;01mif\u001b[39;00m values\u001b[38;5;241m.\u001b[39mndim \u001b[38;5;129;01min\u001b[39;00m {\u001b[38;5;241m1\u001b[39m, \u001b[38;5;241m2\u001b[39m}:\n\u001b[0;32m--> 313\u001b[0m         result \u001b[38;5;241m=\u001b[39m \u001b[43mlibmissing\u001b[49m\u001b[38;5;241;43m.\u001b[39;49m\u001b[43misnaobj\u001b[49m\u001b[43m(\u001b[49m\u001b[43mvalues\u001b[49m\u001b[43m,\u001b[49m\u001b[43m \u001b[49m\u001b[43minf_as_na\u001b[49m\u001b[38;5;241;43m=\u001b[39;49m\u001b[43minf_as_na\u001b[49m\u001b[43m)\u001b[49m\n\u001b[1;32m    314\u001b[0m     \u001b[38;5;28;01melse\u001b[39;00m:\n\u001b[1;32m    315\u001b[0m         \u001b[38;5;66;03m# 0-D, reached via e.g. mask_missing\u001b[39;00m\n\u001b[1;32m    316\u001b[0m         result \u001b[38;5;241m=\u001b[39m libmissing\u001b[38;5;241m.\u001b[39misnaobj(values\u001b[38;5;241m.\u001b[39mravel(), inf_as_na\u001b[38;5;241m=\u001b[39minf_as_na)\n",
      "\u001b[0;31mKeyboardInterrupt\u001b[0m: "
     ]
    }
   ],
   "source": [
    "from tqdm.notebook import tqdm\n",
    "import pickle\n",
    "\n",
    "additional_models = []\n",
    "\n",
    "for (mw, fw) in tqdm(generate_pairs(100, 42), desc=\"Training models\"):\n",
    "    new_model = ExplainableBoostingClassifier(feature_names=X.columns.tolist())\n",
    "    # Create sample_weights based on sex\n",
    "    sample_weights = X_train['sex'].map(lambda x: mw if x == 'male' else fw)\n",
    "\n",
    "    # Fit the model with sample weights\n",
    "    new_model.fit(X_train, y_train, sample_weight=sample_weights)\n",
    "\n",
    "\n",
    "    # Add this model to our collection with the weights used\n",
    "    additional_models.append((f\"M: {mw:.2f}, F: {fw:.2f}\", new_model))\n",
    "    \n",
    "    # Save the additional_models list to a pickle file\n",
    "    with open(\"additional_models.pkl\", \"wb\") as f:\n",
    "        pickle.dump(additional_models, f)"
   ]
  },
  {
   "cell_type": "code",
   "execution_count": 8,
   "metadata": {},
   "outputs": [
    {
     "name": "stdout",
     "output_type": "stream",
     "text": [
      "Loaded 50 models\n"
     ]
    }
   ],
   "source": [
    "import pickle\n",
    "\n",
    "with open(\"pickles/german/additional_models.pkl\", \"rb\") as f:\n",
    "    additional_models = pickle.load(f)\n",
    "\n",
    "print(f\"Loaded {len(additional_models)} models\")"
   ]
  },
  {
   "cell_type": "code",
   "execution_count": null,
   "metadata": {},
   "outputs": [
    {
     "name": "stderr",
     "output_type": "stream",
     "text": [
      "Processing Group 1/3: 100%|██████████| 100/100 [00:01<00:00, 63.11it/s]\n",
      "Processing Group 2/3: 100%|██████████| 100/100 [00:00<00:00, 127.59it/s]\n",
      "Processing Group 3/3: 100%|██████████| 100/100 [00:00<00:00, 127.30it/s]\n"
     ]
    },
    {
     "name": "stdout",
     "output_type": "stream",
     "text": [
      "Plotting group: combination_group_0\n",
      "x: [-0.38279817835629554, -0.3696037907284093, -0.37701773905519065, -0.31371186750953495, -0.3254867237325418, -0.3594394046210292, -0.37770591338755183, -0.339929230331378, -0.4397622012396984, -0.3311004485971879, -0.41718251553611996, -0.3511111226639468, -0.3764779259292964, -0.39741089899151394, -0.3529433978148066, -0.3642121261482715, -0.37037621823607547, -0.3544451406045048, -0.3059650570700862, -0.3088673807122914, -0.3136893578684982, -0.32497257699126947, -0.3701140381175677, -0.3741525881737542, -0.35388923388736326, -0.3942741025077266, -0.4153994421896763, -0.35840666391691867, -0.32986646758860827, -0.31726640691228813, -0.3417688204835965, -0.31007750199383977, -0.37098218303300007, -0.3832751222709865, -0.41874336961222014, -0.3039717135369362, -0.3043595205528867, -0.3705869419669655, -0.35324435450744884, -0.4440940054461761, -0.3523862689250689, -0.36383813216545546, -0.33663612321672776, -0.47268039146447977, -0.35058414326297044, -0.48792680332300714, -0.34857333735941765, -0.35400637247134936, -0.35131434278375445, -0.36720647287563035, -0.35904424688241005, -0.3275925714387253, -0.34616144447619035, -0.33928005349708557, -0.34311008189727177, -0.43649512269535395, -0.3509778794013533, -0.32436731049226364, -0.36492258365343627, -0.30390966779609546, -0.35320613672996126, -0.30854496009970755, -0.3775591600771064, -0.32488114300524173, -0.39994906057015367, -0.3239163064031295, -0.39274053969834943, -0.40594492082682043, -0.37446029782715906, -0.358368654212424, -0.40235082450145176, -0.37613703987402025, -0.4404956715820174, -0.3938491550130567, -0.33274140289068965, -0.3506444510941305, -0.3842588318468214, -0.3123613831665996, -0.35020378089596615, -0.3171956202254912, -0.40512308213998655, -0.4170854624614965, -0.357181259010558, -0.34774561814185256, -0.36617685863877764, -0.3639361300049107, -0.38308108055092954, -0.49453898870270235, -0.3573277546656336, -0.4392382522209292, -0.42814092404920295, -0.39570337362599667, -0.42014370915967875, -0.41493298547189345, -0.44902190902659117, -0.3412672716057322, -0.3676107366863127, -0.4911363910603638, -0.4313025742110592, -0.3879033170401351], y: [-0.34844809265055954, -0.393586581572326, -0.3506650061387656, -0.4886688657516035, -0.4705560707289956, -0.3736130010674935, -0.36775718174483496, -0.4406783610860003, -0.27490485892801664, -0.4157510267957333, -0.2986243103788348, -0.38821419868618817, -0.3727924257938939, -0.3150993168599136, -0.3839352737638376, -0.4021483641828659, -0.3577902083872927, -0.41924867910833263, -0.5110919388314676, -0.4980253881971364, -0.48853350589909755, -0.44900429434176664, -0.38282632857849164, -0.34316339626421793, -0.4004484991307851, -0.31523521197388876, -0.30593388553000783, -0.38356898500343234, -0.4241983645529798, -0.4658788804148482, -0.4145428450729088, -0.49678276456902953, -0.3543736411473096, -0.33023129341026436, -0.2975333371523384, -0.5087173433410563, -0.5110829025851007, -0.3492409004817286, -0.3927929084962684, -0.2725337691219726, -0.4253482380020886, -0.3617092300544917, -0.40294617758872664, -0.2484880615101063, -0.4225441263117926, -0.24029012980670927, -0.39803664243415926, -0.4037540874293014, -0.4227051258791011, -0.4062978835132677, -0.3902481340266047, -0.4615925736597064, -0.43664823946471193, -0.4022735157875193, -0.4348509517440438, -0.2712734627896954, -0.3755304789787131, -0.43340202699029823, -0.4140290550312084, -0.5216884090682389, -0.39036748369416935, -0.5056997551379051, -0.36580423869455336, -0.43663226245871983, -0.3150420623575416, -0.47131992055599886, -0.3235542268330639, -0.31712113455629404, -0.36249002197318203, -0.40838142936995797, -0.30323572994233994, -0.369114215071366, -0.268852264885901, -0.328312013313789, -0.41323169371416635, -0.40131969431258996, -0.35543217215951833, -0.49150259016755604, -0.3986812017510076, -0.46287870374399226, -0.3065866236324874, -0.28954104166289313, -0.41109798601374287, -0.3877473929710295, -0.37559299901568044, -0.4092143722929971, -0.34642227941149023, -0.23685816830770645, -0.4140622860296543, -0.27527441126258845, -0.28691743775416445, -0.33198057324625385, -0.29717063717741643, -0.29955407685465824, -0.2655882104560179, -0.39708916137884687, -0.39413959290956463, -0.23909473469993067, -0.27881212826711504, -0.33995362776303756]\n",
      "Plotting group: combination_group_1\n",
      "x: [-0.29702543489687955, -0.30409284171533774, -0.30361906908198305, -0.3552616166933048, -0.3498808728227027, -0.3509143027329972, -0.3144348445794577, -0.3437294170043922, -0.3297465008974034, -0.3340778083461376, -0.32300215474368044, -0.3109688003648097, -0.3482707332124641, -0.3428112093252354, -0.30392312691693724, -0.3162981593470127, -0.3049003045464778, -0.32835610531044485, -0.3504183491109807, -0.32135730872440543, -0.3204386014608459, -0.3359111247403676, -0.2949574568184227, -0.3017030071179188, -0.3151643823180092, -0.3553127409054532, -0.3266454654707373, -0.3181244045791063, -0.31706734503968087, -0.3268930179929609, -0.3480065189260586, -0.3423951688657949, -0.33750320366333014, -0.29445826663830044, -0.33706372631227216, -0.36079632442113246, -0.3543699204500366, -0.3299979820539229, -0.33148165351329856, -0.35028170703749756, -0.35212082549940166, -0.3516409515909545, -0.3087893977199405, -0.30755541483597737, -0.31789391592494326, -0.3039380112138445, -0.33109346672540285, -0.32129267031271824, -0.2939852183078921, -0.36682627385207095, -0.3526184641652285, -0.3315382217365135, -0.31726301675073937, -0.35047764275003923, -0.36497147149820774, -0.3142242634760203, -0.3099291714194792, -0.3053906540774608, -0.3538663438002385, -0.2980828131127266, -0.35897941883554535, -0.33447690873476316, -0.30027267002181995, -0.33096424262663054, -0.36446860945669873, -0.3575297115393285, -0.3312478321844524, -0.2937307133346753, -0.3054635521169347, -0.3049401628367491, -0.2980370138457745, -0.3230297897196025, -0.3127325080415049, -0.3303699449728675, -0.31127106893882517, -0.3211743673944137, -0.36516246594805735, -0.31903896628679157, -0.3265102374058181, -0.3524514516736415, -0.31738508496833007, -0.34905359445421613, -0.33000883357122407, -0.3267611658917703, -0.3057775507385393, -0.29592260633873957, -0.36444059947799373, -0.29372455772770634, -0.3174220637309792, -0.3321877987750297, -0.3558258344503416, -0.33844457424185825, -0.36153512757850575, -0.29699246099455334, -0.3619282287936942, -0.3369311761164953, -0.30440958310139854, -0.3310062901827331, -0.3524845059145172, -0.3352078883030755], y: [-0.545850463041235, -0.5240301145483859, -0.5253846704631888, -0.42661441080891493, -0.43385011249123817, -0.4324224465037448, -0.4974504473894997, -0.4427487795388995, -0.4659175187140881, -0.4582543204889223, -0.4788690693851498, -0.5057811482227003, -0.4361119888215506, -0.44413894774360974, -0.5245137542513423, -0.4931792662220071, -0.5217529045163476, -0.46848124987287043, -0.43310528022332917, -0.4822372415463777, -0.48415732139078393, -0.455149747712821, -0.5530048891252052, -0.5310089068082697, -0.49576168881823235, -0.42654794993047057, -0.47170890697706835, -0.4891231708622452, -0.4914556315914393, -0.4712366883633415, -0.4364875893667514, -0.44477438564644706, -0.4525169844516725, -0.5547953746834747, -0.45323797992278153, -0.41965444485960995, -0.42778035358092087, -0.4654593766212351, -0.4627902726395606, -0.43329416015149075, -0.43077891851603584, -0.43142963357535014, -0.5112995607479819, -0.5145284106929015, -0.4896282368015313, -0.5244712675419275, -0.4634830893674441, -0.48237140972846787, -0.5565166045430855, -0.41257966839870286, -0.4301082164299484, -0.4626896354269697, -0.49102073673908303, -0.4330234198440006, -0.4147022700917139, -0.4979419405468379, -0.5083850986687567, -0.5203888254754226, -0.42844449460460476, -0.5423431297860506, -0.42188795107794386, -0.4575716845460606, -0.5353699016874753, -0.46371458439933766, -0.41528578675267436, -0.4237055644054381, -0.4632071210661815, -0.5574528279713246, -0.5201872231993715, -0.5216415007012384, -0.5424930688877304, -0.4788132248077658, -0.501476822572112, -0.4647848164855714, -0.5050335091849325, -0.4826173278979052, -0.4144815492556785, -0.48713807549115995, -0.47196760624685197, -0.43033284727896726, -0.4907501578072063, -0.435006479018435, -0.4654396454254233, -0.4714879836101026, -0.5193223222274969, -0.5496149119690458, -0.4153183914756467, -0.5574755619830616, -0.4906682997138551, -0.46153984942549386, -0.4258832389389304, -0.4509870922635171, -0.4187600939300787, -0.5459614060379719, -0.41828744297814774, -0.45345629316892555, -0.5231321786074635, -0.46363921199228125, -0.43028835242921043, -0.4563312428403479]\n",
      "Plotting group: combination_group_2\n",
      "x: [-0.412466989760307, -0.41831710030935854, -0.38454560736739213, -0.46815656638016473, -0.5063168546800476, -0.46119986350667064, -0.5396451252952464, -0.4057180491832512, -0.42852543654069314, -0.44516249652656087, -0.3949396867355006, -0.3702760077147539, -0.5161323905364334, -0.3860162351852255, -0.5155720657493966, -0.4518465518287422, -0.4073195335012759, -0.5134385826194623, -0.3962682624304123, -0.367300437768757, -0.40638315717032436, -0.5477844293356954, -0.41424825436375606, -0.37127111195209594, -0.4108921456925482, -0.37701224954161144, -0.4067071179838882, -0.4185653292769469, -0.4804446939457123, -0.39329434992757334, -0.38333330031886026, -0.4414836736171112, -0.41007669444990474, -0.42662421824931307, -0.4086705930714343, -0.3723396523946507, -0.4366180703443369, -0.4316574405345973, -0.5071349684428897, -0.40399468006697875, -0.3674282732644389, -0.4670632738065867, -0.4892541725756988, -0.3745363846335512, -0.39733291166750984, -0.43990430141111103, -0.41692863094971827, -0.4997189803691819, -0.41173935708871856, -0.438190802798261, -0.38392299847219463, -0.39941928089464857, -0.4044348518721336, -0.4006086014884955, -0.3976417978558096, -0.49397268096422847, -0.3818855792736869, -0.4039118672953549, -0.5097759682308792, -0.37721473475952727, -0.41762201372533564, -0.45879244161178934, -0.4896489096262922, -0.3917919639345559, -0.37229030218442777, -0.3937090070644933, -0.4939426557894534, -0.3679836593246735, -0.42863942560834034, -0.46472969310031975, -0.4301463663269256, -0.3814141183153442, -0.3692806853456239, -0.5307855342916957, -0.3868615102264291, -0.5232027156105337, -0.3839919822424983, -0.373210325082052, -0.4741587515266746, -0.3797527331109136, -0.4060621415267569, -0.4434983120081679, -0.43727862897705594, -0.3728944745934407, -0.5118388624795424, -0.40741499347761284, -0.48987698873776797, -0.5466027819576321, -0.36835986752351463, -0.4404407701813668, -0.41554048628115015, -0.3894092984682655, -0.3762278147607462, -0.39660984247813, -0.3687324910239526, -0.3879310208132211, -0.4535349242916378, -0.4249232317701938, -0.3760584239431477, -0.4317150316078046], y: [-0.310619498992309, -0.3028509231779975, -0.3596081191870848, -0.2551568122798382, -0.2326977938343197, -0.26031973812279835, -0.2197823378289436, -0.32043225139126946, -0.2906661749311489, -0.2738115509372765, -0.3384555273685795, -0.39966816712437164, -0.2282813207322404, -0.3563248962497163, -0.22851987228059473, -0.2678982986741883, -0.3180132035058006, -0.2294431119682152, -0.3360496700505703, -0.41141112623819104, -0.31942037808322993, -0.2176727292740158, -0.30818669046131375, -0.39615696752045615, -0.3128225881149346, -0.3784761240995371, -0.3189312534659436, -0.30253489935412764, -0.24691444499544898, -0.34151767868140503, -0.3624009409051025, -0.27726111198633113, -0.31398328580224977, -0.29281638858100184, -0.31601773316031073, -0.3925613883036415, -0.2820540749772424, -0.28723258519102507, -0.23231024680100948, -0.32310342091196814, -0.41085723660973, -0.2559431506005177, -0.24162713532657162, -0.38564497105300505, -0.33416272469403546, -0.2787872779893092, -0.3046383237773784, -0.2359558982651869, -0.31163118493857034, -0.2804749726282925, -0.36103232822216824, -0.33056525771122985, -0.3224142759105913, -0.32857116102254086, -0.33362187393644016, -0.2389912122673089, -0.36584630248332206, -0.3232336127263172, -0.23108351186585485, -0.3779150068637967, -0.30374150759572555, -0.262197641458634, -0.24140152371101092, -0.34439838008505663, -0.3927238130627642, -0.34073705353194267, -0.2390075699583953, -0.4085116941406699, -0.29053887056871897, -0.2576523436437837, -0.28887266910168086, -0.3669958113295278, -0.40336304124641803, -0.222624731245641, -0.3544866533024975, -0.2254111241120659, -0.3608734897744908, -0.3897492230196958, -0.25099776398009366, -0.3711624818449973, -0.31990746397325015, -0.2753541219210927, -0.2813872842777001, -0.3907579632124255, -0.23015093938009779, -0.31787087217056925, -0.24127159457688455, -0.21793922248240902, -0.4069742286874504, -0.27826575632211425, -0.3064595433442312, -0.3491453010343133, -0.3806841159496527, -0.3354403726053645, -0.40548829290008065, -0.352209087775336, -0.2664726293651683, -0.29478425730945473, -0.3811682803576441, -0.28717067341558933]\n",
      "Plotting group: tocombine_models\n",
      "x: [-0.2936072407008088, -0.36710628058941974, -0.5790244314795585], y: [-0.557909660001727, -0.41226323960355676, -0.2163373052560692]\n",
      "Plotting group: baseline_models\n",
      "x: [-0.34245622231102907, -0.5160596981038086, -0.39331015702593924, -0.40236142798501023, -0.32906019650696555, -0.3283361733942202, -0.31344529993890285, -0.4535613136506999, -0.3676221416213014, -0.5095443952838421, -0.40427013806079826, -0.3712884107796364, -0.5052613511052683, -0.41081157662638607, -0.34087573678705974, -0.35146161870022957, -0.4035173461638811, -0.34550516681219895, -0.316293248071711, -0.5360596849347667, -0.32152466395352297, -0.3405492820223084, -0.3739696544635825, -0.41279107990842506, -0.31023032359224306, -0.37479882132362474, -0.44924595450637633, -0.44719986878105134, -0.3185978578086294, -0.34662509092886445, -0.3206122792921835, -0.33688025083340906, -0.3685652665787512, -0.3029170953537343, -0.3695060581697188, -0.3694595155342301, -0.3206643281898111, -0.3427126201220724, -0.31488562975821177, -0.3502493313875321, -0.3331280959579021, -0.48953695380234913, -0.40401967727071986, -0.3910230401710781, -0.4587148190567022, -0.3896622677643877, -0.44209101165630205, -0.39163259742565, -0.3404818555840807, -0.3732870065391264], y: [-0.4384669747843693, -0.23760701800869047, -0.33452599902710184, -0.3132090910832292, -0.46008765908115035, -0.4430639944137368, -0.503525335858627, -0.24866026307177916, -0.3764372847972056, -0.2454770095768977, -0.31287139771495337, -0.4183624295390927, -0.23277346700929094, -0.309330797241375, -0.4405897063345766, -0.41694665465548786, -0.31351306571532017, -0.42686962747441193, -0.4791356199475385, -0.22733509420962938, -0.4795410511453831, -0.4559178870246619, -0.3398908571815035, -0.2717270918305755, -0.5265081610568182, -0.33968838226677256, -0.24599079535608703, -0.25244070259534374, -0.4917787647444897, -0.43165274776264556, -0.47975490073663074, -0.4647175895168133, -0.42838763844011873, -0.5311146941309535, -0.3543323943778541, -0.4347309267878559, -0.48527079627248093, -0.4332086922381372, -0.4938131840014897, -0.4271968153249199, -0.4528067563762828, -0.22838665428863028, -0.31904914450630345, -0.3376293857019112, -0.24640903599609568, -0.30546245336039374, -0.24655850782358138, -0.33203389366334174, -0.4360258797631587, -0.3528009493239935]\n"
     ]
    },
    {
     "data": {
      "application/vnd.jupyter.widget-view+json": {
       "model_id": "086c80a7302245758d9885878112775c",
       "version_major": 2,
       "version_minor": 0
      },
      "text/plain": [
       "HBox(children=(VBox(children=(HTML(value='<b>Model Details:</b>'), Output(), HTML(value='<b>Show/Hide Groups:<…"
      ]
     },
     "metadata": {},
     "output_type": "display_data"
    }
   ],
   "source": [
    "%matplotlib widget\n",
    "plt.ioff()\n",
    "analyzer = GenericGroupPerformanceAnalyzer(\n",
    "    models_to_combine=[\n",
    "        (\"Male Model\", male_model_eps),\n",
    "        (\"Normal Model\", normal_model),\n",
    "        (\"Female Model\", female_model_eps),\n",
    "    ],\n",
    "    baseline_models=additional_models,\n",
    "    X_test=_x, y_test=_y,\n",
    "    male_mask=male_mask, female_mask=female_mask,\n",
    "    feature_of_interest='sex',\n",
    "    metric='log_likelihood'\n",
    ")\n",
    "analyzer.generate_plot(n_combinations=100)"
   ]
  },
  {
   "cell_type": "code",
   "execution_count": null,
   "metadata": {},
   "outputs": [
    {
     "name": "stderr",
     "output_type": "stream",
     "text": [
      "Evaluating All Models:   0%|          | 0/100 [00:00<?, ?it/s]"
     ]
    },
    {
     "name": "stderr",
     "output_type": "stream",
     "text": [
      "Evaluating All Models:   5%|▌         | 5/100 [00:05<01:38,  1.04s/it]\n"
     ]
    },
    {
     "ename": "KeyboardInterrupt",
     "evalue": "",
     "output_type": "error",
     "traceback": [
      "\u001b[0;31m---------------------------------------------------------------------------\u001b[0m",
      "\u001b[0;31mKeyboardInterrupt\u001b[0m                         Traceback (most recent call last)",
      "Cell \u001b[0;32mIn[9], line 16\u001b[0m\n\u001b[1;32m      2\u001b[0m plt\u001b[38;5;241m.\u001b[39mioff()\n\u001b[1;32m      3\u001b[0m analyzer \u001b[38;5;241m=\u001b[39m GenericGroupPerformanceAnalyzer(\n\u001b[1;32m      4\u001b[0m     models_to_combine\u001b[38;5;241m=\u001b[39m[\n\u001b[1;32m      5\u001b[0m         (\u001b[38;5;124m\"\u001b[39m\u001b[38;5;124mMale Model\u001b[39m\u001b[38;5;124m\"\u001b[39m, male_model),\n\u001b[0;32m   (...)\u001b[0m\n\u001b[1;32m     14\u001b[0m     metric\u001b[38;5;241m=\u001b[39m\u001b[38;5;124m'\u001b[39m\u001b[38;5;124mlog_likelihood\u001b[39m\u001b[38;5;124m'\u001b[39m\n\u001b[1;32m     15\u001b[0m )\n\u001b[0;32m---> 16\u001b[0m \u001b[43manalyzer\u001b[49m\u001b[38;5;241;43m.\u001b[39;49m\u001b[43mgenerate_plot\u001b[49m\u001b[43m(\u001b[49m\u001b[43mn_combinations\u001b[49m\u001b[38;5;241;43m=\u001b[39;49m\u001b[38;5;241;43m100\u001b[39;49m\u001b[43m)\u001b[49m\n",
      "File \u001b[0;32m~/Development/git_clones/PyEBM/interpretml/interpretml_utils.py:925\u001b[0m, in \u001b[0;36mGenericGroupPerformanceAnalyzer.generate_plot\u001b[0;34m(self, n_combinations)\u001b[0m\n\u001b[1;32m    923\u001b[0m \u001b[38;5;28;01mfor\u001b[39;00m w \u001b[38;5;129;01min\u001b[39;00m tqdm(group[\u001b[38;5;124m\"\u001b[39m\u001b[38;5;124mweights\u001b[39m\u001b[38;5;124m\"\u001b[39m], desc\u001b[38;5;241m=\u001b[39m\u001b[38;5;124mf\u001b[39m\u001b[38;5;124m\"\u001b[39m\u001b[38;5;124mEvaluating \u001b[39m\u001b[38;5;132;01m{\u001b[39;00mgroup[\u001b[38;5;124m'\u001b[39m\u001b[38;5;124mlabel\u001b[39m\u001b[38;5;124m'\u001b[39m]\u001b[38;5;132;01m}\u001b[39;00m\u001b[38;5;124m\"\u001b[39m):\n\u001b[1;32m    924\u001b[0m     combined \u001b[38;5;241m=\u001b[39m \u001b[38;5;28mself\u001b[39m\u001b[38;5;241m.\u001b[39m_combine_models(w)\n\u001b[0;32m--> 925\u001b[0m     metrics \u001b[38;5;241m=\u001b[39m \u001b[38;5;28;43mself\u001b[39;49m\u001b[38;5;241;43m.\u001b[39;49m\u001b[43m_evaluate_model\u001b[49m\u001b[43m(\u001b[49m\u001b[43mcombined\u001b[49m\u001b[43m)\u001b[49m\n\u001b[1;32m    926\u001b[0m     metrics\u001b[38;5;241m.\u001b[39mupdate({\n\u001b[1;32m    927\u001b[0m         \u001b[38;5;124m'\u001b[39m\u001b[38;5;124mweights\u001b[39m\u001b[38;5;124m'\u001b[39m: w,\n\u001b[1;32m    928\u001b[0m         \u001b[38;5;124m'\u001b[39m\u001b[38;5;124mgroup_id\u001b[39m\u001b[38;5;124m'\u001b[39m: group[\u001b[38;5;124m\"\u001b[39m\u001b[38;5;124mid\u001b[39m\u001b[38;5;124m\"\u001b[39m],\n\u001b[1;32m    929\u001b[0m         \u001b[38;5;124m'\u001b[39m\u001b[38;5;124mgroup_label\u001b[39m\u001b[38;5;124m'\u001b[39m: group[\u001b[38;5;124m\"\u001b[39m\u001b[38;5;124mlabel\u001b[39m\u001b[38;5;124m\"\u001b[39m],\n\u001b[1;32m    930\u001b[0m         \u001b[38;5;124m'\u001b[39m\u001b[38;5;124mcolor\u001b[39m\u001b[38;5;124m'\u001b[39m: group[\u001b[38;5;124m\"\u001b[39m\u001b[38;5;124mcolor\u001b[39m\u001b[38;5;124m\"\u001b[39m]\n\u001b[1;32m    931\u001b[0m     })\n\u001b[1;32m    932\u001b[0m     group_metrics\u001b[38;5;241m.\u001b[39mappend(metrics)\n",
      "File \u001b[0;32m~/Development/git_clones/PyEBM/interpretml/interpretml_utils.py:817\u001b[0m, in \u001b[0;36mGenericGroupPerformanceAnalyzer._evaluate_model\u001b[0;34m(self, model)\u001b[0m\n\u001b[1;32m    810\u001b[0m     \u001b[38;5;28;01mreturn\u001b[39;00m {\n\u001b[1;32m    811\u001b[0m         \u001b[38;5;124mf\u001b[39m\u001b[38;5;124m'\u001b[39m\u001b[38;5;124mmale_\u001b[39m\u001b[38;5;132;01m{\u001b[39;00m\u001b[38;5;28mself\u001b[39m\u001b[38;5;241m.\u001b[39mmetric\u001b[38;5;132;01m}\u001b[39;00m\u001b[38;5;124m'\u001b[39m: np\u001b[38;5;241m.\u001b[39mmean(\u001b[38;5;28mself\u001b[39m\u001b[38;5;241m.\u001b[39my_test[\u001b[38;5;28mself\u001b[39m\u001b[38;5;241m.\u001b[39mmale_mask] \u001b[38;5;241m==\u001b[39m y_pred[\u001b[38;5;28mself\u001b[39m\u001b[38;5;241m.\u001b[39mmale_mask]),\n\u001b[1;32m    812\u001b[0m         \u001b[38;5;124mf\u001b[39m\u001b[38;5;124m'\u001b[39m\u001b[38;5;124mfemale_\u001b[39m\u001b[38;5;132;01m{\u001b[39;00m\u001b[38;5;28mself\u001b[39m\u001b[38;5;241m.\u001b[39mmetric\u001b[38;5;132;01m}\u001b[39;00m\u001b[38;5;124m'\u001b[39m: np\u001b[38;5;241m.\u001b[39mmean(\u001b[38;5;28mself\u001b[39m\u001b[38;5;241m.\u001b[39my_test[\u001b[38;5;28mself\u001b[39m\u001b[38;5;241m.\u001b[39mfemale_mask] \u001b[38;5;241m==\u001b[39m y_pred[\u001b[38;5;28mself\u001b[39m\u001b[38;5;241m.\u001b[39mfemale_mask]),\n\u001b[1;32m    813\u001b[0m         \u001b[38;5;124mf\u001b[39m\u001b[38;5;124m'\u001b[39m\u001b[38;5;124moverall_\u001b[39m\u001b[38;5;132;01m{\u001b[39;00m\u001b[38;5;28mself\u001b[39m\u001b[38;5;241m.\u001b[39mmetric\u001b[38;5;132;01m}\u001b[39;00m\u001b[38;5;124m'\u001b[39m: np\u001b[38;5;241m.\u001b[39mmean(\u001b[38;5;28mself\u001b[39m\u001b[38;5;241m.\u001b[39my_test \u001b[38;5;241m==\u001b[39m y_pred)\n\u001b[1;32m    814\u001b[0m     }\n\u001b[1;32m    816\u001b[0m \u001b[38;5;28;01melif\u001b[39;00m \u001b[38;5;28mself\u001b[39m\u001b[38;5;241m.\u001b[39mmetric \u001b[38;5;241m==\u001b[39m \u001b[38;5;124m\"\u001b[39m\u001b[38;5;124mlog_likelihood\u001b[39m\u001b[38;5;124m\"\u001b[39m:\n\u001b[0;32m--> 817\u001b[0m     y_probs \u001b[38;5;241m=\u001b[39m \u001b[43mmodel\u001b[49m\u001b[38;5;241;43m.\u001b[39;49m\u001b[43mpredict_proba\u001b[49m\u001b[43m(\u001b[49m\u001b[38;5;28;43mself\u001b[39;49m\u001b[38;5;241;43m.\u001b[39;49m\u001b[43mX_test\u001b[49m\u001b[43m)\u001b[49m\n\u001b[1;32m    818\u001b[0m     eps \u001b[38;5;241m=\u001b[39m \u001b[38;5;241m1e-10\u001b[39m\n\u001b[1;32m    820\u001b[0m     \u001b[38;5;66;03m# For male samples\u001b[39;00m\n",
      "File \u001b[0;32m~/Development/git_clones/PyEBM/interpretml/interpretml_utils.py:164\u001b[0m, in \u001b[0;36mCombinedEBM.__predict_proba\u001b[0;34m(self, X)\u001b[0m\n\u001b[1;32m    163\u001b[0m \u001b[38;5;28;01mdef\u001b[39;00m \u001b[38;5;21m__predict_proba\u001b[39m(\u001b[38;5;28mself\u001b[39m, X):\n\u001b[0;32m--> 164\u001b[0m     probas \u001b[38;5;241m=\u001b[39m [ebm\u001b[38;5;241m.\u001b[39mpredict_proba(X) \u001b[38;5;241m*\u001b[39m w \n\u001b[1;32m    165\u001b[0m             \u001b[38;5;28;01mfor\u001b[39;00m ebm, w \u001b[38;5;129;01min\u001b[39;00m \u001b[38;5;28mzip\u001b[39m(\u001b[38;5;28mself\u001b[39m\u001b[38;5;241m.\u001b[39mebms, \u001b[38;5;28mself\u001b[39m\u001b[38;5;241m.\u001b[39mweights)]\n\u001b[1;32m    166\u001b[0m     \u001b[38;5;28;01mreturn\u001b[39;00m np\u001b[38;5;241m.\u001b[39msum(probas, axis\u001b[38;5;241m=\u001b[39m\u001b[38;5;241m0\u001b[39m)\n",
      "File \u001b[0;32m~/Development/git_clones/PyEBM/interpretml/interpretml_utils.py:164\u001b[0m, in \u001b[0;36m<listcomp>\u001b[0;34m(.0)\u001b[0m\n\u001b[1;32m    163\u001b[0m \u001b[38;5;28;01mdef\u001b[39;00m \u001b[38;5;21m__predict_proba\u001b[39m(\u001b[38;5;28mself\u001b[39m, X):\n\u001b[0;32m--> 164\u001b[0m     probas \u001b[38;5;241m=\u001b[39m [\u001b[43mebm\u001b[49m\u001b[38;5;241;43m.\u001b[39;49m\u001b[43mpredict_proba\u001b[49m\u001b[43m(\u001b[49m\u001b[43mX\u001b[49m\u001b[43m)\u001b[49m \u001b[38;5;241m*\u001b[39m w \n\u001b[1;32m    165\u001b[0m             \u001b[38;5;28;01mfor\u001b[39;00m ebm, w \u001b[38;5;129;01min\u001b[39;00m \u001b[38;5;28mzip\u001b[39m(\u001b[38;5;28mself\u001b[39m\u001b[38;5;241m.\u001b[39mebms, \u001b[38;5;28mself\u001b[39m\u001b[38;5;241m.\u001b[39mweights)]\n\u001b[1;32m    166\u001b[0m     \u001b[38;5;28;01mreturn\u001b[39;00m np\u001b[38;5;241m.\u001b[39msum(probas, axis\u001b[38;5;241m=\u001b[39m\u001b[38;5;241m0\u001b[39m)\n",
      "File \u001b[0;32m~/.local/lib/python3.10/site-packages/interpret/glassbox/_ebm/_ebm.py:3041\u001b[0m, in \u001b[0;36mExplainableBoostingClassifier.predict_proba\u001b[0;34m(self, X, init_score)\u001b[0m\n\u001b[1;32m   3029\u001b[0m \u001b[38;5;28;01mdef\u001b[39;00m \u001b[38;5;21mpredict_proba\u001b[39m(\u001b[38;5;28mself\u001b[39m, X, init_score\u001b[38;5;241m=\u001b[39m\u001b[38;5;28;01mNone\u001b[39;00m):\n\u001b[1;32m   3030\u001b[0m \u001b[38;5;250m    \u001b[39m\u001b[38;5;124;03m\"\"\"Probability estimates on provided samples.\u001b[39;00m\n\u001b[1;32m   3031\u001b[0m \n\u001b[1;32m   3032\u001b[0m \u001b[38;5;124;03m    Args:\u001b[39;00m\n\u001b[0;32m   (...)\u001b[0m\n\u001b[1;32m   3039\u001b[0m \n\u001b[1;32m   3040\u001b[0m \u001b[38;5;124;03m    \"\"\"\u001b[39;00m\n\u001b[0;32m-> 3041\u001b[0m     scores \u001b[38;5;241m=\u001b[39m \u001b[38;5;28;43mself\u001b[39;49m\u001b[38;5;241;43m.\u001b[39;49m\u001b[43m_predict_score\u001b[49m\u001b[43m(\u001b[49m\u001b[43mX\u001b[49m\u001b[43m,\u001b[49m\u001b[43m \u001b[49m\u001b[43minit_score\u001b[49m\u001b[43m)\u001b[49m\n\u001b[1;32m   3042\u001b[0m     \u001b[38;5;28;01mreturn\u001b[39;00m inv_link(scores, \u001b[38;5;28mself\u001b[39m\u001b[38;5;241m.\u001b[39mlink_, \u001b[38;5;28mself\u001b[39m\u001b[38;5;241m.\u001b[39mlink_param_)\n",
      "File \u001b[0;32m~/.local/lib/python3.10/site-packages/interpret/glassbox/_ebm/_ebm.py:1703\u001b[0m, in \u001b[0;36mEBMModel._predict_score\u001b[0;34m(self, X, init_score)\u001b[0m\n\u001b[1;32m   1692\u001b[0m check_is_fitted(\u001b[38;5;28mself\u001b[39m, \u001b[38;5;124m\"\u001b[39m\u001b[38;5;124mhas_fitted_\u001b[39m\u001b[38;5;124m\"\u001b[39m)\n\u001b[1;32m   1694\u001b[0m init_score, X, n_samples \u001b[38;5;241m=\u001b[39m clean_init_score_and_X(\n\u001b[1;32m   1695\u001b[0m     \u001b[38;5;28mself\u001b[39m\u001b[38;5;241m.\u001b[39mlink_,\n\u001b[1;32m   1696\u001b[0m     \u001b[38;5;28mself\u001b[39m\u001b[38;5;241m.\u001b[39mlink_param_,\n\u001b[0;32m   (...)\u001b[0m\n\u001b[1;32m   1700\u001b[0m     \u001b[38;5;28mself\u001b[39m\u001b[38;5;241m.\u001b[39mfeature_types_in_,\n\u001b[1;32m   1701\u001b[0m )\n\u001b[0;32m-> 1703\u001b[0m \u001b[38;5;28;01mreturn\u001b[39;00m \u001b[43mebm_predict_scores\u001b[49m\u001b[43m(\u001b[49m\n\u001b[1;32m   1704\u001b[0m \u001b[43m    \u001b[49m\u001b[43mX\u001b[49m\u001b[43m,\u001b[49m\n\u001b[1;32m   1705\u001b[0m \u001b[43m    \u001b[49m\u001b[43mn_samples\u001b[49m\u001b[43m,\u001b[49m\n\u001b[1;32m   1706\u001b[0m \u001b[43m    \u001b[49m\u001b[38;5;28;43mself\u001b[39;49m\u001b[38;5;241;43m.\u001b[39;49m\u001b[43mfeature_names_in_\u001b[49m\u001b[43m,\u001b[49m\n\u001b[1;32m   1707\u001b[0m \u001b[43m    \u001b[49m\u001b[38;5;28;43mself\u001b[39;49m\u001b[38;5;241;43m.\u001b[39;49m\u001b[43mfeature_types_in_\u001b[49m\u001b[43m,\u001b[49m\n\u001b[1;32m   1708\u001b[0m \u001b[43m    \u001b[49m\u001b[38;5;28;43mself\u001b[39;49m\u001b[38;5;241;43m.\u001b[39;49m\u001b[43mbins_\u001b[49m\u001b[43m,\u001b[49m\n\u001b[1;32m   1709\u001b[0m \u001b[43m    \u001b[49m\u001b[38;5;28;43mself\u001b[39;49m\u001b[38;5;241;43m.\u001b[39;49m\u001b[43mintercept_\u001b[49m\u001b[43m,\u001b[49m\n\u001b[1;32m   1710\u001b[0m \u001b[43m    \u001b[49m\u001b[38;5;28;43mself\u001b[39;49m\u001b[38;5;241;43m.\u001b[39;49m\u001b[43mterm_scores_\u001b[49m\u001b[43m,\u001b[49m\n\u001b[1;32m   1711\u001b[0m \u001b[43m    \u001b[49m\u001b[38;5;28;43mself\u001b[39;49m\u001b[38;5;241;43m.\u001b[39;49m\u001b[43mterm_features_\u001b[49m\u001b[43m,\u001b[49m\n\u001b[1;32m   1712\u001b[0m \u001b[43m    \u001b[49m\u001b[43minit_score\u001b[49m\u001b[43m,\u001b[49m\n\u001b[1;32m   1713\u001b[0m \u001b[43m\u001b[49m\u001b[43m)\u001b[49m\n",
      "File \u001b[0;32m~/.local/lib/python3.10/site-packages/interpret/glassbox/_ebm/_bin.py:148\u001b[0m, in \u001b[0;36mebm_predict_scores\u001b[0;34m(X, n_samples, feature_names_in, feature_types_in, bins, intercept, term_scores, term_features, init_score)\u001b[0m\n\u001b[1;32m    145\u001b[0m sample_scores \u001b[38;5;241m=\u001b[39m np\u001b[38;5;241m.\u001b[39mfull(shape, intercept, dtype\u001b[38;5;241m=\u001b[39mnp\u001b[38;5;241m.\u001b[39mfloat64)\n\u001b[1;32m    147\u001b[0m \u001b[38;5;28;01mif\u001b[39;00m n_samples \u001b[38;5;241m>\u001b[39m \u001b[38;5;241m0\u001b[39m:\n\u001b[0;32m--> 148\u001b[0m     \u001b[38;5;28;01mfor\u001b[39;00m term_idx, bin_indexes \u001b[38;5;129;01min\u001b[39;00m eval_terms(\n\u001b[1;32m    149\u001b[0m         X, n_samples, feature_names_in, feature_types_in, bins, term_features\n\u001b[1;32m    150\u001b[0m     ):\n\u001b[1;32m    151\u001b[0m         sample_scores \u001b[38;5;241m+\u001b[39m\u001b[38;5;241m=\u001b[39m term_scores[term_idx][\u001b[38;5;28mtuple\u001b[39m(bin_indexes)]\n\u001b[1;32m    153\u001b[0m \u001b[38;5;28;01mif\u001b[39;00m init_score \u001b[38;5;129;01mis\u001b[39;00m \u001b[38;5;129;01mnot\u001b[39;00m \u001b[38;5;28;01mNone\u001b[39;00m:\n",
      "File \u001b[0;32m~/.local/lib/python3.10/site-packages/interpret/glassbox/_ebm/_bin.py:57\u001b[0m, in \u001b[0;36meval_terms\u001b[0;34m(X, n_samples, feature_names_in, feature_types_in, bins, term_features)\u001b[0m\n\u001b[1;32m     53\u001b[0m             waiting_list\u001b[38;5;241m.\u001b[39mappend(requirements)\n\u001b[1;32m     55\u001b[0m native \u001b[38;5;241m=\u001b[39m Native\u001b[38;5;241m.\u001b[39mget_native_singleton()\n\u001b[0;32m---> 57\u001b[0m \u001b[38;5;28;01mfor\u001b[39;00m (column_feature_idx, _), (_, X_col, column_categories, bad) \u001b[38;5;129;01min\u001b[39;00m \u001b[38;5;28mzip\u001b[39m(\n\u001b[1;32m     58\u001b[0m     requests,\n\u001b[1;32m     59\u001b[0m     unify_columns(X, requests, feature_names_in, feature_types_in, \u001b[38;5;28;01mNone\u001b[39;00m, \u001b[38;5;28;01mTrue\u001b[39;00m),\n\u001b[1;32m     60\u001b[0m ):\n\u001b[1;32m     61\u001b[0m     \u001b[38;5;28;01mif\u001b[39;00m n_samples \u001b[38;5;241m!=\u001b[39m \u001b[38;5;28mlen\u001b[39m(X_col):\n\u001b[1;32m     62\u001b[0m         msg \u001b[38;5;241m=\u001b[39m \u001b[38;5;124m\"\u001b[39m\u001b[38;5;124mThe columns of X are mismatched in the number of of samples\u001b[39m\u001b[38;5;124m\"\u001b[39m\n",
      "File \u001b[0;32m~/.local/lib/python3.10/site-packages/interpret/utils/_clean_x.py:1177\u001b[0m, in \u001b[0;36munify_columns\u001b[0;34m(X, requests, feature_names_in, feature_types, min_unique_continuous, go_fast)\u001b[0m\n\u001b[1;32m   1175\u001b[0m         X_col \u001b[38;5;241m=\u001b[39m X\u001b[38;5;241m.\u001b[39miloc[:, col_idx]\n\u001b[1;32m   1176\u001b[0m         feature_type \u001b[38;5;241m=\u001b[39m \u001b[38;5;28;01mNone\u001b[39;00m \u001b[38;5;28;01mif\u001b[39;00m feature_types \u001b[38;5;129;01mis\u001b[39;00m \u001b[38;5;28;01mNone\u001b[39;00m \u001b[38;5;28;01melse\u001b[39;00m feature_types[feature_idx]\n\u001b[0;32m-> 1177\u001b[0m         feature_type_in, X_col, categories, bad \u001b[38;5;241m=\u001b[39m \u001b[43m_process_pandas_column\u001b[49m\u001b[43m(\u001b[49m\n\u001b[1;32m   1178\u001b[0m \u001b[43m            \u001b[49m\u001b[43mX_col\u001b[49m\u001b[43m,\u001b[49m\u001b[43m \u001b[49m\u001b[43mcategories\u001b[49m\u001b[43m,\u001b[49m\u001b[43m \u001b[49m\u001b[43mfeature_type\u001b[49m\u001b[43m,\u001b[49m\u001b[43m \u001b[49m\u001b[43mmin_unique_continuous\u001b[49m\n\u001b[1;32m   1179\u001b[0m \u001b[43m        \u001b[49m\u001b[43m)\u001b[49m\n\u001b[1;32m   1180\u001b[0m         \u001b[38;5;28;01myield\u001b[39;00m feature_type_in, X_col, categories, bad\n\u001b[1;32m   1181\u001b[0m \u001b[38;5;28;01melif\u001b[39;00m safe_isinstance(X, \u001b[38;5;124m\"\u001b[39m\u001b[38;5;124mscipy.sparse.sparray\u001b[39m\u001b[38;5;124m\"\u001b[39m):\n",
      "File \u001b[0;32m~/.local/lib/python3.10/site-packages/interpret/utils/_clean_x.py:917\u001b[0m, in \u001b[0;36m_process_pandas_column\u001b[0;34m(X_col, categories, feature_type, min_unique_continuous)\u001b[0m\n\u001b[1;32m    915\u001b[0m             X_col \u001b[38;5;241m=\u001b[39m X_col\u001b[38;5;241m.\u001b[39mdropna()\n\u001b[1;32m    916\u001b[0m         X_col \u001b[38;5;241m=\u001b[39m X_col\u001b[38;5;241m.\u001b[39mvalues\n\u001b[0;32m--> 917\u001b[0m         \u001b[38;5;28;01mreturn\u001b[39;00m \u001b[43m_process_ndarray\u001b[49m\u001b[43m(\u001b[49m\n\u001b[1;32m    918\u001b[0m \u001b[43m            \u001b[49m\u001b[43mX_col\u001b[49m\u001b[43m,\u001b[49m\u001b[43m \u001b[49m\u001b[43mnonmissings\u001b[49m\u001b[43m,\u001b[49m\u001b[43m \u001b[49m\u001b[43mcategories\u001b[49m\u001b[43m,\u001b[49m\u001b[43m \u001b[49m\u001b[43mfeature_type\u001b[49m\u001b[43m,\u001b[49m\u001b[43m \u001b[49m\u001b[43mmin_unique_continuous\u001b[49m\n\u001b[1;32m    919\u001b[0m \u001b[43m        \u001b[49m\u001b[43m)\u001b[49m\n\u001b[1;32m    920\u001b[0m \u001b[38;5;28;01melif\u001b[39;00m \u001b[38;5;28misinstance\u001b[39m(X_col\u001b[38;5;241m.\u001b[39mdtype, pd\u001b[38;5;241m.\u001b[39mCategoricalDtype):\n\u001b[1;32m    921\u001b[0m     \u001b[38;5;66;03m# unlike other missing value types, we get back -1's for missing here, so no need to drop them\u001b[39;00m\n\u001b[1;32m    922\u001b[0m     X_col \u001b[38;5;241m=\u001b[39m X_col\u001b[38;5;241m.\u001b[39mvalues\n",
      "File \u001b[0;32m~/.local/lib/python3.10/site-packages/interpret/utils/_clean_x.py:753\u001b[0m, in \u001b[0;36m_process_ndarray\u001b[0;34m(X_col, nonmissings, categories, processing, min_unique_continuous)\u001b[0m\n\u001b[1;32m    751\u001b[0m         \u001b[38;5;28;01mreturn\u001b[39;00m \u001b[38;5;124m\"\u001b[39m\u001b[38;5;124mnominal\u001b[39m\u001b[38;5;124m\"\u001b[39m, X_col, categories, \u001b[38;5;28;01mNone\u001b[39;00m\n\u001b[1;32m    752\u001b[0m     \u001b[38;5;66;03m# called under: predict\u001b[39;00m\n\u001b[0;32m--> 753\u001b[0m     X_col, bad \u001b[38;5;241m=\u001b[39m \u001b[43m_encode_categorical_existing\u001b[49m\u001b[43m(\u001b[49m\u001b[43mX_col\u001b[49m\u001b[43m,\u001b[49m\u001b[43m \u001b[49m\u001b[43mnonmissings\u001b[49m\u001b[43m,\u001b[49m\u001b[43m \u001b[49m\u001b[43mcategories\u001b[49m\u001b[43m)\u001b[49m\n\u001b[1;32m    754\u001b[0m     \u001b[38;5;28;01mreturn\u001b[39;00m \u001b[38;5;124m\"\u001b[39m\u001b[38;5;124mnominal\u001b[39m\u001b[38;5;124m\"\u001b[39m, X_col, categories, bad\n\u001b[1;32m    755\u001b[0m \u001b[38;5;28;01mif\u001b[39;00m processing \u001b[38;5;241m==\u001b[39m \u001b[38;5;124m\"\u001b[39m\u001b[38;5;124mordinal\u001b[39m\u001b[38;5;124m\"\u001b[39m:\n",
      "File \u001b[0;32m~/.local/lib/python3.10/site-packages/interpret/utils/_clean_x.py:537\u001b[0m, in \u001b[0;36m_encode_categorical_existing\u001b[0;34m(X_col, nonmissings, categories)\u001b[0m\n\u001b[1;32m    534\u001b[0m \u001b[38;5;28;01melif\u001b[39;00m X_col\u001b[38;5;241m.\u001b[39mdtype\u001b[38;5;241m.\u001b[39mtype \u001b[38;5;129;01mis\u001b[39;00m np\u001b[38;5;241m.\u001b[39mobject_:\n\u001b[1;32m    535\u001b[0m     X_col \u001b[38;5;241m=\u001b[39m _densify_object_ndarray(X_col)\n\u001b[0;32m--> 537\u001b[0m uniques, indexes \u001b[38;5;241m=\u001b[39m \u001b[43mnp\u001b[49m\u001b[38;5;241;43m.\u001b[39;49m\u001b[43munique\u001b[49m\u001b[43m(\u001b[49m\u001b[43mX_col\u001b[49m\u001b[43m,\u001b[49m\u001b[43m \u001b[49m\u001b[43mreturn_inverse\u001b[49m\u001b[38;5;241;43m=\u001b[39;49m\u001b[38;5;28;43;01mTrue\u001b[39;49;00m\u001b[43m)\u001b[49m\n\u001b[1;32m    539\u001b[0m \u001b[38;5;28;01mif\u001b[39;00m \u001b[38;5;28missubclass\u001b[39m(X_col\u001b[38;5;241m.\u001b[39mdtype\u001b[38;5;241m.\u001b[39mtype, np\u001b[38;5;241m.\u001b[39mfloating):\n\u001b[1;32m    540\u001b[0m     uniques \u001b[38;5;241m=\u001b[39m uniques\u001b[38;5;241m.\u001b[39mastype(np\u001b[38;5;241m.\u001b[39mfloat64, copy\u001b[38;5;241m=\u001b[39m\u001b[38;5;28;01mFalse\u001b[39;00m)\n",
      "File \u001b[0;32m<__array_function__ internals>:180\u001b[0m, in \u001b[0;36munique\u001b[0;34m(*args, **kwargs)\u001b[0m\n",
      "File \u001b[0;32m~/.local/lib/python3.10/site-packages/numpy/lib/arraysetops.py:274\u001b[0m, in \u001b[0;36munique\u001b[0;34m(ar, return_index, return_inverse, return_counts, axis, equal_nan)\u001b[0m\n\u001b[1;32m    272\u001b[0m ar \u001b[38;5;241m=\u001b[39m np\u001b[38;5;241m.\u001b[39masanyarray(ar)\n\u001b[1;32m    273\u001b[0m \u001b[38;5;28;01mif\u001b[39;00m axis \u001b[38;5;129;01mis\u001b[39;00m \u001b[38;5;28;01mNone\u001b[39;00m:\n\u001b[0;32m--> 274\u001b[0m     ret \u001b[38;5;241m=\u001b[39m \u001b[43m_unique1d\u001b[49m\u001b[43m(\u001b[49m\u001b[43mar\u001b[49m\u001b[43m,\u001b[49m\u001b[43m \u001b[49m\u001b[43mreturn_index\u001b[49m\u001b[43m,\u001b[49m\u001b[43m \u001b[49m\u001b[43mreturn_inverse\u001b[49m\u001b[43m,\u001b[49m\u001b[43m \u001b[49m\u001b[43mreturn_counts\u001b[49m\u001b[43m,\u001b[49m\u001b[43m \u001b[49m\n\u001b[1;32m    275\u001b[0m \u001b[43m                    \u001b[49m\u001b[43mequal_nan\u001b[49m\u001b[38;5;241;43m=\u001b[39;49m\u001b[43mequal_nan\u001b[49m\u001b[43m)\u001b[49m\n\u001b[1;32m    276\u001b[0m     \u001b[38;5;28;01mreturn\u001b[39;00m _unpack_tuple(ret)\n\u001b[1;32m    278\u001b[0m \u001b[38;5;66;03m# axis was specified and not None\u001b[39;00m\n",
      "File \u001b[0;32m~/.local/lib/python3.10/site-packages/numpy/lib/arraysetops.py:333\u001b[0m, in \u001b[0;36m_unique1d\u001b[0;34m(ar, return_index, return_inverse, return_counts, equal_nan)\u001b[0m\n\u001b[1;32m    330\u001b[0m optional_indices \u001b[38;5;241m=\u001b[39m return_index \u001b[38;5;129;01mor\u001b[39;00m return_inverse\n\u001b[1;32m    332\u001b[0m \u001b[38;5;28;01mif\u001b[39;00m optional_indices:\n\u001b[0;32m--> 333\u001b[0m     perm \u001b[38;5;241m=\u001b[39m \u001b[43mar\u001b[49m\u001b[38;5;241;43m.\u001b[39;49m\u001b[43margsort\u001b[49m\u001b[43m(\u001b[49m\u001b[43mkind\u001b[49m\u001b[38;5;241;43m=\u001b[39;49m\u001b[38;5;124;43m'\u001b[39;49m\u001b[38;5;124;43mmergesort\u001b[39;49m\u001b[38;5;124;43m'\u001b[39;49m\u001b[43m \u001b[49m\u001b[38;5;28;43;01mif\u001b[39;49;00m\u001b[43m \u001b[49m\u001b[43mreturn_index\u001b[49m\u001b[43m \u001b[49m\u001b[38;5;28;43;01melse\u001b[39;49;00m\u001b[43m \u001b[49m\u001b[38;5;124;43m'\u001b[39;49m\u001b[38;5;124;43mquicksort\u001b[39;49m\u001b[38;5;124;43m'\u001b[39;49m\u001b[43m)\u001b[49m\n\u001b[1;32m    334\u001b[0m     aux \u001b[38;5;241m=\u001b[39m ar[perm]\n\u001b[1;32m    335\u001b[0m \u001b[38;5;28;01melse\u001b[39;00m:\n",
      "\u001b[0;31mKeyboardInterrupt\u001b[0m: "
     ]
    }
   ],
   "source": [
    "%matplotlib widget\n",
    "plt.ioff()\n",
    "analyzer = GenericGroupPerformanceAnalyzer(\n",
    "    models_to_combine=[\n",
    "        (\"Male Model\", male_model),\n",
    "        (\"Female Model\", female_model),\n",
    "        (\"Normal Model\", normal_model),\n",
    "        *additional_models\n",
    "    ],\n",
    "    baseline_models=[],\n",
    "    X_test=_x, y_test=_y,\n",
    "    male_mask=male_mask, female_mask=female_mask,\n",
    "    feature_of_interest='sex',\n",
    "    metric='log_likelihood'\n",
    ")\n",
    "analyzer.generate_plot(n_combinations=100)"
   ]
  }
 ],
 "metadata": {
  "kernelspec": {
   "display_name": "Python 3",
   "language": "python",
   "name": "python3"
  },
  "language_info": {
   "codemirror_mode": {
    "name": "ipython",
    "version": 3
   },
   "file_extension": ".py",
   "mimetype": "text/x-python",
   "name": "python",
   "nbconvert_exporter": "python",
   "pygments_lexer": "ipython3",
   "version": "3.10.12"
  }
 },
 "nbformat": 4,
 "nbformat_minor": 2
}

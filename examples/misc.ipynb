{
 "cells": [
  {
   "cell_type": "code",
   "execution_count": 1,
   "metadata": {},
   "outputs": [
    {
     "data": {
      "text/plain": [
       "'<!DOCTYPE html>\\n<html lang=\"en\">\\n<head>\\n'"
      ]
     },
     "execution_count": 1,
     "metadata": {},
     "output_type": "execute_result"
    }
   ],
   "source": [
    "html = (\n",
    "    '<!DOCTYPE html>\\n'\n",
    "    '<html lang=\"en\">\\n'\n",
    "    '<head>\\n'\n",
    ")\n",
    "\n",
    "html"
   ]
  },
  {
   "cell_type": "code",
   "execution_count": 2,
   "metadata": {},
   "outputs": [],
   "source": [
    "import numpy as np"
   ]
  },
  {
   "cell_type": "code",
   "execution_count": 5,
   "metadata": {},
   "outputs": [
    {
     "data": {
      "text/plain": [
       "array([[0.98603679, 0.01396321],\n",
       "       [0.43940082, 0.56059918],\n",
       "       [0.97647707, 0.02352293],\n",
       "       [0.80332019, 0.19667981],\n",
       "       [0.99539816, 0.00460184],\n",
       "       [0.57062203, 0.42937797],\n",
       "       [0.45849765, 0.54150235],\n",
       "       [0.54829519, 0.45170481],\n",
       "       [0.20800004, 0.79199996],\n",
       "       [0.51805914, 0.48194086]])"
      ]
     },
     "execution_count": 5,
     "metadata": {},
     "output_type": "execute_result"
    }
   ],
   "source": [
    "np.random.dirichlet(np.ones(2), 10)"
   ]
  },
  {
   "cell_type": "code",
   "execution_count": 1,
   "metadata": {},
   "outputs": [],
   "source": [
    "if []:\n",
    "    print('This will not be printed')"
   ]
  }
 ],
 "metadata": {
  "kernelspec": {
   "display_name": "Python 3",
   "language": "python",
   "name": "python3"
  },
  "language_info": {
   "codemirror_mode": {
    "name": "ipython",
    "version": 3
   },
   "file_extension": ".py",
   "mimetype": "text/x-python",
   "name": "python",
   "nbconvert_exporter": "python",
   "pygments_lexer": "ipython3",
   "version": "3.10.12"
  }
 },
 "nbformat": 4,
 "nbformat_minor": 2
}

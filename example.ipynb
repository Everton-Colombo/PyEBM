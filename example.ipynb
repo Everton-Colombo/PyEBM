{
 "cells": [
  {
   "cell_type": "code",
   "execution_count": 1,
   "metadata": {},
   "outputs": [],
   "source": [
    "from ebm import *"
   ]
  },
  {
   "cell_type": "markdown",
   "metadata": {},
   "source": [
    "# Adult dataset"
   ]
  },
  {
   "cell_type": "code",
   "execution_count": 3,
   "metadata": {},
   "outputs": [
    {
     "name": "stdout",
     "output_type": "stream",
     "text": [
      "17403.0\n",
      "8645.0\n",
      "=== Test Set Performance ===\n",
      "\n",
      "Male-Trained Model:\n",
      "Overall Accuracy: 0.82\n",
      "Gender Performance:\n",
      "Male Accuracy: 0.80\n",
      "Female Accuracy: 0.86\n",
      "\n",
      "Female-Trained Model:\n",
      "Overall Accuracy: 0.80\n",
      "Gender Performance:\n",
      "Male Accuracy: 0.75\n",
      "Female Accuracy: 0.90\n",
      "\n",
      "Normal Model:\n",
      "Overall Accuracy: 0.81\n",
      "Gender Performance:\n",
      "Male Accuracy: 0.76\n",
      "Female Accuracy: 0.91\n",
      "\n",
      "Sex Feature Contributions:\n",
      "Male Model: [-0.07756571]\n",
      "Female Model: [-0.12225092]\n"
     ]
    },
    {
     "data": {
      "application/vnd.jupyter.widget-view+json": {
       "model_id": "2715d3ef69b54c078c30ad267ceacef7",
       "version_major": 2,
       "version_minor": 0
      },
      "text/plain": [
       "HBox(children=(VBox(children=(Dropdown(description='Feature:', options=(('age', 0), ('education-num', 1), ('ho…"
      ]
     },
     "metadata": {},
     "output_type": "display_data"
    }
   ],
   "source": [
    "import numpy as np\n",
    "import pandas as pd\n",
    "from sklearn.model_selection import train_test_split\n",
    "from sklearn.preprocessing import LabelEncoder\n",
    "from sklearn.metrics import accuracy_score, confusion_matrix\n",
    "\n",
    "# Load Adult dataset from UCI\n",
    "url = \"https://archive.ics.uci.edu/ml/machine-learning-databases/adult/adult.data\"\n",
    "columns = [\n",
    "    'age', 'workclass', 'fnlwgt', 'education', 'education-num',\n",
    "    'marital-status', 'occupation', 'relationship', 'race', 'sex',\n",
    "    'capital-gain', 'capital-loss', 'hours-per-week', 'native-country', 'income'\n",
    "]\n",
    "\n",
    "df = pd.read_csv(url, names=columns, na_values=' ?', skipinitialspace=True)\n",
    "df.dropna(inplace=True)\n",
    "\n",
    "# Preprocess data\n",
    "df['sex'] = LabelEncoder().fit_transform(df['sex'])  # Male=1, Female=0\n",
    "df['income'] = (df['income'] == '>50K').astype(int)  # Binary classification\n",
    "\n",
    "# Select key features\n",
    "features = ['age', 'education-num', 'hours-per-week', 'sex', 'capital-gain']\n",
    "X = df[features]\n",
    "y = df['income']\n",
    "\n",
    "# Split data\n",
    "X_train, X_test, y_train, y_test = train_test_split(X, y, test_size=0.2, random_state=42)\n",
    "\n",
    "# Create gender masks using sample weights\n",
    "male_weights = (X_train['sex'] == 1).astype(float)\n",
    "female_weights = (X_train['sex'] == 0).astype(float)\n",
    "\n",
    "print(np.sum(male_weights))\n",
    "print(np.sum(female_weights))\n",
    "\n",
    "# Train gender-specific EBM models\n",
    "male_model = EBMClassifier(n_cycles=1000, learning_rate=0.1, n_bins=256)\n",
    "male_model.fit(X_train, y_train, sample_weight=male_weights)\n",
    "male_model.set_feature_names(features)\n",
    "\n",
    "female_model = EBMClassifier(n_cycles=1000, learning_rate=0.1, n_bins=256)\n",
    "female_model.fit(X_train, y_train, sample_weight=female_weights)\n",
    "female_model.set_feature_names(features)\n",
    "\n",
    "normal_model = EBMClassifier(n_cycles=1000, learning_rate=0.1, n_bins=256)\n",
    "normal_model.fit(X_train, y_train)\n",
    "normal_model.set_feature_names(features)\n",
    "\n",
    "# Evaluate performance\n",
    "def evaluate_model(model, X, y, name):\n",
    "    preds = model.predict(X)\n",
    "    acc = accuracy_score(y, preds)\n",
    "    print(f\"\\n{name} Model:\")\n",
    "    print(f\"Overall Accuracy: {acc:.2f}\")\n",
    "    print(\"Gender Performance:\")\n",
    "    print(f\"Male Accuracy: {accuracy_score(y[X['sex']==1], preds[X['sex']==1]):.2f}\")\n",
    "    print(f\"Female Accuracy: {accuracy_score(y[X['sex']==0], preds[X['sex']==0]):.2f}\")\n",
    "\n",
    "print(\"=== Test Set Performance ===\")\n",
    "evaluate_model(male_model, X_test, y_test, \"Male-Trained\")\n",
    "evaluate_model(female_model, X_test, y_test, \"Female-Trained\")\n",
    "evaluate_model(normal_model, X_test, y_test, \"Normal\")\n",
    "\n",
    "# Analyze sex feature contributions\n",
    "print(\"\\nSex Feature Contributions:\")\n",
    "print(\"Male Model:\", male_model.feature_graphs[features.index('sex')][1])\n",
    "print(\"Female Model:\", female_model.feature_graphs[features.index('sex')][1])\n",
    "\n",
    "# Visualize feature impacts\n",
    "%matplotlib widget\n",
    "vis = EBMVisualizer([male_model, female_model, normal_model], model_names=[\"Male-Trained\", \"Female-Trained\", \"Normal\"])"
   ]
  },
  {
   "cell_type": "markdown",
   "metadata": {},
   "source": [
    "# German Dataset"
   ]
  },
  {
   "cell_type": "code",
   "execution_count": 4,
   "metadata": {},
   "outputs": [
    {
     "name": "stdout",
     "output_type": "stream",
     "text": [
      "=== Test Set Performance ===\n",
      "\n",
      "Male Model:\n",
      "Overall Accuracy: 0.70\n",
      "Gender Performance:\n",
      "Male Accuracy: 0.71\n",
      "Female Accuracy: 0.70\n",
      "\n",
      "Female Model:\n",
      "Overall Accuracy: 0.73\n",
      "Gender Performance:\n",
      "Male Accuracy: 0.72\n",
      "Female Accuracy: 0.79\n",
      "\n",
      "Normal Model:\n",
      "Overall Accuracy: 0.77\n",
      "Gender Performance:\n",
      "Male Accuracy: 0.78\n",
      "Female Accuracy: 0.75\n",
      "Sex Feature Contributions:\n",
      "Male Model: [0.04577506]\n",
      "Female Model: [0.03801522]\n"
     ]
    },
    {
     "data": {
      "application/vnd.jupyter.widget-view+json": {
       "model_id": "cc7147a3120442f29295bc69bde37a40",
       "version_major": 2,
       "version_minor": 0
      },
      "text/plain": [
       "HBox(children=(VBox(children=(Dropdown(description='Feature:', options=(('age', 0), ('sex', 1), ('credit_amoun…"
      ]
     },
     "metadata": {},
     "output_type": "display_data"
    }
   ],
   "source": [
    "import numpy as np\n",
    "import pandas as pd\n",
    "from sklearn.preprocessing import LabelEncoder\n",
    "from sklearn.model_selection import train_test_split\n",
    "from sklearn.metrics import accuracy_score\n",
    "\n",
    "# Load German Credit Dataset\n",
    "url = \"https://archive.ics.uci.edu/ml/machine-learning-databases/statlog/german/german.data\"\n",
    "columns = [\n",
    "    'checking_status', 'duration', 'credit_history', 'purpose', 'credit_amount',\n",
    "    'savings_account', 'employment', 'installment_rate', 'personal_status_sex',\n",
    "    'other_debtors', 'present_residence', 'property', 'age', 'other_installment_plans',\n",
    "    'housing', 'existing_credits', 'job', 'num_maintenance', 'telephone', 'foreign_worker', 'target'\n",
    "]\n",
    "\n",
    "df = pd.read_csv(url, sep=' ', names=columns, header=None)\n",
    "\n",
    "# Preprocessing\n",
    "# Create binary sex feature (Male=1, Female=0)\n",
    "df['sex'] = df['personal_status_sex'].apply(lambda x: 1 if x in ['A91', 'A93', 'A94'] else 0)\n",
    "\n",
    "# Convert target to binary (Good credit=1, Bad credit=0)\n",
    "df['target'] = df['target'].replace({1: 1, 2: 0})\n",
    "\n",
    "# Select and encode features\n",
    "features = ['age', 'sex', 'credit_amount', 'duration', 'checking_status', 'savings_account']\n",
    "categorical_features = ['checking_status', 'savings_account']\n",
    "\n",
    "# Label encode categorical features\n",
    "le = LabelEncoder()\n",
    "for col in categorical_features:\n",
    "    df[col] = le.fit_transform(df[col])\n",
    "\n",
    "X = df[features]\n",
    "y = df['target']\n",
    "\n",
    "# Split data\n",
    "X_train, X_test, y_train, y_test = train_test_split(X, y, test_size=0.2, random_state=42)\n",
    "\n",
    "# Create gender-specific sample weights\n",
    "male_weights = (X_train['sex'] == 1).astype(float)\n",
    "female_weights = (X_train['sex'] == 0).astype(float)\n",
    "\n",
    "# Train models\n",
    "male_model = EBMClassifier(n_cycles=1000, learning_rate=0.1, n_bins=256)\n",
    "male_model.fit(X_train, y_train, sample_weight=male_weights)\n",
    "male_model.set_feature_names(features)\n",
    "\n",
    "female_model = EBMClassifier(n_cycles=1000, learning_rate=0.1, n_bins=256)\n",
    "female_model.fit(X_train, y_train, sample_weight=female_weights)\n",
    "female_model.set_feature_names(features)\n",
    "\n",
    "normal_model = EBMClassifier(n_cycles=1000, learning_rate=0.1, n_bins=256)\n",
    "normal_model.fit(X_train, y_train)\n",
    "normal_model.set_feature_names(features)\n",
    "\n",
    "print(\"=== Test Set Performance ===\")\n",
    "evaluate_model(male_model, X_test, y_test, \"Male\")\n",
    "evaluate_model(female_model, X_test, y_test, \"Female\")\n",
    "evaluate_model(normal_model, X_test, y_test, \"Normal\")\n",
    "\n",
    "# Analyze feature contributions\n",
    "print(\"Sex Feature Contributions:\")\n",
    "print(f\"Male Model: {male_model.feature_graphs[features.index('sex')][1]}\")\n",
    "print(f\"Female Model: {female_model.feature_graphs[features.index('sex')][1]}\")\n",
    "\n",
    "# Visualize differences\n",
    "vis = EBMVisualizer([male_model, female_model, normal_model], model_names=[\"Male-Trained\", \"Female-Trained\", \"Normal\"])"
   ]
  }
 ],
 "metadata": {
  "kernelspec": {
   "display_name": "Python 3",
   "language": "python",
   "name": "python3"
  },
  "language_info": {
   "codemirror_mode": {
    "name": "ipython",
    "version": 3
   },
   "file_extension": ".py",
   "mimetype": "text/x-python",
   "name": "python",
   "nbconvert_exporter": "python",
   "pygments_lexer": "ipython3",
   "version": "3.10.12"
  }
 },
 "nbformat": 4,
 "nbformat_minor": 2
}

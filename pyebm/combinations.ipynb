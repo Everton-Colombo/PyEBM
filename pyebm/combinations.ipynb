{
 "cells": [
  {
   "cell_type": "code",
   "execution_count": 4,
   "metadata": {},
   "outputs": [
    {
     "data": {
      "text/plain": [
       "<matplotlib.pyplot._IoffContext at 0x7dfbea292380>"
      ]
     },
     "execution_count": 4,
     "metadata": {},
     "output_type": "execute_result"
    }
   ],
   "source": [
    "from ebm import *\n",
    "\n",
    "import numpy as np\n",
    "import pandas as pd\n",
    "from sklearn.model_selection import train_test_split\n",
    "from sklearn.preprocessing import LabelEncoder\n",
    "from sklearn.metrics import accuracy_score, confusion_matrix\n",
    "import mplcursors\n",
    "from ipywidgets import HTML, Output, HBox, VBox\n",
    "from IPython.display import display, clear_output\n",
    "from sklearn.metrics import accuracy_score\n",
    "from tqdm.auto import tqdm\n",
    "\n",
    "plt.ioff()"
   ]
  },
  {
   "cell_type": "code",
   "execution_count": null,
   "metadata": {},
   "outputs": [],
   "source": [
    "# def generate_fairness_plot(male_model, female_model, normal_model, X_test, y_test, features, feature_of_interest = 'sex', N=100, combine_strategy: Literal[\"pre\", \"post\"] = \"post\"):\n",
    "#     weights = np.random.dirichlet(np.ones(2), N)\n",
    "#     male_accs = []\n",
    "#     female_accs = []\n",
    "#     metrics_data = []\n",
    "    \n",
    "#     male_mask_test = X_test[feature_of_interest] == 1\n",
    "#     female_mask_test = X_test[feature_of_interest] == 0\n",
    "#     X_test_values = X_test[features].values\n",
    "    \n",
    "#     for mw, fw in weights:\n",
    "#         if combine_strategy == \"post\":\n",
    "#             combined = EBMUtils.combine_ebm_models([male_model, female_model], [mw, fw])\n",
    "#         elif combine_strategy == \"pre\":\n",
    "#             combined = type(male_model)(n_cycles=1000, learning_rate=0.1, n_bins=256, max_depth=3, smoothing_window=11, binning_strategy=\"uniform\")\n",
    "#             sample_weights = mw * (X_test[feature_of_interest] == 1).astype(float) + fw * (X_test[feature_of_interest] == 0).astype(float)\n",
    "#             combined.fit(X_test_values, y_test, sample_weight=sample_weights)\n",
    "            \n",
    "#         y_pred = combined.predict(X_test_values)\n",
    "        \n",
    "#         acc_m = accuracy_score(y_test[male_mask_test], y_pred[male_mask_test])\n",
    "#         acc_f = accuracy_score(y_test[female_mask_test], y_pred[female_mask_test])\n",
    "#         acc_o = accuracy_score(y_test, y_pred)\n",
    "        \n",
    "#         metrics_data.append({\n",
    "#             'male_weight':      mw,\n",
    "#             'female_weight':    fw,\n",
    "#             'male_acc':         acc_m,\n",
    "#             'female_acc':       acc_f,\n",
    "#             'overall_acc':      acc_o\n",
    "#         })\n",
    "#         male_accs.append(acc_m)\n",
    "#         female_accs.append(acc_f)\n",
    "\n",
    "#     fig, ax = plt.subplots(figsize=(10, 8), tight_layout=True)\n",
    "#     scatter = ax.scatter(male_accs, female_accs, c='blue', alpha=0.6, picker=True)\n",
    "#     info_output = Output()\n",
    "    \n",
    "#     # Store metrics data in the figure object\n",
    "#     fig.metrics_data = metrics_data\n",
    "    \n",
    "#     # Hover cursor for highlighting only\n",
    "#     hover_cursor = mplcursors.cursor(scatter, hover=True)\n",
    "#     @hover_cursor.connect(\"add\")\n",
    "#     def on_hover(sel):\n",
    "#         sel.annotation.set_visible(False)  # Hide default annotation\n",
    "#         sel.artist.set_edgecolor('red')\n",
    "#         sel.artist.set_sizes([50 if i == sel.index else 30 for i in range(len(scatter.get_sizes()))])\n",
    "    \n",
    "#     @hover_cursor.connect(\"remove\")\n",
    "#     def on_hover_remove(sel):\n",
    "#         sel.artist.set_edgecolor('none')\n",
    "#         sel.artist.set_sizes([30]*len(scatter.get_sizes()))\n",
    "    \n",
    "#     # Click cursor for panel updates\n",
    "#     click_cursor = mplcursors.cursor(scatter)\n",
    "#     @click_cursor.connect(\"add\")\n",
    "#     def on_click(sel):\n",
    "#         idx = sel.index\n",
    "#         m = fig.metrics_data[idx]\n",
    "#         with info_output:\n",
    "#             clear_output(wait=True)\n",
    "#             display(HTML(\n",
    "#                 f\"\"\"<div style='padding: 10px; border: 1px solid #2196F3; border-radius: 5px;'>\n",
    "#                     <div style='color: #2196F3; font-weight: bold; margin-bottom: 8px;'>\n",
    "#                         Selected Model\n",
    "#                     </div>\n",
    "#                     <table style='width: 100%'>\n",
    "#                         <tr><td colspan=\"2\" style='color: #2196F3; font-weight: bold;'>Weights</td></tr>\n",
    "#                         <tr><td>Male Weight:</td><td><b>{m['male_weight']:.2f}</b></td></tr>\n",
    "#                         <tr><td>Female Weight:</td><td><b>{m['female_weight']:.2f}</b></td></tr>\n",
    "#                         <tr></tr>\n",
    "#                         <tr><td colspan=\"2\" style='color: #2196F3; font-weight: bold;'>Performance</td></tr>\n",
    "#                         <tr><td>Male Accuracy:</td><td><b>{m['male_acc']:.2%}</b></td></tr>\n",
    "#                         <tr><td>Female Accuracy:</td><td><b>{m['female_acc']:.2%}</b></td></tr>\n",
    "#                         <tr><td>Overall Accuracy:</td><td><b>{m['overall_acc']:.2%}</b></td></tr>\n",
    "#                     </table>\n",
    "#                 </div>\"\"\"\n",
    "#             ))\n",
    "    \n",
    "#     models_to_plot = {\n",
    "#         'Male Model': male_model,\n",
    "#         'Female Model': female_model,\n",
    "#         'Normal Model': normal_model\n",
    "#     }\n",
    "    \n",
    "#     for label, model in models_to_plot.items():\n",
    "#         y_pred = model.predict(X_test_values)\n",
    "#         acc_m = accuracy_score(y_test[maHTMLle_mask_test], y_pred[male_mask_test])\n",
    "#         acc_f = accuracy_score(y_test[female_mask_test], y_pred[female_mask_test])\n",
    "#         acc_o = accuracy_score(y_test, y_pred)\n",
    "#         ax.scatter(acc_m, acc_f, s=100, edgecolors='black', label=label, zorder=10)\n",
    "        \n",
    "#         metrics_data.append({\n",
    "#             'male_weight': None,\n",
    "#             'female_weight': None,\n",
    "#             'male_acc': acc_m,\n",
    "#             'female_acc': acc_f,\n",
    "#             'overall_acc': acc_o\n",
    "#         })\n",
    "\n",
    "#     combined_50 = EBMUtils.combine_ebm_models([male_model, female_model], [0.5, 0.5])\n",
    "#     y_pred_50 = combined_50.predict(X_test_values)\n",
    "#     acc_50m = accuracy_score(y_test[male_mask_test], y_pred_50[male_mask_test])\n",
    "#     acc_50f = accuracy_score(y_test[female_mask_test], y_pred_50[female_mask_test])\n",
    "#     ax.scatter(acc_50m, acc_50f, s=200, marker='*', c='gold', edgecolors='black', label='50-50 Combination')\n",
    "\n",
    "#     ax.plot([0, 1], [0, 1], 'k--', alpha=0.3)\n",
    "#     ax.set_xlabel(\"Male Accuracy\")\n",
    "#     ax.set_ylabel(\"Female Accuracy\")\n",
    "#     ax.legend(bbox_to_anchor=(1.05, 1), loc='upper left')\n",
    "#     ax.grid(True)\n",
    "    \n",
    "#     display(HBox([\n",
    "#         VBox([HTML(\"<b>Details:</b>\"), info_output], \n",
    "#              layout={'width': '300px', 'margin': '0 0 0 20px'}),\n",
    "#         fig.canvas\n",
    "#     ]))\n",
    "\n",
    "\n",
    "# class FairnessPlotter:\n",
    "#     def __init__(self, male_model, female_model, normal_model, features, feature_of_interest='sex'):\n",
    "#         \"\"\"Initialize the fairness plotter with models and features.\"\"\"\n",
    "#         self.male_model = male_model\n",
    "#         self.female_model = female_model\n",
    "#         self.normal_model = normal_model\n",
    "#         self.features = features\n",
    "#         self.feature_of_interest = feature_of_interest\n",
    "#         self.metrics_data = []\n",
    "#         self.EBMUtils = EBMUtils  # Store utility class for model combinations\n",
    "        \n",
    "#     def compute_metrics(self, X, y, model):\n",
    "#         \"\"\"Compute accuracy metrics for different subgroups using the given model.\"\"\"\n",
    "#         male_mask = X[self.feature_of_interest] == 1\n",
    "#         female_mask = X[self.feature_of_interest] == 0\n",
    "#         X_values = X[self.features].values\n",
    "        \n",
    "#         y_pred = model.predict(X_values)\n",
    "        \n",
    "#         acc_m = accuracy_score(y[male_mask], y_pred[male_mask])\n",
    "#         acc_f = accuracy_score(y[female_mask], y_pred[female_mask])\n",
    "#         acc_o = accuracy_score(y, y_pred)\n",
    "        \n",
    "#         return {\n",
    "#             'male_acc': acc_m,\n",
    "#             'female_acc': acc_f,\n",
    "#             'overall_acc': acc_o\n",
    "#         }\n",
    "    \n",
    "#     def combine_models(self, weights, X, y=None, combine_strategy=\"post\"):\n",
    "#         \"\"\"Combine male and female models with given weights.\"\"\"\n",
    "#         mw, fw = weights\n",
    "        \n",
    "#         if combine_strategy == \"post\":\n",
    "#             combined = self.EBMUtils.combine_ebm_models([self.male_model, self.female_model], [mw, fw])\n",
    "#         elif combine_strategy == \"pre\":\n",
    "#             combined = type(self.male_model)(n_cycles=1000, learning_rate=0.1, n_bins=256, \n",
    "#                                            max_depth=3, smoothing_window=11, binning_strategy=\"uniform\")\n",
    "#             sample_weights = mw * (X[self.feature_of_interest] == 1).astype(float) + \\\n",
    "#                             fw * (X[self.feature_of_interest] == 0).astype(float)\n",
    "#             combined.fit(X[self.features].values, y, sample_weight=sample_weights)\n",
    "            \n",
    "#         return combined\n",
    "    \n",
    "#     def generate_metrics(self, X_test, y_test, X_train=None, y_train=None, X_all=None, y_all=None, \n",
    "#                         N=100, combine_strategy=\"post\"):\n",
    "#         \"\"\"Generate metrics for N random weight combinations.\"\"\"\n",
    "#         weights = np.random.dirichlet(np.ones(2), N)\n",
    "#         metrics_data = []\n",
    "        \n",
    "#         for mw, fw in tqdm(weights, desc=\"Generating fairness metrics\"):\n",
    "#             combined = self.combine_models([mw, fw], X_test, y_test, combine_strategy)\n",
    "            \n",
    "#             test_metrics = self.compute_metrics(X_test, y_test, combined)\n",
    "#             metrics = {\n",
    "#                 'male_weight': mw,\n",
    "#                 'female_weight': fw,\n",
    "#                 'male_acc': test_metrics['male_acc'],\n",
    "#                 'female_acc': test_metrics['female_acc'],\n",
    "#                 'overall_acc': test_metrics['overall_acc']\n",
    "#             }\n",
    "            \n",
    "#             # Add train metrics if available\n",
    "#             if X_train is not None and y_train is not None:\n",
    "#                 train_metrics = self.compute_metrics(X_train, y_train, combined)\n",
    "#                 metrics.update({\n",
    "#                     'train_male_acc': train_metrics['male_acc'],\n",
    "#                     'train_female_acc': train_metrics['female_acc'],\n",
    "#                     'train_overall_acc': train_metrics['overall_acc']\n",
    "#                 })\n",
    "                \n",
    "#             # Add metrics for the whole dataset if available\n",
    "#             if X_all is not None and y_all is not None:\n",
    "#                 all_metrics = self.compute_metrics(X_all, y_all, combined)\n",
    "#                 metrics.update({\n",
    "#                     'all_male_acc': all_metrics['male_acc'],\n",
    "#                     'all_female_acc': all_metrics['female_acc'],\n",
    "#                     'all_overall_acc': all_metrics['overall_acc']\n",
    "#                 })\n",
    "                \n",
    "#             metrics_data.append(metrics)\n",
    "            \n",
    "#         self.metrics_data = metrics_data\n",
    "#         return metrics_data\n",
    "    \n",
    "#     def plot(self, X_test, y_test, X_train=None, y_train=None, N=100, combine_strategy=\"post\"):\n",
    "#         \"\"\"Generate the fairness plot with interactive elements.\"\"\"\n",
    "#         # Generate metrics if not already done\n",
    "#         if not self.metrics_data:\n",
    "#             # Combine test and train to get the full dataset if both are provided\n",
    "#             X_all = None\n",
    "#             y_all = None\n",
    "#             if X_train is not None and y_train is not None:\n",
    "#                 X_all = pd.concat([X_train, X_test])\n",
    "#                 y_all = pd.concat([y_train, y_test])\n",
    "                \n",
    "#             self.generate_metrics(X_test, y_test, X_train, y_train, X_all, y_all, N, combine_strategy)\n",
    "        \n",
    "#         # Extract accuracy values for plotting\n",
    "#         male_accs = [m['male_acc'] for m in self.metrics_data]\n",
    "#         female_accs = [m['female_acc'] for m in self.metrics_data]\n",
    "        \n",
    "#         # Create plot\n",
    "#         fig, ax = plt.subplots(figsize=(10, 8), tight_layout=True)\n",
    "#         scatter = ax.scatter(male_accs, female_accs, c='blue', alpha=0.6, picker=True, s=30)\n",
    "#         info_output = Output()\n",
    "        \n",
    "#         # Store metrics data in the figure object\n",
    "#         fig.metrics_data = self.metrics_data\n",
    "        \n",
    "#         # Setup hover cursor for highlighting\n",
    "#         hover_cursor = mplcursors.cursor(scatter, hover=True)\n",
    "#         @hover_cursor.connect(\"add\")\n",
    "#         def on_hover(sel):\n",
    "#             sel.annotation.set_visible(False)  # Hide default annotation\n",
    "#             sel.artist.set_edgecolor('red')\n",
    "#             sel.artist.set_sizes([50 if i == sel.index else 30 for i in range(len(scatter.get_sizes()))])\n",
    "        \n",
    "#         @hover_cursor.connect(\"remove\")\n",
    "#         def on_hover_remove(sel):\n",
    "#             sel.artist.set_edgecolor('none')\n",
    "#             sel.artist.set_sizes([30]*len(scatter.get_sizes()))\n",
    "        \n",
    "#         # Setup click cursor for panel updates\n",
    "#         click_cursor = mplcursors.cursor(scatter)\n",
    "#         @click_cursor.connect(\"add\")\n",
    "#         def on_click(sel):\n",
    "#             idx = sel.index\n",
    "#             m = fig.metrics_data[idx]\n",
    "#             with info_output:\n",
    "#                 clear_output(wait=True)\n",
    "#                 html_content = f\"\"\"<div style='padding: 10px; border: 1px solid #2196F3; border-radius: 5px;'>\n",
    "#                     <div style='color: #2196F3; font-weight: bold; margin-bottom: 8px;'>\n",
    "#                         Selected Model\n",
    "#                     </div>\n",
    "#                     <table style='width: 100%'>\n",
    "#                         <tr><td colspan=\"2\" style='color: #2196F3; font-weight: bold;'>Weights</td></tr>\n",
    "#                         <tr><td>Male Weight:</td><td><b>{m['male_weight']:.2f}</b></td></tr>\n",
    "#                         <tr><td>Female Weight:</td><td><b>{m['female_weight']:.2f}</b></td></tr>\n",
    "#                         <tr></tr>\n",
    "#                         <tr><td colspan=\"2\" style='color: #2196F3; font-weight: bold;'>Test Performance</td></tr>\n",
    "#                         <tr><td>Male Accuracy:</td><td><b>{m['male_acc']:.2%}</b></td></tr>\n",
    "#                         <tr><td>Female Accuracy:</td><td><b>{m['female_acc']:.2%}</b></td></tr>\n",
    "#                         <tr><td>Overall Accuracy:</td><td><b>{m['overall_acc']:.2%}</b></td></tr>\"\"\"\n",
    "                \n",
    "#                 # Add training metrics if available\n",
    "#                 if 'train_male_acc' in m:\n",
    "#                     html_content += f\"\"\"\n",
    "#                         <tr></tr>\n",
    "#                         <tr><td colspan=\"2\" style='color: #2196F3; font-weight: bold;'>Train Performance</td></tr>\n",
    "#                         <tr><td>Male Accuracy:</td><td><b>{m['train_male_acc']:.2%}</b></td></tr>\n",
    "#                         <tr><td>Female Accuracy:</td><td><b>{m['train_female_acc']:.2%}</b></td></tr>\n",
    "#                         <tr><td>Overall Accuracy:</td><td><b>{m['train_overall_acc']:.2%}</b></td></tr>\"\"\"\n",
    "                \n",
    "#                 # Add whole dataset metrics if available\n",
    "#                 if 'all_male_acc' in m:\n",
    "#                     html_content += f\"\"\"\n",
    "#                         <tr></tr>\n",
    "#                         <tr><td colspan=\"2\" style='color: #2196F3; font-weight: bold;'>Complete Dataset Performance</td></tr>\n",
    "#                         <tr><td>Male Accuracy:</td><td><b>{m['all_male_acc']:.2%}</b></td></tr>\n",
    "#                         <tr><td>Female Accuracy:</td><td><b>{m['all_female_acc']:.2%}</b></td></tr>\n",
    "#                         <tr><td>Overall Accuracy:</td><td><b>{m['all_overall_acc']:.2%}</b></td></tr>\"\"\"\n",
    "                \n",
    "#                 html_content += \"\"\"\n",
    "#                     </table>\n",
    "#                 </div>\"\"\"\n",
    "#                 display(HTML(html_content))\n",
    "        \n",
    "#         # Plot individual models\n",
    "#         models_to_plot = {\n",
    "#             'Male Model': self.male_model,\n",
    "#             'Female Model': self.female_model,\n",
    "#             'Normal Model': self.normal_model\n",
    "#         }\n",
    "        \n",
    "#         male_mask_test = X_test[self.feature_of_interest] == 1\n",
    "#         female_mask_test = X_test[self.feature_of_interest] == 0\n",
    "#         X_test_values = X_test[self.features].values\n",
    "        \n",
    "#         for label, model in models_to_plot.items():\n",
    "#             y_pred = model.predict(X_test_values)\n",
    "#             acc_m = accuracy_score(y_test[male_mask_test], y_pred[male_mask_test])\n",
    "#             acc_f = accuracy_score(y_test[female_mask_test], y_pred[female_mask_test])\n",
    "#             acc_o = accuracy_score(y_test, y_pred)\n",
    "#             ax.scatter(acc_m, acc_f, s=100, edgecolors='black', label=label, zorder=10)\n",
    "        \n",
    "#         # Plot 50-50 combination\n",
    "#         combined_50 = self.EBMUtils.combine_ebm_models([self.male_model, self.female_model], [0.5, 0.5])\n",
    "#         y_pred_50 = combined_50.predict(X_test_values)\n",
    "#         acc_50m = accuracy_score(y_test[male_mask_test], y_pred_50[male_mask_test])\n",
    "#         acc_50f = accuracy_score(y_test[female_mask_test], y_pred_50[female_mask_test])\n",
    "#         ax.scatter(acc_50m, acc_50f, s=200, marker='*', c='gold', edgecolors='black', label='50-50 Combination')\n",
    "        \n",
    "#         # Add reference line and formatting\n",
    "#         ax.plot([0, 1], [0, 1], 'k--', alpha=0.3)\n",
    "#         ax.set_xlabel(\"Male Accuracy\")\n",
    "#         ax.set_ylabel(\"Female Accuracy\")\n",
    "#         ax.legend(bbox_to_anchor=(1.05, 1), loc='upper left')\n",
    "#         ax.grid(True)\n",
    "        \n",
    "#         # Display the plot and info panel\n",
    "#         display(HBox([\n",
    "#             VBox([HTML(\"<b>Details:</b>\"), info_output], \n",
    "#                  layout={'width': '300px', 'margin': '0 0 0 20px'}),\n",
    "#             fig.canvas\n",
    "#         ]))\n",
    "        \n",
    "#         return fig\n",
    "\n",
    "\n",
    "# # def generate_fairness_plot(male_model, female_model, normal_model, X_test, y_test, features, \n",
    "# #                           feature_of_interest='sex', N=100, combine_strategy=\"post\"):\n",
    "# #     \"\"\"Wrapper function for backwards compatibility.\"\"\"\n",
    "# #     plotter = FairnessPlotter(male_model, female_model, normal_model, features, feature_of_interest)\n",
    "# #     return plotter.plot(X_test, y_test, N=N, combine_strategy=combine_strategy)\n"
   ]
  },
  {
   "cell_type": "code",
   "execution_count": 5,
   "metadata": {},
   "outputs": [],
   "source": [
    "from typing import Literal\n",
    "import numpy as np\n",
    "import matplotlib.pyplot as plt\n",
    "import mplcursors\n",
    "from ipywidgets import HTML, Output, HBox, VBox\n",
    "from IPython.display import display, clear_output\n",
    "from sklearn.metrics import accuracy_score\n",
    "from tqdm.auto import tqdm\n",
    "\n",
    "%matplotlib widget\n",
    "plt.ioff()\n",
    "class GroupPerformanceAnalyzer:\n",
    "    def __init__(self, male_model, female_model, normal_model,\n",
    "                 X_test, y_test, features,\n",
    "                 feature_of_interest='sex',\n",
    "                 combine_strategy: Literal[\"pre\", \"post\"] = \"post\",\n",
    "                 metric: Literal[\"accuracy\", \"log_likelihood\"] = \"accuracy\"):\n",
    "        self.male_model = male_model\n",
    "        self.female_model = female_model\n",
    "        self.normal_model = normal_model\n",
    "        self.X_test = X_test\n",
    "        self.y_test = y_test\n",
    "        self.features = features\n",
    "        self.feature_of_interest = feature_of_interest\n",
    "        self.combine_strategy = combine_strategy\n",
    "        self.metric = metric\n",
    "        \n",
    "        self.male_mask = X_test[feature_of_interest] == 1\n",
    "        self.female_mask = X_test[feature_of_interest] == 0\n",
    "        self.X_values = X_test[features].values\n",
    "        \n",
    "        self.fig = None\n",
    "        self.ax = None\n",
    "        self.scatter = None\n",
    "        self.info_output = Output()\n",
    "        self.metrics_data = []\n",
    "\n",
    "    def _combine_models(self, male_weight, female_weight):\n",
    "        if self.combine_strategy == \"post\":\n",
    "            return EBMUtils.combine_ebm_models(\n",
    "                [self.male_model, self.female_model],\n",
    "                [male_weight, female_weight]\n",
    "            )\n",
    "        \n",
    "        model = type(self.male_model)(\n",
    "            n_cycles=1000, learning_rate=0.1,\n",
    "            n_bins=256, max_depth=3,\n",
    "            smoothing_window=11, binning_strategy=\"uniform\"\n",
    "        )\n",
    "        sample_weights = (\n",
    "            male_weight * (self.X_test[self.feature_of_interest] == 1).astype(float) +\n",
    "            female_weight * (self.X_test[self.feature_of_interest] == 0).astype(float)\n",
    "        )\n",
    "        model.fit(self.X_values, self.y_test, sample_weight=sample_weights)\n",
    "        return model\n",
    "\n",
    "    def _evaluate_model(self, model):\n",
    "        if self.metric == \"accuracy\":\n",
    "            y_pred = model.predict(self.X_values)\n",
    "            metrics = {\n",
    "                f'male_{self.metric}': accuracy_score(self.y_test[self.male_mask], y_pred[self.male_mask]),\n",
    "                f'female_{self.metric}': accuracy_score(self.y_test[self.female_mask], y_pred[self.female_mask]),\n",
    "                f'overall_{self.metric}': accuracy_score(self.y_test, y_pred)\n",
    "            }\n",
    "        elif self.metric == \"log_likelihood\" and hasattr(model, \"predict_proba\"):\n",
    "            y_prob = model.predict_proba(self.X_values)\n",
    "            correct_probs = y_prob[np.arange(len(self.y_test)), self.y_test]\n",
    "            log_probs = np.log(correct_probs + 1e-10)\n",
    "            \n",
    "            # Get group sizes\n",
    "            n_male = self.male_mask.sum()\n",
    "            n_female = self.female_mask.sum()\n",
    "            n_total = len(self.y_test)\n",
    "            \n",
    "            # Normalize by group size\n",
    "            metrics = {\n",
    "                f'male_{self.metric}': np.sum(log_probs[self.male_mask]) / n_total,\n",
    "                f'female_{self.metric}': np.sum(log_probs[self.female_mask]) / n_total,\n",
    "                f'overall_{self.metric}': np.mean(log_probs)\n",
    "            }\n",
    "        \n",
    "        return metrics\n",
    "\n",
    "    def _setup_base_models(self):\n",
    "        for label, model in [\n",
    "            ('Male Model', self.male_model),\n",
    "            ('Female Model', self.female_model),\n",
    "            ('Normal Model', self.normal_model),\n",
    "            ('50-50 Model', EBMUtils.combine_ebm_models([self.male_model, self.female_model], [0.5, 0.5]))\n",
    "        ]:\n",
    "            metrics = self._evaluate_model(model)\n",
    "            self.metrics_data.append(metrics)\n",
    "            \n",
    "            # Use appropriate metric for scatter plot\n",
    "            x_val = metrics[f'male_{self.metric}']\n",
    "            y_val = metrics[f'female_{self.metric}']\n",
    "            \n",
    "            if label == '50-50 Model':\n",
    "                # Special case for 50-50 model\n",
    "                self.ax.scatter(\n",
    "                    x_val, y_val,\n",
    "                    s=200, marker='*', c='gold',\n",
    "                    edgecolors='black', label='50-50 Combination'\n",
    "                )\n",
    "            else:\n",
    "                self.ax.scatter(\n",
    "                    x_val, y_val,\n",
    "                    s=100, edgecolors='black', label=label, zorder=10\n",
    "                )\n",
    "    \n",
    "\n",
    "    def _setup_interactivity(self):\n",
    "        click_cursor = mplcursors.cursor(self.scatter)\n",
    "        \n",
    "        @click_cursor.connect(\"add\")\n",
    "        def on_click(sel):\n",
    "            with self.info_output:\n",
    "                clear_output(wait=True)\n",
    "                m = self.metrics_data[sel.index]\n",
    "                \n",
    "                # Create metrics display based on the chosen metric\n",
    "                metrics_html = f\"\"\"\n",
    "                        <tr><td>Male {self.metric}:</td><td><b>{m['male_{self.metric}']:.4f}</b></td></tr>\n",
    "                        <tr><td>Female {self.metric}:</td><td><b>{m['female_{self.metric}']:.4f}</b></td></tr>\n",
    "                        <tr><td>Overall {self.metric}:</td><td><b>{m['overall_{self.metric}']:.4f}</b></td></tr>\n",
    "                    \"\"\"\n",
    "                \n",
    "                display(HTML(\n",
    "                    f\"\"\"<div style='padding:10px; border:2px solid #2196F3; border-radius:5px;'>\n",
    "                        <div style='color:#2196F3; font-weight:bold; margin-bottom:8px;'>\n",
    "                            Selected Model\n",
    "                        </div>\n",
    "                        <table style='width:100%'>\n",
    "                            <tr><td colspan=\"2\" style='color:#2196F3; font-weight:bold;'>Weights</td></tr>\n",
    "                            <tr><td>Male Weight:</td><td><b>{m.get('male_weight','N/A'):.2f}</b></td></tr>\n",
    "                            <tr><td>Female Weight:</td><td><b>{m.get('female_weight','N/A'):.2f}</b></td></tr>\n",
    "                            <tr></tr>\n",
    "                            <tr><td colspan=\"2\" style='color:#2196F3; font-weight:bold;'>Performance</td></tr>\n",
    "                            {metrics_html}\n",
    "                        </table>\n",
    "                    </div>\"\"\"\n",
    "                ))\n",
    "\n",
    "    def generate_plot(self, N=100):\n",
    "        weights = np.random.dirichlet(np.ones(2), N)\n",
    "        \n",
    "        # Evaluate combined models\n",
    "        for mw, fw in tqdm(weights, desc=\"Evaluating combinations\"):\n",
    "            combined = self._combine_models(mw, fw)\n",
    "            metrics = self._evaluate_model(combined)\n",
    "            metrics.update({'male_weight': mw, 'female_weight': fw})\n",
    "            self.metrics_data.append(metrics)\n",
    "\n",
    "        # Create plot\n",
    "        self.fig, self.ax = plt.subplots(figsize=(10, 8), tight_layout=True)\n",
    "        x_values = [m[f'male_{self.metric}'] for m in self.metrics_data]\n",
    "        y_values = [m[f'female_{self.metric}'] for m in self.metrics_data]\n",
    "        x_label = f\"Male {self.metric}\"\n",
    "        y_label = f\"Female {self.metric}\"\n",
    "        self.scatter = self.ax.scatter(x_values, y_values, c='blue', alpha=0.6, picker=True)\n",
    "\n",
    "        self._setup_base_models()\n",
    "\n",
    "        # Plot formatting\n",
    "        if self.metric == \"accuracy\":\n",
    "            self.ax.plot([0, 1], [0, 1], 'k--', alpha=0.3)\n",
    "        self.ax.set_xlabel(x_label)\n",
    "        self.ax.set_ylabel(y_label)\n",
    "        self.ax.legend(bbox_to_anchor=(1.05, 1), loc='upper left')\n",
    "        self.ax.grid(True)\n",
    "\n",
    "        self._setup_interactivity()\n",
    "\n",
    "        display(HBox([\n",
    "            VBox([HTML(\"<b>Details:</b>\"), self.info_output],\n",
    "                 layout={'width': '300px', 'margin': '0 0 0 20px'}),\n",
    "            self.fig.canvas\n",
    "        ]))     "
   ]
  },
  {
   "cell_type": "markdown",
   "metadata": {},
   "source": [
    "### German dataset"
   ]
  },
  {
   "cell_type": "code",
   "execution_count": 6,
   "metadata": {},
   "outputs": [],
   "source": [
    "# Load German Credit Dataset\n",
    "url = \"https://archive.ics.uci.edu/ml/machine-learning-databases/statlog/german/german.data\"\n",
    "columns = [\n",
    "    'checking_status', 'duration', 'credit_history', 'purpose', 'credit_amount',\n",
    "    'savings_account', 'employment', 'installment_rate', 'personal_status_sex',\n",
    "    'other_debtors', 'present_residence', 'property', 'age', 'other_installment_plans',\n",
    "    'housing', 'existing_credits', 'job', 'num_maintenance', 'telephone', 'foreign_worker', 'target'\n",
    "]\n",
    "\n",
    "df = pd.read_csv(url, sep=' ', names=columns, header=None)\n",
    "\n",
    "# Preprocessing\n",
    "# Create binary sex feature (Male=1, Female=0)\n",
    "df['sex'] = df['personal_status_sex'].apply(lambda x: 1 if x in ['A91', 'A93', 'A94'] else 0)\n",
    "\n",
    "# Convert target to binary (Good credit=1, Bad credit=0)\n",
    "df['target'] = df['target'].replace({1: 1, 2: 0})\n",
    "\n",
    "# Select and encode features\n",
    "features = ['age', 'sex', 'credit_amount', 'duration', 'checking_status', 'savings_account']\n",
    "categorical_features = ['checking_status', 'savings_account']\n",
    "\n",
    "# Label encode categorical features\n",
    "le = LabelEncoder()\n",
    "for col in categorical_features:\n",
    "    df[col] = le.fit_transform(df[col])\n",
    "\n",
    "X = df[features]\n",
    "y = df['target']\n",
    "\n",
    "# Split data\n",
    "X_train, X_test, y_train, y_test = train_test_split(X, y, test_size=0.2, random_state=42)"
   ]
  },
  {
   "cell_type": "code",
   "execution_count": 7,
   "metadata": {},
   "outputs": [
    {
     "data": {
      "application/vnd.jupyter.widget-view+json": {
       "model_id": "57865c903bf0470e8641397b47dbd3ca",
       "version_major": 2,
       "version_minor": 0
      },
      "text/plain": [
       "EBM round-robin cycles:   0%|          | 0/1000 [00:00<?, ?it/s]"
      ]
     },
     "metadata": {},
     "output_type": "display_data"
    },
    {
     "data": {
      "application/vnd.jupyter.widget-view+json": {
       "model_id": "9865d02458e5461597245ae885f4ce38",
       "version_major": 2,
       "version_minor": 0
      },
      "text/plain": [
       "EBM round-robin cycles:   0%|          | 0/1000 [00:00<?, ?it/s]"
      ]
     },
     "metadata": {},
     "output_type": "display_data"
    },
    {
     "data": {
      "application/vnd.jupyter.widget-view+json": {
       "model_id": "ae04ebf4d9fc40f587d93014d52b623a",
       "version_major": 2,
       "version_minor": 0
      },
      "text/plain": [
       "EBM round-robin cycles:   0%|          | 0/1000 [00:00<?, ?it/s]"
      ]
     },
     "metadata": {},
     "output_type": "display_data"
    }
   ],
   "source": [
    "# Create gender-specific sample weights\n",
    "male_weights = (X_train['sex'] == 1).astype(float)\n",
    "female_weights = (X_train['sex'] == 0).astype(float)\n",
    "\n",
    "# Train models\n",
    "male_model = EBMClassifier(n_cycles=1000, learning_rate=0.1, n_bins=256, max_depth=3, smoothing_window=11, binning_strategy=\"uniform\")\n",
    "male_model.fit(X_train, y_train, sample_weight=male_weights)\n",
    "male_model.set_feature_names(features)\n",
    "\n",
    "female_model = EBMClassifier(n_cycles=1000, learning_rate=0.1, n_bins=256, max_depth=3, smoothing_window=11, binning_strategy=\"uniform\")\n",
    "female_model.fit(X_train, y_train, sample_weight=female_weights)\n",
    "female_model.set_feature_names(features)\n",
    "\n",
    "normal_model = EBMClassifier(n_cycles=1000, learning_rate=0.1, n_bins=256, max_depth=3, smoothing_window=11, binning_strategy=\"uniform\")\n",
    "normal_model.fit(X_train, y_train)\n",
    "normal_model.set_feature_names(features)"
   ]
  },
  {
   "cell_type": "markdown",
   "metadata": {},
   "source": [
    "### 50-50 male female combination\n",
    "does not match normal classifier with all instances"
   ]
  },
  {
   "cell_type": "code",
   "execution_count": null,
   "metadata": {},
   "outputs": [
    {
     "data": {
      "application/vnd.jupyter.widget-view+json": {
       "model_id": "0a6f58de6e1a4b77b0091c0071f3df61",
       "version_major": 2,
       "version_minor": 0
      },
      "text/plain": [
       "HBox(children=(VBox(children=(Dropdown(description='Feature:', options=(('age', 0), ('sex', 1), ('credit_amoun…"
      ]
     },
     "metadata": {},
     "output_type": "display_data"
    }
   ],
   "source": [
    "combined_model = EBMUtils.combine_ebm_models([male_model, female_model], [0.5, 0.5])\n",
    "\n",
    "# Visualize differences\n",
    "vis = EBMVisualizer([male_model, female_model, normal_model, combined_model], model_names=[\"Male-Trained\", \"Female-Trained\", \"All\", \"0.5*male + 0.5*female\"])\n",
    "vis.show()"
   ]
  },
  {
   "cell_type": "markdown",
   "metadata": {},
   "source": [
    "### German - weights used to combine the pure male and pure female models"
   ]
  },
  {
   "cell_type": "code",
   "execution_count": 10,
   "metadata": {},
   "outputs": [
    {
     "data": {
      "application/vnd.jupyter.widget-view+json": {
       "model_id": "4b645db139d24d998b514d63365ee069",
       "version_major": 2,
       "version_minor": 0
      },
      "text/plain": [
       "Evaluating combinations:   0%|          | 0/100 [00:00<?, ?it/s]"
      ]
     },
     "metadata": {},
     "output_type": "display_data"
    },
    {
     "data": {
      "application/vnd.jupyter.widget-view+json": {
       "model_id": "431283893bb641208bcfbeca6452cc33",
       "version_major": 2,
       "version_minor": 0
      },
      "text/plain": [
       "HBox(children=(VBox(children=(HTML(value='<b>Details:</b>'), Output()), layout=Layout(margin='0 0 0 20px', wid…"
      ]
     },
     "metadata": {},
     "output_type": "display_data"
    }
   ],
   "source": [
    "analyzer = GroupPerformanceAnalyzer(\n",
    "    male_model, female_model, normal_model,\n",
    "    X_train, y_train, features,\n",
    "    combine_strategy=\"post\", metric=\"accuracy\"\n",
    ")\n",
    "analyzer.generate_plot(N=100)"
   ]
  },
  {
   "cell_type": "code",
   "execution_count": 9,
   "metadata": {},
   "outputs": [
    {
     "data": {
      "application/vnd.jupyter.widget-view+json": {
       "model_id": "044110405378482ba238f1e3bf1f275d",
       "version_major": 2,
       "version_minor": 0
      },
      "text/plain": [
       "Evaluating combinations:   0%|          | 0/100 [00:00<?, ?it/s]"
      ]
     },
     "metadata": {},
     "output_type": "display_data"
    },
    {
     "data": {
      "application/vnd.jupyter.widget-view+json": {
       "model_id": "fcda9b9bccaa4e35bec712ca44993c0d",
       "version_major": 2,
       "version_minor": 0
      },
      "text/plain": [
       "HBox(children=(VBox(children=(HTML(value='<b>Details:</b>'), Output()), layout=Layout(margin='0 0 0 20px', wid…"
      ]
     },
     "metadata": {},
     "output_type": "display_data"
    }
   ],
   "source": [
    "analyzer = GroupPerformanceAnalyzer(\n",
    "    male_model, female_model, normal_model,\n",
    "    X_train, y_train, features,\n",
    "    combine_strategy=\"post\", metric=\"log_likelihood\"\n",
    ")\n",
    "analyzer.generate_plot(N=100)"
   ]
  },
  {
   "cell_type": "markdown",
   "metadata": {},
   "source": [
    "### German -  weights used as sample weights in the training step"
   ]
  },
  {
   "cell_type": "code",
   "execution_count": 11,
   "metadata": {},
   "outputs": [
    {
     "data": {
      "application/vnd.jupyter.widget-view+json": {
       "model_id": "f9772341231f401aa3ff493f5c4a65f3",
       "version_major": 2,
       "version_minor": 0
      },
      "text/plain": [
       "Evaluating combinations:   0%|          | 0/10 [00:00<?, ?it/s]"
      ]
     },
     "metadata": {},
     "output_type": "display_data"
    },
    {
     "data": {
      "application/vnd.jupyter.widget-view+json": {
       "model_id": "e0818a8177b4457c8f9bf839ed43f86e",
       "version_major": 2,
       "version_minor": 0
      },
      "text/plain": [
       "EBM round-robin cycles:   0%|          | 0/1000 [00:00<?, ?it/s]"
      ]
     },
     "metadata": {},
     "output_type": "display_data"
    },
    {
     "data": {
      "application/vnd.jupyter.widget-view+json": {
       "model_id": "f6890390cfdf454487dbaddbb3d52acb",
       "version_major": 2,
       "version_minor": 0
      },
      "text/plain": [
       "EBM round-robin cycles:   0%|          | 0/1000 [00:00<?, ?it/s]"
      ]
     },
     "metadata": {},
     "output_type": "display_data"
    },
    {
     "data": {
      "application/vnd.jupyter.widget-view+json": {
       "model_id": "cf46392994b74a07b8ac9eca866261dc",
       "version_major": 2,
       "version_minor": 0
      },
      "text/plain": [
       "EBM round-robin cycles:   0%|          | 0/1000 [00:00<?, ?it/s]"
      ]
     },
     "metadata": {},
     "output_type": "display_data"
    },
    {
     "data": {
      "application/vnd.jupyter.widget-view+json": {
       "model_id": "97b2adc3fe1e4c419d1289f9bafe5022",
       "version_major": 2,
       "version_minor": 0
      },
      "text/plain": [
       "EBM round-robin cycles:   0%|          | 0/1000 [00:00<?, ?it/s]"
      ]
     },
     "metadata": {},
     "output_type": "display_data"
    },
    {
     "data": {
      "application/vnd.jupyter.widget-view+json": {
       "model_id": "66943a4d2f3b4f038c4650343489aab9",
       "version_major": 2,
       "version_minor": 0
      },
      "text/plain": [
       "EBM round-robin cycles:   0%|          | 0/1000 [00:00<?, ?it/s]"
      ]
     },
     "metadata": {},
     "output_type": "display_data"
    },
    {
     "data": {
      "application/vnd.jupyter.widget-view+json": {
       "model_id": "427397b2b2684fb1810497c33fc04cea",
       "version_major": 2,
       "version_minor": 0
      },
      "text/plain": [
       "EBM round-robin cycles:   0%|          | 0/1000 [00:00<?, ?it/s]"
      ]
     },
     "metadata": {},
     "output_type": "display_data"
    },
    {
     "data": {
      "application/vnd.jupyter.widget-view+json": {
       "model_id": "85acb1a38e9f495e853870677835a06f",
       "version_major": 2,
       "version_minor": 0
      },
      "text/plain": [
       "EBM round-robin cycles:   0%|          | 0/1000 [00:00<?, ?it/s]"
      ]
     },
     "metadata": {},
     "output_type": "display_data"
    },
    {
     "data": {
      "application/vnd.jupyter.widget-view+json": {
       "model_id": "a652e49838ab49a6b6eab0e88c81db35",
       "version_major": 2,
       "version_minor": 0
      },
      "text/plain": [
       "EBM round-robin cycles:   0%|          | 0/1000 [00:00<?, ?it/s]"
      ]
     },
     "metadata": {},
     "output_type": "display_data"
    },
    {
     "data": {
      "application/vnd.jupyter.widget-view+json": {
       "model_id": "c608f83d720647d3857cbe56e78b1fe8",
       "version_major": 2,
       "version_minor": 0
      },
      "text/plain": [
       "EBM round-robin cycles:   0%|          | 0/1000 [00:00<?, ?it/s]"
      ]
     },
     "metadata": {},
     "output_type": "display_data"
    },
    {
     "data": {
      "application/vnd.jupyter.widget-view+json": {
       "model_id": "d2ea9336b9a447f89e59ec12dadcdf29",
       "version_major": 2,
       "version_minor": 0
      },
      "text/plain": [
       "EBM round-robin cycles:   0%|          | 0/1000 [00:00<?, ?it/s]"
      ]
     },
     "metadata": {},
     "output_type": "display_data"
    },
    {
     "data": {
      "application/vnd.jupyter.widget-view+json": {
       "model_id": "30ccdc7c10b847ad82c1fc17a0870181",
       "version_major": 2,
       "version_minor": 0
      },
      "text/plain": [
       "HBox(children=(VBox(children=(HTML(value='<b>Details:</b>'), Output()), layout=Layout(margin='0 0 0 20px', wid…"
      ]
     },
     "metadata": {},
     "output_type": "display_data"
    }
   ],
   "source": [
    "analyzer = GroupPerformanceAnalyzer(\n",
    "    male_model, female_model, normal_model,\n",
    "    X_train, y_train, features,\n",
    "    combine_strategy=\"pre\", metric=\"log_likelihood\"\n",
    ")\n",
    "analyzer.generate_plot(N=10)"
   ]
  },
  {
   "cell_type": "markdown",
   "metadata": {},
   "source": [
    "# Taiwan dataset:"
   ]
  },
  {
   "cell_type": "code",
   "execution_count": 11,
   "metadata": {},
   "outputs": [
    {
     "data": {
      "application/vnd.jupyter.widget-view+json": {
       "model_id": "7f7e8c4b795340c5a70d7758505ddd11",
       "version_major": 2,
       "version_minor": 0
      },
      "text/plain": [
       "EBM round-robin cycles:   0%|          | 0/100 [00:00<?, ?it/s]"
      ]
     },
     "metadata": {},
     "output_type": "display_data"
    },
    {
     "data": {
      "application/vnd.jupyter.widget-view+json": {
       "model_id": "1cbdd22302064c2e92c51b22e89f7aa7",
       "version_major": 2,
       "version_minor": 0
      },
      "text/plain": [
       "EBM round-robin cycles:   0%|          | 0/100 [00:00<?, ?it/s]"
      ]
     },
     "metadata": {},
     "output_type": "display_data"
    },
    {
     "data": {
      "application/vnd.jupyter.widget-view+json": {
       "model_id": "3a6a0e6134974549a7bbd0f3934d9c11",
       "version_major": 2,
       "version_minor": 0
      },
      "text/plain": [
       "EBM round-robin cycles:   0%|          | 0/100 [00:00<?, ?it/s]"
      ]
     },
     "metadata": {},
     "output_type": "display_data"
    }
   ],
   "source": [
    "data = pd.read_csv(\"data/UCI_Credit_Card.csv\")\n",
    "data = data.drop(columns=[\"ID\"])\n",
    "data = data.rename(columns={\"default.payment.next.month\": \"default\"})\n",
    "\n",
    "X = data.drop(columns=[\"default\"])\n",
    "y = data[\"default\"]\n",
    "\n",
    "# Remap 'SEX' feature to 1 and 0\n",
    "X['SEX'] = X['SEX'].map({1: 1, 2: 0})\n",
    "\n",
    "\n",
    "# Label encode categorical features:\n",
    "le = LabelEncoder()\n",
    "for col in X.select_dtypes(include=\"object\").columns:\n",
    "    X[col] = le.fit_transform(X[col])\n",
    "\n",
    "\n",
    "X_train, X_test, y_train, y_test = train_test_split(X, y, test_size=0.2, random_state=42)\n",
    "\n",
    "# Create gender-specific sample weights\n",
    "male_weights = (X_train['SEX'] == 1).astype(float)\n",
    "female_weights = (X_train['SEX'] == 0).astype(float)\n",
    "\n",
    "# Train models\n",
    "male_model = EBMClassifier(n_cycles=100, learning_rate=0.1, n_bins=256, max_depth=3, smoothing_window=11, binning_strategy=\"uniform\")\n",
    "male_model.fit(X_train, y_train, sample_weight=male_weights)\n",
    "male_model.set_feature_names(X.columns)\n",
    "\n",
    "female_model = EBMClassifier(n_cycles=100, learning_rate=0.1, n_bins=256, max_depth=3, smoothing_window=11, binning_strategy=\"uniform\")\n",
    "female_model.fit(X_train, y_train, sample_weight=female_weights)\n",
    "female_model.set_feature_names(X.columns)\n",
    "\n",
    "normal_model = EBMClassifier(n_cycles=100, learning_rate=0.1, n_bins=256, max_depth=3, smoothing_window=11, binning_strategy=\"uniform\")\n",
    "normal_model.fit(X_train, y_train)\n",
    "normal_model.set_feature_names(X.columns)\n"
   ]
  },
  {
   "cell_type": "markdown",
   "metadata": {},
   "source": [
    "### Taiwan - weights used to combine the pure male and pure female models"
   ]
  },
  {
   "cell_type": "code",
   "execution_count": 15,
   "metadata": {},
   "outputs": [
    {
     "data": {
      "application/vnd.jupyter.widget-view+json": {
       "model_id": "1ce453cae5b24bb9acae7c12d85de90a",
       "version_major": 2,
       "version_minor": 0
      },
      "text/plain": [
       "Evaluating combinations:   0%|          | 0/100 [00:00<?, ?it/s]"
      ]
     },
     "metadata": {},
     "output_type": "display_data"
    },
    {
     "data": {
      "application/vnd.jupyter.widget-view+json": {
       "model_id": "35e008019d6c4121a0b195c0a5e978bc",
       "version_major": 2,
       "version_minor": 0
      },
      "text/plain": [
       "HBox(children=(VBox(children=(HTML(value='<b>Details:</b>'), Output()), layout=Layout(margin='0 0 0 20px', wid…"
      ]
     },
     "metadata": {},
     "output_type": "display_data"
    }
   ],
   "source": [
    "analyzer = GroupPerformanceAnalyzer(\n",
    "    male_model, female_model, normal_model,\n",
    "    X_train, y_train,\n",
    "    features=X.columns,\n",
    "    feature_of_interest='SEX',\n",
    "    combine_strategy=\"post\", metric=\"log_likelihood\"\n",
    ")\n",
    "analyzer.generate_plot(N=100)"
   ]
  },
  {
   "cell_type": "markdown",
   "metadata": {},
   "source": [
    "### Taiwan - weights used as sample weights in the training step"
   ]
  },
  {
   "cell_type": "code",
   "execution_count": 12,
   "metadata": {},
   "outputs": [
    {
     "data": {
      "application/vnd.jupyter.widget-view+json": {
       "model_id": "124dbb88a7254e93b3348fb34aca39c9",
       "version_major": 2,
       "version_minor": 0
      },
      "text/plain": [
       "EBM round-robin cycles:   0%|          | 0/1000 [00:00<?, ?it/s]"
      ]
     },
     "metadata": {},
     "output_type": "display_data"
    },
    {
     "data": {
      "application/vnd.jupyter.widget-view+json": {
       "model_id": "8c155d9c3c5b430cb79599f47969fce3",
       "version_major": 2,
       "version_minor": 0
      },
      "text/plain": [
       "EBM round-robin cycles:   0%|          | 0/1000 [00:00<?, ?it/s]"
      ]
     },
     "metadata": {},
     "output_type": "display_data"
    },
    {
     "data": {
      "application/vnd.jupyter.widget-view+json": {
       "model_id": "7727cc85b4d84e1d814d71417059deb4",
       "version_major": 2,
       "version_minor": 0
      },
      "text/plain": [
       "EBM round-robin cycles:   0%|          | 0/1000 [00:00<?, ?it/s]"
      ]
     },
     "metadata": {},
     "output_type": "display_data"
    },
    {
     "data": {
      "application/vnd.jupyter.widget-view+json": {
       "model_id": "bd5af46cf5bb4dfda90dc94584e4eb3e",
       "version_major": 2,
       "version_minor": 0
      },
      "text/plain": [
       "EBM round-robin cycles:   0%|          | 0/1000 [00:00<?, ?it/s]"
      ]
     },
     "metadata": {},
     "output_type": "display_data"
    },
    {
     "data": {
      "application/vnd.jupyter.widget-view+json": {
       "model_id": "52363c289ad34650a8c47218ec581148",
       "version_major": 2,
       "version_minor": 0
      },
      "text/plain": [
       "EBM round-robin cycles:   0%|          | 0/1000 [00:00<?, ?it/s]"
      ]
     },
     "metadata": {},
     "output_type": "display_data"
    },
    {
     "data": {
      "application/vnd.jupyter.widget-view+json": {
       "model_id": "06e970c240aa4400a35f7f47f9f140ce",
       "version_major": 2,
       "version_minor": 0
      },
      "text/plain": [
       "HBox(children=(VBox(children=(HTML(value='<b>Details:</b>'), Output()), layout=Layout(margin='0 0 0 20px', wid…"
      ]
     },
     "metadata": {},
     "output_type": "display_data"
    }
   ],
   "source": [
    "analyzer = GroupPerformanceAnalyzer(\n",
    "    male_model, female_model, normal_model,\n",
    "    X_train, y_train,\n",
    "    features=X.columns,\n",
    "    feature_of_interest='SEX',\n",
    "    combine_strategy=\"pre\", metric=\"accuracy\"\n",
    ")\n",
    "analyzer.generate_plot(N=3)"
   ]
  }
 ],
 "metadata": {
  "kernelspec": {
   "display_name": "Python 3",
   "language": "python",
   "name": "python3"
  },
  "language_info": {
   "codemirror_mode": {
    "name": "ipython",
    "version": 3
   },
   "file_extension": ".py",
   "mimetype": "text/x-python",
   "name": "python",
   "nbconvert_exporter": "python",
   "pygments_lexer": "ipython3",
   "version": "3.10.12"
  }
 },
 "nbformat": 4,
 "nbformat_minor": 2
}
